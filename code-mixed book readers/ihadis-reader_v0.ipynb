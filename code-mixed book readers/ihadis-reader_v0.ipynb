{
 "cells": [
  {
   "cell_type": "code",
   "execution_count": 1,
   "metadata": {
    "_cell_guid": "b1076dfc-b9ad-4769-8c92-a6c4dae69d19",
    "_uuid": "8f2839f25d086af736a60e9eeb907d3b93b6e0e5",
    "execution": {
     "iopub.execute_input": "2022-11-18T16:42:13.494798Z",
     "iopub.status.busy": "2022-11-18T16:42:13.494308Z",
     "iopub.status.idle": "2022-11-18T16:48:13.102459Z",
     "shell.execute_reply": "2022-11-18T16:48:13.101099Z"
    },
    "papermill": {
     "duration": 359.618673,
     "end_time": "2022-11-18T16:48:13.105236",
     "exception": false,
     "start_time": "2022-11-18T16:42:13.486563",
     "status": "completed"
    },
    "tags": []
   },
   "outputs": [
    {
     "name": "stdout",
     "output_type": "stream",
     "text": [
      "Fri Dec 16 01:45:52 2022       \r\n",
      "+-----------------------------------------------------------------------------+\r\n",
      "| NVIDIA-SMI 515.65.01    Driver Version: 515.65.01    CUDA Version: 11.7     |\r\n",
      "|-------------------------------+----------------------+----------------------+\r\n",
      "| GPU  Name        Persistence-M| Bus-Id        Disp.A | Volatile Uncorr. ECC |\r\n",
      "| Fan  Temp  Perf  Pwr:Usage/Cap|         Memory-Usage | GPU-Util  Compute M. |\r\n",
      "|                               |                      |               MIG M. |\r\n",
      "|===============================+======================+======================|\r\n",
      "|   0  NVIDIA RTX A6000    Off  | 00000000:65:00.0 Off |                  Off |\r\n",
      "| 30%   36C    P8    28W / 300W |   7171MiB / 49140MiB |     11%      Default |\r\n",
      "|                               |                      |                  N/A |\r\n",
      "+-------------------------------+----------------------+----------------------+\r\n",
      "                                                                               \r\n",
      "+-----------------------------------------------------------------------------+\r\n",
      "| Processes:                                                                  |\r\n",
      "|  GPU   GI   CI        PID   Type   Process name                  GPU Memory |\r\n",
      "|        ID   ID                                                   Usage      |\r\n",
      "|=============================================================================|\r\n",
      "|    0   N/A  N/A      1545      G   /usr/lib/xorg/Xorg                 38MiB |\r\n",
      "|    0   N/A  N/A      1797      G   /usr/bin/gnome-shell                7MiB |\r\n",
      "|    0   N/A  N/A   1742818      C   ...envs/mobassir/bin/python3     2329MiB |\r\n",
      "|    0   N/A  N/A   1746821      C   ...envs/mobassir/bin/python3     1417MiB |\r\n",
      "|    0   N/A  N/A   2288759    C+G   ...501084646598437155,131072      125MiB |\r\n",
      "|    0   N/A  N/A   2478058      C   python                           3249MiB |\r\n",
      "+-----------------------------------------------------------------------------+\r\n"
     ]
    }
   ],
   "source": [
    "''' \n",
    "%%capture\n",
    "\n",
    "#! pip install -U pip\n",
    "! pip install TTS==0.8.0\n",
    "! pip install bnnumerizer==0.0.2\n",
    "! pip install bangla==0.0.2\n",
    "! pip install gdown==4.5.1\n",
    "! pip install bnunicodenormalizer==0.1.1\n",
    "! pip install PyArabic==0.6.15\n",
    "#! pip install pydub\n",
    "! pip install Unidecode==1.3.6\n",
    "#! pip install numpy\n",
    "!pip install pydload==1.0.9\n",
    "\n",
    "!pip install mishkal==0.4.1\n",
    "!pip install codernitydb3==0.6.0\n",
    "!pip install --upgrade --no-cache-dir gdown\n",
    "!git clone https://github.com/ARBML/klaam\n",
    "'''\n",
    "\n",
    "!nvidia-smi"
   ]
  },
  {
   "cell_type": "code",
   "execution_count": 2,
   "metadata": {
    "execution": {
     "iopub.execute_input": "2022-11-18T16:48:13.117110Z",
     "iopub.status.busy": "2022-11-18T16:48:13.116806Z",
     "iopub.status.idle": "2022-11-18T16:48:13.171218Z",
     "shell.execute_reply": "2022-11-18T16:48:13.169990Z"
    },
    "papermill": {
     "duration": 0.062647,
     "end_time": "2022-11-18T16:48:13.173484",
     "exception": false,
     "start_time": "2022-11-18T16:48:13.110837",
     "status": "completed"
    },
    "tags": []
   },
   "outputs": [],
   "source": [
    "import os\n",
    "import sys\n",
    "import pandas as pd\n",
    "import numpy as np\n",
    "import bangla\n",
    "import re\n",
    "import soundfile as sf\n",
    "\n",
    "from bnnumerizer import numerize\n",
    "\n",
    "run_multilingual_tts = True\n"
   ]
  },
  {
   "cell_type": "markdown",
   "metadata": {
    "papermill": {
     "duration": 0.004514,
     "end_time": "2022-11-18T16:48:13.183003",
     "exception": false,
     "start_time": "2022-11-18T16:48:13.178489",
     "status": "completed"
    },
    "tags": []
   },
   "source": [
    "[Dataset link](https://www.kaggle.com/datasets/nazmuddhohaansary/i-hadith-all-books)"
   ]
  },
  {
   "cell_type": "code",
   "execution_count": 3,
   "metadata": {},
   "outputs": [
    {
     "name": "stdout",
     "output_type": "stream",
     "text": [
      "100-mashhur-hadis.csv\tdaif-hadis-in-mishkat.csv  riadus-saalehin.csv\r\n",
      "40-hadis.csv\t\thadis-somvar.csv\t   romjaner-durbol-hadis.csv\r\n",
      "abi-dawud.csv\t\tibn-majah.csv\t\t   sahih-fajayele-amal.csv\r\n",
      "adabul-mufrad.csv\tjal-daif-hadis-serise.csv  sahih-hadise-kudsi.csv\r\n",
      "al-lulu-wal-marjan.csv\tjuj-ul-rafaul-yadain.csv   shamayele-tirmidi.csv\r\n",
      "bukhari.csv\t\tmishkatul-masabih.csv\t   silsila-sahiha.csv\r\n",
      "bukhari_last_two.csv\tmuatta-malik.csv\t   targib-wat-tahrib.csv\r\n",
      "bulugul-maram.csv\tmuslim.csv\t\t   tirmidi.csv\r\n",
      "combined.csv\t\tnasayi.csv\t\t   upodesh.csv\r\n"
     ]
    }
   ],
   "source": [
    "!ls ./ihadith/csvs/"
   ]
  },
  {
   "cell_type": "code",
   "execution_count": 4,
   "metadata": {
    "execution": {
     "iopub.execute_input": "2022-11-18T16:48:13.194096Z",
     "iopub.status.busy": "2022-11-18T16:48:13.193788Z",
     "iopub.status.idle": "2022-11-18T16:48:13.265293Z",
     "shell.execute_reply": "2022-11-18T16:48:13.264250Z"
    },
    "papermill": {
     "duration": 0.080069,
     "end_time": "2022-11-18T16:48:13.268116",
     "exception": false,
     "start_time": "2022-11-18T16:48:13.188047",
     "status": "completed"
    },
    "tags": []
   },
   "outputs": [
    {
     "name": "stdout",
     "output_type": "stream",
     "text": [
      "36\n"
     ]
    },
    {
     "data": {
      "text/html": [
       "<div>\n",
       "<style scoped>\n",
       "    .dataframe tbody tr th:only-of-type {\n",
       "        vertical-align: middle;\n",
       "    }\n",
       "\n",
       "    .dataframe tbody tr th {\n",
       "        vertical-align: top;\n",
       "    }\n",
       "\n",
       "    .dataframe thead th {\n",
       "        text-align: right;\n",
       "    }\n",
       "</style>\n",
       "<table border=\"1\" class=\"dataframe\">\n",
       "  <thead>\n",
       "    <tr style=\"text-align: right;\">\n",
       "      <th></th>\n",
       "      <th>book-name</th>\n",
       "      <th>hadith-no</th>\n",
       "      <th>chapter-name</th>\n",
       "      <th>header</th>\n",
       "      <th>preface</th>\n",
       "      <th>arabic</th>\n",
       "      <th>narrator</th>\n",
       "      <th>bangla</th>\n",
       "      <th>explanation</th>\n",
       "      <th>extra-note</th>\n",
       "      <th>validity</th>\n",
       "    </tr>\n",
       "  </thead>\n",
       "  <tbody>\n",
       "    <tr>\n",
       "      <th>0</th>\n",
       "      <td>রমযান বিষয়ে জাল ও দুর্বল হাদিসসমূহ</td>\n",
       "      <td>1</td>\n",
       "      <td>রমযান বিষয়ে জাল ও দুর্বল হাদিসসমূহ</td>\n",
       "      <td>পরিচ্ছেদঃ</td>\n",
       "      <td>রমযান বিষয়ে জাল ও দুর্বল হাদিসসমূহ</td>\n",
       "      <td>اللهم بارك لنا في رجب وشعبان وبلغنا رمضان .</td>\n",
       "      <td>বর্ণনাকারী থেকে বর্ণিতঃ</td>\n",
       "      <td>রমযান কাছে এলে আমরা অনেকে নিম্নের দোয়াটি পড়ি, ...</td>\n",
       "      <td>অনুপস্থিত।</td>\n",
       "      <td>হাদিসের সনদ:\\nএ হাদিসের সনদে দু’টি দোষ বা সমস্...</td>\n",
       "      <td>মুনকার</td>\n",
       "    </tr>\n",
       "    <tr>\n",
       "      <th>1</th>\n",
       "      <td>রমযান বিষয়ে জাল ও দুর্বল হাদিসসমূহ</td>\n",
       "      <td>2</td>\n",
       "      <td>রমযান বিষয়ে জাল ও দুর্বল হাদিসসমূহ</td>\n",
       "      <td>পরিচ্ছেদঃ</td>\n",
       "      <td>রমযান বিষয়ে জাল ও দুর্বল হাদিসসমূহ</td>\n",
       "      <td>شهر رمضان أوله رحمه و أوسطه مغفرة و آخره عتق م...</td>\n",
       "      <td>বর্ণনাকারী থেকে বর্ণিতঃ</td>\n",
       "      <td>“রমযান মাসের প্রথম অংশ রহমত, মধ্যম অংশ মাগফেরা...</td>\n",
       "      <td>অনুপস্থিত।</td>\n",
       "      <td>দেখুন: “কিতাবুদ দুয়াফা” লিল উকাইলি: (২/১৬২), “...</td>\n",
       "      <td>মুনকার</td>\n",
       "    </tr>\n",
       "    <tr>\n",
       "      <th>2</th>\n",
       "      <td>রমযান বিষয়ে জাল ও দুর্বল হাদিসসমূহ</td>\n",
       "      <td>3</td>\n",
       "      <td>রমযান বিষয়ে জাল ও দুর্বল হাদিসসমূহ</td>\n",
       "      <td>পরিচ্ছেদঃ</td>\n",
       "      <td>রমযান বিষয়ে জাল ও দুর্বল হাদিসসমূহ</td>\n",
       "      <td>مَنْ أَفْطَرَ يَوْمًا مِنْ رَمَضَانَ مِنْ غَيْ...</td>\n",
       "      <td>বর্ণনাকারী থেকে বর্ণিতঃ</td>\n",
       "      <td>“যে ব্যক্তি কোন কারণ ছাড়া রমযানের একদিন সওম ভঙ...</td>\n",
       "      <td>অনুপস্থিত।</td>\n",
       "      <td>ইমাম বুখারি তার সহিহ গ্রন্থে হাদিসটি টিকা হিসে...</td>\n",
       "      <td>দুর্বল হাদিস</td>\n",
       "    </tr>\n",
       "  </tbody>\n",
       "</table>\n",
       "</div>"
      ],
      "text/plain": [
       "                            book-name  hadith-no  \\\n",
       "0  রমযান বিষয়ে জাল ও দুর্বল হাদিসসমূহ          1   \n",
       "1  রমযান বিষয়ে জাল ও দুর্বল হাদিসসমূহ          2   \n",
       "2  রমযান বিষয়ে জাল ও দুর্বল হাদিসসমূহ          3   \n",
       "\n",
       "                         chapter-name     header  \\\n",
       "0  রমযান বিষয়ে জাল ও দুর্বল হাদিসসমূহ  পরিচ্ছেদঃ   \n",
       "1  রমযান বিষয়ে জাল ও দুর্বল হাদিসসমূহ  পরিচ্ছেদঃ   \n",
       "2  রমযান বিষয়ে জাল ও দুর্বল হাদিসসমূহ  পরিচ্ছেদঃ   \n",
       "\n",
       "                              preface  \\\n",
       "0  রমযান বিষয়ে জাল ও দুর্বল হাদিসসমূহ   \n",
       "1  রমযান বিষয়ে জাল ও দুর্বল হাদিসসমূহ   \n",
       "2  রমযান বিষয়ে জাল ও দুর্বল হাদিসসমূহ   \n",
       "\n",
       "                                              arabic                 narrator  \\\n",
       "0        اللهم بارك لنا في رجب وشعبان وبلغنا رمضان .  বর্ণনাকারী থেকে বর্ণিতঃ   \n",
       "1  شهر رمضان أوله رحمه و أوسطه مغفرة و آخره عتق م...  বর্ণনাকারী থেকে বর্ণিতঃ   \n",
       "2  مَنْ أَفْطَرَ يَوْمًا مِنْ رَمَضَانَ مِنْ غَيْ...  বর্ণনাকারী থেকে বর্ণিতঃ   \n",
       "\n",
       "                                              bangla explanation  \\\n",
       "0  রমযান কাছে এলে আমরা অনেকে নিম্নের দোয়াটি পড়ি, ...  অনুপস্থিত।   \n",
       "1  “রমযান মাসের প্রথম অংশ রহমত, মধ্যম অংশ মাগফেরা...  অনুপস্থিত।   \n",
       "2  “যে ব্যক্তি কোন কারণ ছাড়া রমযানের একদিন সওম ভঙ...  অনুপস্থিত।   \n",
       "\n",
       "                                          extra-note      validity  \n",
       "0  হাদিসের সনদ:\\nএ হাদিসের সনদে দু’টি দোষ বা সমস্...        মুনকার  \n",
       "1  দেখুন: “কিতাবুদ দুয়াফা” লিল উকাইলি: (২/১৬২), “...        মুনকার  \n",
       "2  ইমাম বুখারি তার সহিহ গ্রন্থে হাদিসটি টিকা হিসে...  দুর্বল হাদিস  "
      ]
     },
     "execution_count": 4,
     "metadata": {},
     "output_type": "execute_result"
    }
   ],
   "source": [
    "hadis = pd.read_csv('./ihadith/csvs/romjaner-durbol-hadis.csv')\n",
    "is_arabic = False\n",
    "hadis = hadis.replace(np.nan, 'অনুপস্থিত।', regex=True)\n",
    "dir_name = 'romjaner_durbol_hadis_wavs'\n",
    "print(len(hadis))\n",
    "hadis.head(3)"
   ]
  },
  {
   "cell_type": "code",
   "execution_count": 5,
   "metadata": {
    "execution": {
     "iopub.execute_input": "2022-11-18T16:48:13.280491Z",
     "iopub.status.busy": "2022-11-18T16:48:13.280182Z",
     "iopub.status.idle": "2022-11-18T16:48:13.289369Z",
     "shell.execute_reply": "2022-11-18T16:48:13.288466Z"
    },
    "papermill": {
     "duration": 0.017616,
     "end_time": "2022-11-18T16:48:13.291288",
     "exception": false,
     "start_time": "2022-11-18T16:48:13.273672",
     "status": "completed"
    },
    "tags": []
   },
   "outputs": [
    {
     "name": "stdout",
     "output_type": "stream",
     "text": [
      "36\n"
     ]
    },
    {
     "data": {
      "text/plain": [
       "0.0"
      ]
     },
     "execution_count": 5,
     "metadata": {},
     "output_type": "execute_result"
    }
   ],
   "source": [
    "print(len(hadis))\n",
    "hadis['explanation'].isnull().mean() * 100"
   ]
  },
  {
   "cell_type": "code",
   "execution_count": 6,
   "metadata": {
    "execution": {
     "iopub.execute_input": "2022-11-18T16:48:13.303612Z",
     "iopub.status.busy": "2022-11-18T16:48:13.302818Z",
     "iopub.status.idle": "2022-11-18T16:48:13.309370Z",
     "shell.execute_reply": "2022-11-18T16:48:13.308467Z"
    },
    "papermill": {
     "duration": 0.014943,
     "end_time": "2022-11-18T16:48:13.311334",
     "exception": false,
     "start_time": "2022-11-18T16:48:13.296391",
     "status": "completed"
    },
    "tags": []
   },
   "outputs": [
    {
     "data": {
      "text/plain": [
       "0.0"
      ]
     },
     "execution_count": 6,
     "metadata": {},
     "output_type": "execute_result"
    }
   ],
   "source": [
    "hadis['extra-note'].isnull().mean() * 100"
   ]
  },
  {
   "cell_type": "code",
   "execution_count": 7,
   "metadata": {
    "execution": {
     "iopub.execute_input": "2022-11-18T16:48:13.323355Z",
     "iopub.status.busy": "2022-11-18T16:48:13.322583Z",
     "iopub.status.idle": "2022-11-18T16:48:13.329237Z",
     "shell.execute_reply": "2022-11-18T16:48:13.328173Z"
    },
    "papermill": {
     "duration": 0.014727,
     "end_time": "2022-11-18T16:48:13.331145",
     "exception": false,
     "start_time": "2022-11-18T16:48:13.316418",
     "status": "completed"
    },
    "tags": []
   },
   "outputs": [
    {
     "data": {
      "text/plain": [
       "False"
      ]
     },
     "execution_count": 7,
     "metadata": {},
     "output_type": "execute_result"
    }
   ],
   "source": [
    "hadis['extra-note'][3] != hadis['extra-note'][3]"
   ]
  },
  {
   "cell_type": "code",
   "execution_count": 8,
   "metadata": {
    "execution": {
     "iopub.execute_input": "2022-11-18T16:48:13.416472Z",
     "iopub.status.busy": "2022-11-18T16:48:13.415725Z",
     "iopub.status.idle": "2022-11-18T16:48:13.429022Z",
     "shell.execute_reply": "2022-11-18T16:48:13.427967Z"
    },
    "papermill": {
     "duration": 0.021233,
     "end_time": "2022-11-18T16:48:13.431093",
     "exception": false,
     "start_time": "2022-11-18T16:48:13.409860",
     "status": "completed"
    },
    "tags": []
   },
   "outputs": [
    {
     "data": {
      "text/html": [
       "<div>\n",
       "<style scoped>\n",
       "    .dataframe tbody tr th:only-of-type {\n",
       "        vertical-align: middle;\n",
       "    }\n",
       "\n",
       "    .dataframe tbody tr th {\n",
       "        vertical-align: top;\n",
       "    }\n",
       "\n",
       "    .dataframe thead th {\n",
       "        text-align: right;\n",
       "    }\n",
       "</style>\n",
       "<table border=\"1\" class=\"dataframe\">\n",
       "  <thead>\n",
       "    <tr style=\"text-align: right;\">\n",
       "      <th></th>\n",
       "      <th>book-name</th>\n",
       "      <th>hadith-no</th>\n",
       "      <th>chapter-name</th>\n",
       "      <th>header</th>\n",
       "      <th>preface</th>\n",
       "      <th>arabic</th>\n",
       "      <th>narrator</th>\n",
       "      <th>bangla</th>\n",
       "      <th>explanation</th>\n",
       "      <th>extra-note</th>\n",
       "      <th>validity</th>\n",
       "    </tr>\n",
       "  </thead>\n",
       "  <tbody>\n",
       "    <tr>\n",
       "      <th>0</th>\n",
       "      <td>রমযান বিষয়ে জাল ও দুর্বল হাদিসসমূহ</td>\n",
       "      <td>1</td>\n",
       "      <td>রমযান বিষয়ে জাল ও দুর্বল হাদিসসমূহ</td>\n",
       "      <td>পরিচ্ছেদঃ</td>\n",
       "      <td>রমযান বিষয়ে জাল ও দুর্বল হাদিসসমূহ</td>\n",
       "      <td>اللهم بارك لنا في رجب وشعبان وبلغنا رمضان .</td>\n",
       "      <td>বর্ণনাকারী থেকে বর্ণিতঃ</td>\n",
       "      <td>রমযান কাছে এলে আমরা অনেকে নিম্নের দোয়াটি পড়ি, ...</td>\n",
       "      <td>অনুপস্থিত।</td>\n",
       "      <td>হাদিসের সনদ:\\nএ হাদিসের সনদে দু’টি দোষ বা সমস্...</td>\n",
       "      <td>মুনকার</td>\n",
       "    </tr>\n",
       "    <tr>\n",
       "      <th>1</th>\n",
       "      <td>রমযান বিষয়ে জাল ও দুর্বল হাদিসসমূহ</td>\n",
       "      <td>2</td>\n",
       "      <td>রমযান বিষয়ে জাল ও দুর্বল হাদিসসমূহ</td>\n",
       "      <td>পরিচ্ছেদঃ</td>\n",
       "      <td>রমযান বিষয়ে জাল ও দুর্বল হাদিসসমূহ</td>\n",
       "      <td>شهر رمضان أوله رحمه و أوسطه مغفرة و آخره عتق م...</td>\n",
       "      <td>বর্ণনাকারী থেকে বর্ণিতঃ</td>\n",
       "      <td>“রমযান মাসের প্রথম অংশ রহমত, মধ্যম অংশ মাগফেরা...</td>\n",
       "      <td>অনুপস্থিত।</td>\n",
       "      <td>দেখুন: “কিতাবুদ দুয়াফা” লিল উকাইলি: (২/১৬২), “...</td>\n",
       "      <td>মুনকার</td>\n",
       "    </tr>\n",
       "  </tbody>\n",
       "</table>\n",
       "</div>"
      ],
      "text/plain": [
       "                            book-name  hadith-no  \\\n",
       "0  রমযান বিষয়ে জাল ও দুর্বল হাদিসসমূহ          1   \n",
       "1  রমযান বিষয়ে জাল ও দুর্বল হাদিসসমূহ          2   \n",
       "\n",
       "                         chapter-name     header  \\\n",
       "0  রমযান বিষয়ে জাল ও দুর্বল হাদিসসমূহ  পরিচ্ছেদঃ   \n",
       "1  রমযান বিষয়ে জাল ও দুর্বল হাদিসসমূহ  পরিচ্ছেদঃ   \n",
       "\n",
       "                              preface  \\\n",
       "0  রমযান বিষয়ে জাল ও দুর্বল হাদিসসমূহ   \n",
       "1  রমযান বিষয়ে জাল ও দুর্বল হাদিসসমূহ   \n",
       "\n",
       "                                              arabic                 narrator  \\\n",
       "0        اللهم بارك لنا في رجب وشعبان وبلغنا رمضان .  বর্ণনাকারী থেকে বর্ণিতঃ   \n",
       "1  شهر رمضان أوله رحمه و أوسطه مغفرة و آخره عتق م...  বর্ণনাকারী থেকে বর্ণিতঃ   \n",
       "\n",
       "                                              bangla explanation  \\\n",
       "0  রমযান কাছে এলে আমরা অনেকে নিম্নের দোয়াটি পড়ি, ...  অনুপস্থিত।   \n",
       "1  “রমযান মাসের প্রথম অংশ রহমত, মধ্যম অংশ মাগফেরা...  অনুপস্থিত।   \n",
       "\n",
       "                                          extra-note validity  \n",
       "0  হাদিসের সনদ:\\nএ হাদিসের সনদে দু’টি দোষ বা সমস্...   মুনকার  \n",
       "1  দেখুন: “কিতাবুদ দুয়াফা” লিল উকাইলি: (২/১৬২), “...   মুনকার  "
      ]
     },
     "execution_count": 8,
     "metadata": {},
     "output_type": "execute_result"
    }
   ],
   "source": [
    "hadis.head(2)"
   ]
  },
  {
   "cell_type": "code",
   "execution_count": 9,
   "metadata": {
    "execution": {
     "iopub.execute_input": "2022-11-18T16:48:13.444118Z",
     "iopub.status.busy": "2022-11-18T16:48:13.443246Z",
     "iopub.status.idle": "2022-11-18T16:48:13.451909Z",
     "shell.execute_reply": "2022-11-18T16:48:13.450998Z"
    },
    "papermill": {
     "duration": 0.017007,
     "end_time": "2022-11-18T16:48:13.453865",
     "exception": false,
     "start_time": "2022-11-18T16:48:13.436858",
     "status": "completed"
    },
    "tags": []
   },
   "outputs": [
    {
     "data": {
      "text/plain": [
       "'রমযান বিষয়ে জাল ও দুর্বল হাদিসসমূহ,, অধ্যায়ের নাম রমযান বিষয়ে জাল ও দুর্বল হাদিসসমূহ।অধ্যায় থেকে 1 নম্বর হাদিস পাঠ করছি, হাদিসের মানঃ মুনকার যা বর্ণনা করেছিল বর্ণনাকারী থেকে বর্ণিতঃ।اللهم بارك لنا في رجب وشعبان وبلغنا رمضان .রমযান কাছে এলে আমরা অনেকে নিম্নের দোয়াটি পড়ি, তবে এমন লোক খুব কম আছি যারা এর শুদ্ধতা ও অশুদ্ধতা সম্পর্কে অবগত-“হে আল্লাহ, আপনি রজব ও শাবান মাসে আমাদের জন্য বরকত রাখুন এবং আমাদেরকে রমযান পর্যন্ত পৌঁছার তাওফিক দিন”।'"
      ]
     },
     "execution_count": 9,
     "metadata": {},
     "output_type": "execute_result"
    }
   ],
   "source": [
    "i=0\n",
    "# bn_hadith = hadis.iloc[i]['book-name'] + \",\"+hadis.iloc[i]['header']+\" ভূমিকা পড়ছি।\"+hadis.iloc[i]['preface']+\", অধ্যায়ের নাম \"+hadis.iloc[i]['chapter-name'] + \"।অধ্যায় থেকে \" +  str(hadis.iloc[i]['hadith-no']) + \" নম্বর হাদিস পাঠ করছি, হাদিসের মানঃ \"+ hadis.iloc[i]['validity']+\" যা বর্ণনা করেছিল \"+hadis.iloc[i]['narrator']+'।'+hadis.iloc[i]['bangla']\n",
    "\n",
    "bn_hadith = hadis.iloc[i]['book-name'] + \",\"+\", অধ্যায়ের নাম \"+hadis.iloc[i]['chapter-name'] + \"।অধ্যায় থেকে \" +  str(hadis.iloc[i]['hadith-no']) + \" নম্বর হাদিস পাঠ করছি, হাদিসের মানঃ \"+ hadis.iloc[i]['validity']+\" যা বর্ণনা করেছিল \"+hadis.iloc[i]['narrator']+'।'+hadis.iloc[i]['arabic']+hadis.iloc[i]['bangla']  \n",
    "bn_hadith"
   ]
  },
  {
   "cell_type": "code",
   "execution_count": 10,
   "metadata": {},
   "outputs": [
    {
     "name": "stdout",
     "output_type": "stream",
     "text": [
      "1\n"
     ]
    },
    {
     "data": {
      "text/plain": [
       "array(['রমযান বিষয়ে জাল ও দুর্বল হাদিসসমূহ'], dtype=object)"
      ]
     },
     "execution_count": 10,
     "metadata": {},
     "output_type": "execute_result"
    }
   ],
   "source": [
    "unqiue_chapters = hadis['chapter-name'].unique()\n",
    "print(len(unqiue_chapters))\n",
    "unqiue_chapters"
   ]
  },
  {
   "cell_type": "code",
   "execution_count": 11,
   "metadata": {},
   "outputs": [],
   "source": [
    "# stored = os.listdir(f'{dir_name}')\n",
    "# stored"
   ]
  },
  {
   "cell_type": "code",
   "execution_count": 12,
   "metadata": {
    "execution": {
     "iopub.execute_input": "2022-11-18T16:49:09.207459Z",
     "iopub.status.busy": "2022-11-18T16:49:09.206214Z",
     "iopub.status.idle": "2022-11-18T16:49:09.216360Z",
     "shell.execute_reply": "2022-11-18T16:49:09.215496Z"
    },
    "papermill": {
     "duration": 0.020227,
     "end_time": "2022-11-18T16:49:09.218518",
     "exception": false,
     "start_time": "2022-11-18T16:49:09.198291",
     "status": "completed"
    },
    "tags": []
   },
   "outputs": [],
   "source": [
    "# broken_chapter = 'পোশাক-পরিচ্ছদ.wav'\n",
    "def mlt_reader(hadis):\n",
    "    bn_audio = []\n",
    "#     curr_chapter = '১'\n",
    "    for i in range(len(hadis)):\n",
    "        ''' \n",
    "        chapter = hadis.iloc[i].header.split('/')\n",
    "        chapter[0] = chapter[0].replace('.','')\n",
    "        if(chapter[0] != curr_chapter):\n",
    "            curr_chapter = chapter[0]\n",
    "            bn_audio = []\n",
    "        \n",
    "        chapter_number = int(chapter[0])\n",
    "        '''\n",
    "        \n",
    "        book = hadis.iloc[i]['chapter-name'].replace(' ','_').replace('/','_')\n",
    "        book = re.sub('\\u200c', '', book)\n",
    "        \n",
    "        is_this_file_exist = book+'.wav'\n",
    "#         if(is_this_file_exist in stored):\n",
    "#             continue\n",
    "            \n",
    "       \n",
    "#         if(broken_chapter != is_this_file_exist):\n",
    "#             continue\n",
    "#         if(hadis.iloc[i]['hadith-no'] <= 5898):\n",
    "#             continue\n",
    "#         print(\"working on \",hadis.iloc[i]['hadith-no'], book)\n",
    "        \n",
    "#         book = re.sub(r'[\\\\*?,:()&\"<>|\\‘\\’\\”]',\"_\",book)\n",
    "#         bn_hadith = hadis.iloc[i]['book-name'] + \",\"+hadis.iloc[i]['header']+\" ভূমিকা পড়ছি।\"+hadis.iloc[i]['preface']+\", অধ্যায়ের নাম \"+hadis.iloc[i]['chapter-name'] + \"।অধ্যায় থেকে \" +  str(hadis.iloc[i]['hadith-no']) + \" নম্বর হাদিস পাঠ করছি, হাদিসের মানঃ \"+ hadis.iloc[i]['validity']+\" যা বর্ণনা করেছিল \"+hadis.iloc[i]['narrator']+'।'+hadis.iloc[i]['bangla']\n",
    "        if(is_arabic):\n",
    "            if(('অনুপস্থিত' in str(hadis.iloc[i]['arabic'])) and ('অনুপস্থিত' in str(hadis.iloc[i]['preface']))):\n",
    "                bn_hadith = str(hadis.iloc[i]['book-name']) + \",\"+\", অধ্যায়ের নাম \"+ str(hadis.iloc[i]['chapter-name']) + \" অধ্যায় থেকে \" +  str(hadis.iloc[i]['hadith-no']) + \" নম্বর হাদিস পাঠ করছি, হাদিসের মানঃ \"+ str(hadis.iloc[i]['validity'])+\" যা বর্ণনা করেছিল \"+ str(hadis.iloc[i]['narrator'])+ str(hadis.iloc[i]['bangla'])        \n",
    "            elif('অনুপস্থিত' in str(hadis.iloc[i]['arabic'])):\n",
    "                bn_hadith = str(hadis.iloc[i]['book-name']) + \",\"+\", অধ্যায়ের নাম \"+ str(hadis.iloc[i]['chapter-name']) + \" অধ্যায় থেকে \" +  str(hadis.iloc[i]['hadith-no']) + \" নম্বর হাদিস পাঠ করছি, হাদিসের মানঃ \"+ str(hadis.iloc[i]['validity'])+\" যা বর্ণনা করেছিল \"+ str(hadis.iloc[i]['narrator'])+ str(hadis.iloc[i]['bangla'])        \n",
    "\n",
    "            elif('অনুপস্থিত' in str(hadis.iloc[i]['preface'])):\n",
    "                bn_hadith = str(hadis.iloc[i]['book-name']) + \",\"+\", অধ্যায়ের নাম \"+ str(hadis.iloc[i]['chapter-name']) + \" অধ্যায় থেকে \" +  str(hadis.iloc[i]['hadith-no']) + \" নম্বর হাদিস পাঠ করছি, হাদিসের মানঃ \"+ str(hadis.iloc[i]['validity'])+\" যা বর্ণনা করেছিল \"+ str(hadis.iloc[i]['narrator'])+ str(hadis.iloc[i]['arabic'])+\" \"+ str(hadis.iloc[i]['bangla'])        \n",
    "            else:\n",
    "                bn_hadith = str(hadis.iloc[i]['book-name']) +\" ভূমিকা পড়ছি।\"+hadis.iloc[i]['preface']+ \",\"+\", অধ্যায়ের নাম \"+ str(hadis.iloc[i]['chapter-name']) + \" অধ্যায় থেকে \" +  str(hadis.iloc[i]['hadith-no']) + \" নম্বর হাদিস পাঠ করছি, হাদিসের মানঃ \"+ str(hadis.iloc[i]['validity'])+\" যা বর্ণনা করেছিল \"+ str(hadis.iloc[i]['narrator'])+ str(hadis.iloc[i]['arabic'])+\" \"+ str(hadis.iloc[i]['bangla'])\n",
    "        \n",
    "        else:\n",
    "            if('অনুপস্থিত' in str(hadis.iloc[i]['preface'])):\n",
    "                bn_hadith = str(hadis.iloc[i]['book-name']) + \",\"+\", অধ্যায়ের নাম \"+ str(hadis.iloc[i]['chapter-name']) + \" অধ্যায় থেকে \" +  str(hadis.iloc[i]['hadith-no']) + \" নম্বর হাদিস পাঠ করছি, হাদিসের মানঃ \"+ str(hadis.iloc[i]['validity'])+\" যা বর্ণনা করেছিল \"+ str(hadis.iloc[i]['narrator'])+ str(hadis.iloc[i]['bangla'])        \n",
    "            else:\n",
    "                bn_hadith = str(hadis.iloc[i]['book-name']) +\" ভূমিকা পড়ছি।\"+hadis.iloc[i]['preface']+ \",\"+\", অধ্যায়ের নাম \"+ str(hadis.iloc[i]['chapter-name']) + \" অধ্যায় থেকে \" +  str(hadis.iloc[i]['hadith-no']) + \" নম্বর হাদিস পাঠ করছি, হাদিসের মানঃ \"+ str(hadis.iloc[i]['validity'])+\" যা বর্ণনা করেছিল \"+ str(hadis.iloc[i]['narrator'])+ str(hadis.iloc[i]['bangla'])\n",
    "\n",
    "        try:\n",
    "          bn_hadith = bn_hadith.replace('/',' বাই ').replace('.',' ')\n",
    "          bn_hadith = re.sub('হা/', ' হাদিস নম্বর ', bn_hadith)\n",
    "          bn_hadith = re.sub('হাঃ', ' হাদিস নম্বর ', bn_hadith)\n",
    "          bn_hadith = bn_hadith.strip()\n",
    "        except:\n",
    "          #debug\n",
    "          print(\"error during processing \", i)\n",
    "        \n",
    "        audio=MLT_TTS(bn_hadith,resample_audio_to_out_sample_rate=True)\n",
    "        filepath = f'./{dir_name}/{book}.wav'\n",
    "        if not os.path.isfile(filepath):\n",
    "            print(\"chapter-name = \",book)\n",
    "            bn_audio = []\n",
    "        bn_audio.append(audio)\n",
    "        full_chapter_audio=np.concatenate(bn_audio,axis=-1)\n",
    "        sf.write(filepath, full_chapter_audio, 22050)"
   ]
  },
  {
   "cell_type": "code",
   "execution_count": 13,
   "metadata": {},
   "outputs": [
    {
     "name": "stdout",
     "output_type": "stream",
     "text": [
      "fatal: destination path 'tts-arabic-tacotron2' already exists and is not an empty directory.\n",
      "M\tutils/__init__.py\n",
      "HEAD is now at e384a3b Update preprocessing\n"
     ]
    }
   ],
   "source": [
    "! git clone https://github.com/nipponjo/tts-arabic-tacotron2\n",
    "\n",
    "os.chdir('./tts-arabic-tacotron2')\n",
    "!git checkout e384a3b0229f11e66311680a5b4402218bd433fb # we need version 2\n",
    "os.chdir('../')"
   ]
  },
  {
   "cell_type": "code",
   "execution_count": 14,
   "metadata": {},
   "outputs": [
    {
     "name": "stdout",
     "output_type": "stream",
     "text": [
      "/home/ansary/Shabab/book_readers\r\n"
     ]
    }
   ],
   "source": [
    "!pwd"
   ]
  },
  {
   "cell_type": "code",
   "execution_count": 15,
   "metadata": {},
   "outputs": [
    {
     "name": "stdout",
     "output_type": "stream",
     "text": [
      "Overwriting ./tts-arabic-tacotron2/utils/__init__.py\n"
     ]
    }
   ],
   "source": [
    "%%writefile ./tts-arabic-tacotron2/utils/__init__.py\n",
    "import sys\n",
    "import yaml\n",
    "try:\n",
    "    from yaml import CLoader as Loader\n",
    "except ImportError:\n",
    "    from yaml import Loader\n",
    "\n",
    "\n",
    "class DictConfig(object):\n",
    "    \"\"\"Creates a Config object from a dict \n",
    "       such that object attributes correspond to dict keys.    \n",
    "    \"\"\"\n",
    "\n",
    "    def __init__(self, config_dict):\n",
    "        self.__dict__.update(config_dict)\n",
    "\n",
    "    def __str__(self):\n",
    "        return '\\n'.join(f\"{key}: {val}\" for key, val in self.__dict__.items())\n",
    "\n",
    "    def __repr__(self):\n",
    "        return self.__str__()\n",
    "\n",
    "\n",
    "def get_custom_config(fname):\n",
    "    with open(fname, 'r') as stream:\n",
    "        config_dict = yaml.load(stream, Loader)\n",
    "    config = DictConfig(config_dict)\n",
    "    return config\n",
    "\n",
    "\n",
    "def get_basic_config():\n",
    "    return get_custom_config('./tts-arabic-tacotron2/configs/basic.yaml')\n",
    "\n",
    "\n",
    "def get_config(fname):\n",
    "    config = get_basic_config()\n",
    "    custom_config = get_custom_config(fname)\n",
    "\n",
    "    config.__dict__.update(custom_config.__dict__)\n",
    "    return config\n",
    "\n",
    "\n",
    "def read_lines_from_file(path, encoding='utf-8'):\n",
    "    lines = []\n",
    "    with open(path, 'r', encoding=encoding) as f:\n",
    "        for line in f:\n",
    "            lines.append(line.strip())\n",
    "    return lines\n",
    "\n",
    "\n",
    "def progbar(iterable, length=30, symbol='='):\n",
    "    \"\"\"Wrapper generator function for an iterable. \n",
    "       Prints a progressbar when yielding an item. \\\\\n",
    "       Args:\n",
    "          iterable: an object supporting iteration\n",
    "          length: length of the progressbar\n",
    "    \"\"\"\n",
    "    n = len(iterable)\n",
    "    for i, item in enumerate(iterable):\n",
    "        steps = length*(i+1) // n\n",
    "        sys.stdout.write('\\r')\n",
    "        sys.stdout.write(f\"[{symbol*steps:{length}}] {(100/n*(i+1)):.1f}%\")\n",
    "        if i == (n-1):\n",
    "            sys.stdout.write('\\n')\n",
    "        sys.stdout.flush()\n",
    "        yield item"
   ]
  },
  {
   "cell_type": "code",
   "execution_count": 16,
   "metadata": {
    "execution": {
     "iopub.execute_input": "2022-11-18T16:49:09.233336Z",
     "iopub.status.busy": "2022-11-18T16:49:09.233035Z",
     "iopub.status.idle": "2022-11-18T17:23:21.991282Z",
     "shell.execute_reply": "2022-11-18T17:23:21.989966Z"
    },
    "papermill": {
     "duration": 2052.774594,
     "end_time": "2022-11-18T17:23:21.999950",
     "exception": false,
     "start_time": "2022-11-18T16:49:09.225356",
     "status": "completed"
    },
    "tags": []
   },
   "outputs": [
    {
     "name": "stderr",
     "output_type": "stream",
     "text": [
      "/home/ansary/anaconda3/envs/mobassir/lib/python3.8/site-packages/tqdm/auto.py:22: TqdmWarning: IProgress not found. Please update jupyter and ipywidgets. See https://ipywidgets.readthedocs.io/en/stable/user_install.html\n",
      "  from .autonotebook import tqdm as notebook_tqdm\n"
     ]
    },
    {
     "name": "stdout",
     "output_type": "stream",
     "text": [
      "downloading bangla tts weights........\n",
      " > Using model: vits\n",
      " > Setting up Audio Processor...\n",
      " | > sample_rate:22050\n",
      " | > resample:False\n",
      " | > num_mels:80\n",
      " | > log_func:np.log10\n",
      " | > min_level_db:0\n",
      " | > frame_shift_ms:None\n",
      " | > frame_length_ms:None\n",
      " | > ref_level_db:None\n",
      " | > fft_size:1024\n",
      " | > power:None\n",
      " | > preemphasis:0.0\n",
      " | > griffin_lim_iters:None\n",
      " | > signal_norm:None\n",
      " | > symmetric_norm:None\n",
      " | > mel_fmin:0\n",
      " | > mel_fmax:None\n",
      " | > pitch_fmin:None\n",
      " | > pitch_fmax:None\n",
      " | > spec_gain:20.0\n",
      " | > stft_pad_mode:reflect\n",
      " | > max_norm:1.0\n",
      " | > clip_norm:True\n",
      " | > do_trim_silence:False\n",
      " | > trim_db:60\n",
      " | > do_sound_norm:False\n",
      " | > do_amp_to_db_linear:True\n",
      " | > do_amp_to_db_mel:True\n",
      " | > do_rms_norm:False\n",
      " | > db_level:None\n",
      " | > stats_path:None\n",
      " | > base:10\n",
      " | > hop_length:256\n",
      " | > win_length:1024\n",
      "['<BLNK>', 'র', '<BLNK>', 'ম', '<BLNK>', 'য', '<BLNK>', 'া', '<BLNK>', 'ন', '<BLNK>', ' ', '<BLNK>', 'ব', '<BLNK>', 'ি', '<BLNK>', 'ষ', '<BLNK>', 'য়', '<BLNK>', 'ে', '<BLNK>', ' ', '<BLNK>', 'জ', '<BLNK>', 'া', '<BLNK>', 'ল', '<BLNK>', ' ', '<BLNK>', 'ও', '<BLNK>', ' ', '<BLNK>', 'দ', '<BLNK>', 'ু', '<BLNK>', 'র', '<BLNK>', '্', '<BLNK>', 'ব', '<BLNK>', 'ল', '<BLNK>', ' ', '<BLNK>', 'হ', '<BLNK>', 'া', '<BLNK>', 'দ', '<BLNK>', 'ি', '<BLNK>', 'স', '<BLNK>', 'স', '<BLNK>', 'ম', '<BLNK>', 'ূ', '<BLNK>', 'হ', '<BLNK>', ',', '<BLNK>', ',', '<BLNK>', ' ', '<BLNK>', 'অ', '<BLNK>', 'ধ', '<BLNK>', '্', '<BLNK>', 'য', '<BLNK>', 'া', '<BLNK>', 'য়', '<BLNK>', 'ে', '<BLNK>', 'র', '<BLNK>', ' ', '<BLNK>', 'ন', '<BLNK>', 'া', '<BLNK>', 'ম', '<BLNK>', ' ', '<BLNK>', 'র', '<BLNK>', 'ম', '<BLNK>', 'য', '<BLNK>', 'া', '<BLNK>', 'ন', '<BLNK>', ' ', '<BLNK>', 'ব', '<BLNK>', 'ি', '<BLNK>', 'ষ', '<BLNK>', 'য়', '<BLNK>', 'ে', '<BLNK>', ' ', '<BLNK>', 'জ', '<BLNK>', 'া', '<BLNK>', 'ল', '<BLNK>', ' ', '<BLNK>', 'ও', '<BLNK>', ' ', '<BLNK>', 'দ', '<BLNK>', 'ু', '<BLNK>', 'র', '<BLNK>', '্', '<BLNK>', 'ব', '<BLNK>', 'ল', '<BLNK>', ' ', '<BLNK>', 'হ', '<BLNK>', 'া', '<BLNK>', 'দ', '<BLNK>', 'ি', '<BLNK>', 'স', '<BLNK>', 'স', '<BLNK>', 'ম', '<BLNK>', 'ূ', '<BLNK>', 'হ', '<BLNK>', ' ', '<BLNK>', 'অ', '<BLNK>', 'ধ', '<BLNK>', '্', '<BLNK>', 'য', '<BLNK>', 'া', '<BLNK>', 'য়', '<BLNK>', ' ', '<BLNK>', 'থ', '<BLNK>', 'ে', '<BLNK>', 'ক', '<BLNK>', 'ে', '<BLNK>', ' ', '<BLNK>', 'এ', '<BLNK>', 'ক', '<BLNK>', ' ', '<BLNK>', 'ন', '<BLNK>', 'ম', '<BLNK>', '্', '<BLNK>', 'ব', '<BLNK>', 'র', '<BLNK>', ' ', '<BLNK>', 'হ', '<BLNK>', 'া', '<BLNK>', 'দ', '<BLNK>', 'ি', '<BLNK>', 'স', '<BLNK>', ' ', '<BLNK>', 'প', '<BLNK>', 'া', '<BLNK>', 'ঠ', '<BLNK>', ' ', '<BLNK>', 'ক', '<BLNK>', 'র', '<BLNK>', 'ছ', '<BLNK>', 'ি', '<BLNK>', ',', '<BLNK>', ' ', '<BLNK>', 'হ', '<BLNK>', 'া', '<BLNK>', 'দ', '<BLNK>', 'ি', '<BLNK>', 'স', '<BLNK>', 'ে', '<BLNK>', 'র', '<BLNK>', ' ', '<BLNK>', 'ম', '<BLNK>', 'া', '<BLNK>', 'ন', '<BLNK>', 'ঃ', '<BLNK>', ' ', '<BLNK>', 'ম', '<BLNK>', 'ু', '<BLNK>', 'ন', '<BLNK>', 'ক', '<BLNK>', 'া', '<BLNK>', 'র', '<BLNK>', ' ', '<BLNK>', 'য', '<BLNK>', 'া', '<BLNK>', ' ', '<BLNK>', 'ব', '<BLNK>', 'র', '<BLNK>', '্', '<BLNK>', 'ণ', '<BLNK>', 'ন', '<BLNK>', 'া', '<BLNK>', ' ', '<BLNK>', 'ক', '<BLNK>', 'র', '<BLNK>', 'ে', '<BLNK>', 'ছ', '<BLNK>', 'ি', '<BLNK>', 'ল', '<BLNK>', ' ', '<BLNK>', 'ব', '<BLNK>', 'র', '<BLNK>', '্', '<BLNK>', 'ণ', '<BLNK>', 'ন', '<BLNK>', 'া', '<BLNK>', 'ক', '<BLNK>', 'া', '<BLNK>', 'র', '<BLNK>', 'ী', '<BLNK>', ' ', '<BLNK>', 'থ', '<BLNK>', 'ে', '<BLNK>', 'ক', '<BLNK>', 'ে', '<BLNK>', ' ', '<BLNK>', 'ব', '<BLNK>', 'র', '<BLNK>', '্', '<BLNK>', 'ণ', '<BLNK>', 'ি', '<BLNK>', 'ত', '<BLNK>', 'ঃ', '<BLNK>', 'র', '<BLNK>', 'ম', '<BLNK>', 'য', '<BLNK>', 'া', '<BLNK>', 'ন', '<BLNK>', ' ', '<BLNK>', 'ক', '<BLNK>', 'া', '<BLNK>', 'ছ', '<BLNK>', 'ে', '<BLNK>', ' ', '<BLNK>', 'এ', '<BLNK>', 'ল', '<BLNK>', 'ে', '<BLNK>', ' ', '<BLNK>', 'আ', '<BLNK>', 'ম', '<BLNK>', 'র', '<BLNK>', 'া', '<BLNK>', ' ', '<BLNK>', 'অ', '<BLNK>', 'ন', '<BLNK>', 'ে', '<BLNK>', 'ক', '<BLNK>', 'ে', '<BLNK>', ' ', '<BLNK>', 'ন', '<BLNK>', 'ি', '<BLNK>', 'ম', '<BLNK>', '্', '<BLNK>', 'ন', '<BLNK>', 'ে', '<BLNK>', 'র', '<BLNK>', ' ', '<BLNK>', 'দ', '<BLNK>', 'ো', '<BLNK>', 'য়', '<BLNK>', 'া', '<BLNK>', 'ট', '<BLNK>', 'ি', '<BLNK>', ' ', '<BLNK>', 'প', '<BLNK>', 'ড়', '<BLNK>', 'ি', '<BLNK>', ',', '<BLNK>', ' ', '<BLNK>', 'ত', '<BLNK>', 'ব', '<BLNK>', 'ে', '<BLNK>', ' ', '<BLNK>', 'এ', '<BLNK>', 'ম', '<BLNK>', 'ন', '<BLNK>', ' ', '<BLNK>', 'ল', '<BLNK>', 'ো', '<BLNK>', 'ক', '<BLNK>', ' ', '<BLNK>', 'খ', '<BLNK>', 'ু', '<BLNK>', 'ব', '<BLNK>', ' ', '<BLNK>', 'ক', '<BLNK>', 'ম', '<BLNK>', ' ', '<BLNK>', 'আ', '<BLNK>', 'ছ', '<BLNK>', 'ি', '<BLNK>', ' ', '<BLNK>', 'য', '<BLNK>', 'া', '<BLNK>', 'র', '<BLNK>', 'া', '<BLNK>', ' ', '<BLNK>', 'এ', '<BLNK>', 'র', '<BLNK>', ' ', '<BLNK>', 'শ', '<BLNK>', 'ু', '<BLNK>', 'দ', '<BLNK>', '্', '<BLNK>', 'ধ', '<BLNK>', 'ত', '<BLNK>', 'া', '<BLNK>', ' ', '<BLNK>', 'ও', '<BLNK>', ' ', '<BLNK>', 'অ', '<BLNK>', 'শ', '<BLNK>', 'ু', '<BLNK>', 'দ', '<BLNK>', '্', '<BLNK>', 'ধ', '<BLNK>', 'ত', '<BLNK>', 'া', '<BLNK>', ' ', '<BLNK>', 'স', '<BLNK>', 'ম', '<BLNK>', '্', '<BLNK>', 'প', '<BLNK>', 'র', '<BLNK>', '্', '<BLNK>', 'ক', '<BLNK>', 'ে', '<BLNK>', ' ', '<BLNK>', 'অ', '<BLNK>', 'ব', '<BLNK>', 'গ', '<BLNK>', 'ত', '<BLNK>', '-', '<BLNK>', 'হ', '<BLNK>', 'ে', '<BLNK>', ' ', '<BLNK>', 'আ', '<BLNK>', 'ল', '<BLNK>', '্', '<BLNK>', 'ল', '<BLNK>', 'া', '<BLNK>', 'হ', '<BLNK>', ',', '<BLNK>', ' ', '<BLNK>', 'আ', '<BLNK>', 'প', '<BLNK>', 'ন', '<BLNK>', 'ি', '<BLNK>', ' ', '<BLNK>', 'র', '<BLNK>', 'জ', '<BLNK>', 'ব', '<BLNK>', ' ', '<BLNK>', 'ও', '<BLNK>', ' ', '<BLNK>', 'শ', '<BLNK>', 'া', '<BLNK>', 'ব', '<BLNK>', 'া', '<BLNK>', 'ন', '<BLNK>', ' ', '<BLNK>', 'ম', '<BLNK>', 'া', '<BLNK>', 'স', '<BLNK>', 'ে', '<BLNK>', ' ', '<BLNK>', 'আ', '<BLNK>', 'ম', '<BLNK>', 'া', '<BLNK>', 'দ', '<BLNK>', 'ে', '<BLNK>', 'র', '<BLNK>', ' ', '<BLNK>', 'জ', '<BLNK>', 'ন', '<BLNK>', '্', '<BLNK>', 'য', '<BLNK>', ' ', '<BLNK>', 'ব', '<BLNK>', 'র', '<BLNK>', 'ক', '<BLNK>', 'ত', '<BLNK>', ' ', '<BLNK>', 'র', '<BLNK>', 'া', '<BLNK>', 'খ', '<BLNK>', 'ু', '<BLNK>', 'ন', '<BLNK>', ' ', '<BLNK>', 'এ', '<BLNK>', 'ব', '<BLNK>', 'ং', '<BLNK>', ' ', '<BLNK>', 'আ', '<BLNK>', 'ম', '<BLNK>', 'া', '<BLNK>', 'দ', '<BLNK>', 'ে', '<BLNK>', 'র', '<BLNK>', 'ক', '<BLNK>', 'ে', '<BLNK>', ' ', '<BLNK>', 'র', '<BLNK>', 'ম', '<BLNK>', 'য', '<BLNK>', 'া', '<BLNK>', 'ন', '<BLNK>', ' ', '<BLNK>', 'প', '<BLNK>', 'র', '<BLNK>', '্', '<BLNK>', 'য', '<BLNK>', 'ন', '<BLNK>', '্', '<BLNK>', 'ত', '<BLNK>', ' ', '<BLNK>', 'প', '<BLNK>', 'ৌ', '<BLNK>', 'ঁ', '<BLNK>', 'ছ', '<BLNK>', 'া', '<BLNK>', 'র', '<BLNK>', ' ', '<BLNK>', 'ত', '<BLNK>', 'া', '<BLNK>', 'ও', '<BLNK>', 'ফ', '<BLNK>', 'ি', '<BLNK>', 'ক', '<BLNK>', ' ', '<BLNK>', 'দ', '<BLNK>', 'ি', '<BLNK>', 'ন', '<BLNK>', '”', '<BLNK>']\n",
      " [!] Character '”' not found in the vocabulary. Discarding it.\n",
      "chapter-name =  রমযান_বিষয়ে_জাল_ও_দুর্বল_হাদিসসমূহ\n",
      "['<BLNK>', 'ম', '<BLNK>', 'া', '<BLNK>', 'স', '<BLNK>', 'আ', '<BLNK>', 'ল', '<BLNK>', 'া', '<BLNK>', ':', '<BLNK>', ' ', '<BLNK>', 'য', '<BLNK>', 'দ', '<BLNK>', 'ি', '<BLNK>', ' ', '<BLNK>', 'ক', '<BLNK>', 'ো', '<BLNK>', 'ন', '<BLNK>', ' ', '<BLNK>', 'স', '<BLNK>', 'ও', '<BLNK>', 'ম', '<BLNK>', ' ', '<BLNK>', 'প', '<BLNK>', 'া', '<BLNK>', 'ল', '<BLNK>', 'ন', '<BLNK>', 'ক', '<BLNK>', 'া', '<BLNK>', 'র', '<BLNK>', 'ী', '<BLNK>', ' ', '<BLNK>', 'র', '<BLNK>', 'ম', '<BLNK>', 'য', '<BLNK>', 'া', '<BLNK>', 'ন', '<BLNK>', 'ে', '<BLNK>', 'র', '<BLNK>', ' ', '<BLNK>', 'দ', '<BLNK>', 'ি', '<BLNK>', 'ন', '<BLNK>', 'ে', '<BLNK>', ' ', '<BLNK>', 'শ', '<BLNK>', 'র', '<BLNK>', 'য়', '<BLNK>', 'ী', '<BLNK>', ' ', '<BLNK>', 'ক', '<BLNK>', 'ো', '<BLNK>', 'ন', '<BLNK>', ' ', '<BLNK>', 'ক', '<BLNK>', 'া', '<BLNK>', 'র', '<BLNK>', 'ণ', '<BLNK>', ' ', '<BLNK>', 'ছ', '<BLNK>', 'া', '<BLNK>', 'ড়', '<BLNK>', 'া', '<BLNK>', ' ', '<BLNK>', 'ই', '<BLNK>', 'চ', '<BLNK>', '্', '<BLNK>', 'ছ', '<BLNK>', 'া', '<BLNK>', 'ক', '<BLNK>', 'ৃ', '<BLNK>', 'ত', '<BLNK>', 'ভ', '<BLNK>', 'া', '<BLNK>', 'ব', '<BLNK>', 'ে', '<BLNK>', ' ', '<BLNK>', 'স', '<BLNK>', 'হ', '<BLNK>', 'ব', '<BLNK>', 'া', '<BLNK>', 'স', '<BLNK>', ' ', '<BLNK>', 'ব', '<BLNK>', '্', '<BLNK>', 'য', '<BLNK>', 'ত', '<BLNK>', 'ী', '<BLNK>', 'ত', '<BLNK>', ' ', '<BLNK>', 'স', '<BLNK>', 'ও', '<BLNK>', 'ম', '<BLNK>', ' ', '<BLNK>', 'ভ', '<BLNK>', 'ঙ', '<BLNK>', '্', '<BLNK>', 'গ', '<BLNK>', ' ', '<BLNK>', 'ক', '<BLNK>', 'র', '<BLNK>', 'ে', '<BLNK>', ',', '<BLNK>', ' ', '<BLNK>', 'য', '<BLNK>', 'ে', '<BLNK>', 'ম', '<BLNK>', 'ন', '<BLNK>', ' ', '<BLNK>', 'প', '<BLNK>', 'া', '<BLNK>', 'ন', '<BLNK>', 'া', '<BLNK>', 'হ', '<BLNK>', 'া', '<BLNK>', 'র', '<BLNK>', ',', '<BLNK>', ' ', '<BLNK>', 'অ', '<BLNK>', 'থ', '<BLNK>', 'ব', '<BLNK>', 'া', '<BLNK>', ' ', '<BLNK>', 'ধ', '<BLNK>', 'ু', '<BLNK>', 'ম', '<BLNK>', 'প', '<BLNK>', 'া', '<BLNK>', 'ন', '<BLNK>', ',', '<BLNK>', ' ', '<BLNK>', 'অ', '<BLNK>', 'থ', '<BLNK>', 'ব', '<BLNK>', 'া', '<BLNK>', ' ', '<BLNK>', 'য', '<BLNK>', 'ৌ', '<BLNK>', 'ন', '<BLNK>', 'া', '<BLNK>', 'ঙ', '<BLNK>', '্', '<BLNK>', 'গ', '<BLNK>', ' ', '<BLNK>', 'ব', '<BLNK>', '্', '<BLNK>', 'য', '<BLNK>', 'ত', '<BLNK>', 'ী', '<BLNK>', 'ত', '<BLNK>', ' ', '<BLNK>', 'স', '<BLNK>', '্', '<BLNK>', 'ত', '<BLNK>', '্', '<BLNK>', 'র', '<BLNK>', 'ী', '<BLNK>', 'র', '<BLNK>', ' ', '<BLNK>', 'স', '<BLNK>', 'া', '<BLNK>', 'থ', '<BLNK>', 'ে', '<BLNK>', ' ', '<BLNK>', 'ম', '<BLNK>', 'ে', '<BLNK>', 'ল', '<BLNK>', 'া', '<BLNK>', '-', '<BLNK>', 'ম', '<BLNK>', 'ে', '<BLNK>', 'শ', '<BLNK>', 'া', '<BLNK>', 'র', '<BLNK>', ' ', '<BLNK>', 'ক', '<BLNK>', 'া', '<BLNK>', 'র', '<BLNK>', 'ণ', '<BLNK>', 'ে', '<BLNK>', ' ', '<BLNK>', 'ব', '<BLNK>', 'ী', '<BLNK>', 'র', '<BLNK>', '্', '<BLNK>', 'য', '<BLNK>', ' ', '<BLNK>', 'ব', '<BLNK>', 'ে', '<BLNK>', 'র', '<BLNK>', ' ', '<BLNK>', 'হ', '<BLNK>', 'ল', '<BLNK>', ',', '<BLNK>', ' ', '<BLNK>', 'অ', '<BLNK>', 'থ', '<BLNK>', 'ব', '<BLNK>', 'া', '<BLNK>', ' ', '<BLNK>', 'স', '<BLNK>', '্', '<BLNK>', 'ত', '<BLNK>', '্', '<BLNK>', 'র', '<BLNK>', 'ী', '<BLNK>', 'ক', '<BLNK>', 'ে', '<BLNK>', ' ', '<BLNK>', 'উ', '<BLNK>', 'প', '<BLNK>', 'ভ', '<BLNK>', 'ো', '<BLNK>', 'গ', '<BLNK>', ' ', '<BLNK>', 'ক', '<BLNK>', 'র', '<BLNK>', 'া', '<BLNK>', 'র', '<BLNK>', ' ', '<BLNK>', 'স', '<BLNK>', 'ম', '<BLNK>', 'য়', '<BLNK>', ' ', '<BLNK>', 'ব', '<BLNK>', 'ী', '<BLNK>', 'র', '<BLNK>', '্', '<BLNK>', 'য', '<BLNK>', ' ', '<BLNK>', 'ব', '<BLNK>', 'ে', '<BLNK>', 'র', '<BLNK>', ' ', '<BLNK>', 'হ', '<BLNK>', 'ল', '<BLNK>', ' ', '<BLNK>', 'ই', '<BLNK>', 'ত', '<BLNK>', '্', '<BLNK>', 'য', '<BLNK>', 'া', '<BLNK>', 'দ', '<BLNK>', 'ি', '<BLNK>']\n",
      " [!] Character ':' not found in the vocabulary. Discarding it.\n"
     ]
    },
    {
     "name": "stdout",
     "output_type": "stream",
     "text": [
      "['<BLNK>', '(', '<BLNK>', 'দ', '<BLNK>', 'ে', '<BLNK>', 'খ', '<BLNK>', 'ু', '<BLNK>', 'ন', '<BLNK>', ':', '<BLNK>', ' ', '<BLNK>', 'স', '<BLNK>', 'ূ', '<BLNK>', 'র', '<BLNK>', 'া', '<BLNK>', ' ', '<BLNK>', 'ম', '<BLNK>', 'ু', '<BLNK>', 'জ', '<BLNK>', 'া', '<BLNK>', 'দ', '<BLNK>', 'া', '<BLNK>', 'ল', '<BLNK>', 'া', '<BLNK>', ':', '<BLNK>', 'ত', '<BLNK>', 'ি', '<BLNK>', 'ন', '<BLNK>', '-', '<BLNK>', 'চ', '<BLNK>', 'া', '<BLNK>', 'র', '<BLNK>', ')', '<BLNK>']\n",
      " [!] Character '(' not found in the vocabulary. Discarding it.\n",
      "['<BLNK>', '(', '<BLNK>', 'দ', '<BLNK>', 'ে', '<BLNK>', 'খ', '<BLNK>', 'ু', '<BLNK>', 'ন', '<BLNK>', ':', '<BLNK>', ' ', '<BLNK>', 'স', '<BLNK>', 'ূ', '<BLNK>', 'র', '<BLNK>', 'া', '<BLNK>', ' ', '<BLNK>', 'ম', '<BLNK>', 'ু', '<BLNK>', 'জ', '<BLNK>', 'া', '<BLNK>', 'দ', '<BLNK>', 'া', '<BLNK>', 'ল', '<BLNK>', 'া', '<BLNK>', ':', '<BLNK>', 'ত', '<BLNK>', 'ি', '<BLNK>', 'ন', '<BLNK>', '-', '<BLNK>', 'চ', '<BLNK>', 'া', '<BLNK>', 'র', '<BLNK>', ')', '<BLNK>']\n",
      " [!] Character ')' not found in the vocabulary. Discarding it.\n",
      "['<BLNK>', 'শ', '<BLNK>', 'া', '<BLNK>', 'য়', '<BLNK>', 'খ', '<BLNK>', ' ', '<BLNK>', 'আ', '<BLNK>', 'ল', '<BLNK>', 'ব', '<BLNK>', 'া', '<BLNK>', 'ন', '<BLNK>', 'ি', '<BLNK>', ' ', '<BLNK>', 'ই', '<BLNK>', 'র', '<BLNK>', 'ও', '<BLNK>', 'য়', '<BLNK>', 'া', '<BLNK>', 'উ', '<BLNK>', 'ল', '<BLNK>', ' ', '<BLNK>', 'গ', '<BLNK>', 'া', '<BLNK>', 'ল', '<BLNK>', 'ি', '<BLNK>', 'ল', '<BLNK>', '”', '<BLNK>', ':', '<BLNK>', ' ', '<BLNK>', '(', '<BLNK>', 'ন', '<BLNK>', 'য়', '<BLNK>', '০', '<BLNK>', '৭', '<BLNK>', ')', '<BLNK>', ' ', '<BLNK>', 'গ', '<BLNK>', '্', '<BLNK>', 'র', '<BLNK>', 'ন', '<BLNK>', '্', '<BLNK>', 'থ', '<BLNK>', 'ে', '<BLNK>', ' ', '<BLNK>', 'হ', '<BLNK>', 'া', '<BLNK>', 'দ', '<BLNK>', 'ি', '<BLNK>', 'স', '<BLNK>', 'ট', '<BLNK>', 'ি', '<BLNK>', ' ', '<BLNK>', 'দ', '<BLNK>', 'ু', '<BLNK>', 'র', '<BLNK>', '্', '<BLNK>', 'ব', '<BLNK>', 'ল', '<BLNK>', ' ', '<BLNK>', 'ব', '<BLNK>', 'ল', '<BLNK>', 'ে', '<BLNK>', 'ছ', '<BLNK>', 'ে', '<BLNK>', 'ন', '<BLNK>']\n",
      " [!] Character '৭' not found in the vocabulary. Discarding it.\n",
      "['<BLNK>', '”', '<BLNK>', 'ত', '<BLNK>', 'ি', '<BLNK>', 'র', '<BLNK>', 'ম', '<BLNK>', 'ি', '<BLNK>', 'য', '<BLNK>', 'ি', '<BLNK>', ':', '<BLNK>', ' ', '<BLNK>', '(', '<BLNK>', 'স', '<BLNK>', 'া', '<BLNK>', 'ত', '<BLNK>', ' ', '<BLNK>', 'শ', '<BLNK>', ')', '<BLNK>', ',', '<BLNK>', ' ', '<BLNK>', 'আ', '<BLNK>', 'হ', '<BLNK>', 'ম', '<BLNK>', 'দ', '<BLNK>', ':', '<BLNK>', ' ', '<BLNK>', '(', '<BLNK>', 'দ', '<BLNK>', 'ু', '<BLNK>', 'ই', '<BLNK>', ' ', '<BLNK>', 'ব', '<BLNK>', 'া', '<BLNK>', 'ই', '<BLNK>', ' ', '<BLNK>', '৩', '<BLNK>', 'দ', '<BLNK>', 'ু', '<BLNK>', 'ই', '<BLNK>', '৯', '<BLNK>', ')', '<BLNK>', ',', '<BLNK>', ' ', '<BLNK>', 'ত', '<BLNK>', 'ি', '<BLNK>', 'র', '<BLNK>', 'ম', '<BLNK>', 'ি', '<BLNK>', 'য', '<BLNK>', 'ি', '<BLNK>', ' ', '<BLNK>', 'ব', '<BLNK>', 'ল', '<BLNK>', 'ে', '<BLNK>', 'ছ', '<BLNK>', 'ে', '<BLNK>', 'ন', '<BLNK>', 'ঃ', '<BLNK>', ' ', '<BLNK>', 'এ', '<BLNK>', ' ', '<BLNK>', 'হ', '<BLNK>', 'া', '<BLNK>', 'দ', '<BLNK>', 'ি', '<BLNK>', 'স', '<BLNK>', ' ', '<BLNK>', 'হ', '<BLNK>', 'া', '<BLNK>', 'স', '<BLNK>', 'া', '<BLNK>', 'ন', '<BLNK>', ',', '<BLNK>', ' ', '<BLNK>', 'গ', '<BLNK>', 'র', '<BLNK>', 'ি', '<BLNK>', 'ব', '<BLNK>']\n",
      " [!] Character '৯' not found in the vocabulary. Discarding it.\n",
      "['<BLNK>', '”', '<BLNK>', 'ব', '<BLNK>', 'া', '<BLNK>', 'য়', '<BLNK>', 'হ', '<BLNK>', 'া', '<BLNK>', 'ক', '<BLNK>', 'ি', '<BLNK>', ',', '<BLNK>', ' ', '<BLNK>', 'ত', '<BLNK>', 'ি', '<BLNK>', 'ন', '<BLNK>', 'ি', '<BLNK>', ' ', '<BLNK>', 'হ', '<BLNK>', 'া', '<BLNK>', 'দ', '<BLNK>', 'ি', '<BLNK>', 'স', '<BLNK>', 'ট', '<BLNK>', 'ি', '<BLNK>', ' ', '<BLNK>', 'দ', '<BLNK>', 'ু', '<BLNK>', 'র', '<BLNK>', '্', '<BLNK>', 'ব', '<BLNK>', 'ল', '<BLNK>', ' ', '<BLNK>', 'ব', '<BLNK>', 'ল', '<BLNK>', 'ে', '<BLNK>', 'ছ', '<BLNK>', 'ে', '<BLNK>', 'ন', '<BLNK>', ' ', '<BLNK>', '[', '<BLNK>', 'ত', '<BLNK>', 'া', '<BLNK>', 'ব', '<BLNK>', 'র', '<BLNK>', 'া', '<BLNK>', 'ন', '<BLNK>', 'ি', '<BLNK>', ' ', '<BLNK>', 'ফ', '<BLNK>', 'ি', '<BLNK>', 'ল', '<BLNK>', ' ', '<BLNK>', 'ক', '<BLNK>', 'া', '<BLNK>', 'ব', '<BLNK>', 'ি', '<BLNK>', 'র', '<BLNK>', ',', '<BLNK>', ' ', '<BLNK>', 'দ', '<BLNK>', 'ি', '<BLNK>', 'য়', '<BLNK>', 'া', '<BLNK>', ' ', '<BLNK>', 'ফ', '<BLNK>', 'ি', '<BLNK>', 'ল', '<BLNK>', ' ', '<BLNK>', 'ম', '<BLNK>', 'ু', '<BLNK>', 'খ', '<BLNK>', 'ত', '<BLNK>', 'া', '<BLNK>', 'র', '<BLNK>', 'া', '<BLNK>', 'হ', '<BLNK>', ']', '<BLNK>', ' ', '<BLNK>', 'হ', '<BLNK>', 'া', '<BLNK>', 'য়', '<BLNK>', 'স', '<BLNK>', 'া', '<BLNK>', 'ম', '<BLNK>', 'ি', '<BLNK>', ' ', '<BLNK>', 'ব', '<BLNK>', 'ল', '<BLNK>', 'ে', '<BLNK>', 'ছ', '<BLNK>', 'ে', '<BLNK>', 'ন', '<BLNK>', ':', '<BLNK>', ' ', '<BLNK>', 'এ', '<BLNK>', ' ', '<BLNK>', 'হ', '<BLNK>', 'া', '<BLNK>', 'দ', '<BLNK>', 'ি', '<BLNK>', 'স', '<BLNK>', 'ে', '<BLNK>', 'র', '<BLNK>', ' ', '<BLNK>', 'স', '<BLNK>', 'ন', '<BLNK>', 'দ', '<BLNK>', 'ে', '<BLNK>', ' ', '<BLNK>', 'আ', '<BLNK>', 'ব', '<BLNK>', '্', '<BLNK>', 'দ', '<BLNK>', 'ু', '<BLNK>', 'ল', '<BLNK>', '্', '<BLNK>', 'ল', '<BLNK>', 'া', '<BLNK>', 'হ', '<BLNK>', ' ', '<BLNK>', 'ই', '<BLNK>', 'ব', '<BLNK>', 'ন', '<BLNK>', ' ', '<BLNK>', 'ক', '<BLNK>', 'া', '<BLNK>', 'স', '<BLNK>', 'ি', '<BLNK>', 'র', '<BLNK>', ' ', '<BLNK>', 'ব', '<BLNK>', 'ি', '<BLNK>', 'দ', '<BLNK>', '্', '<BLNK>', 'য', '<BLNK>', 'ম', '<BLNK>', 'া', '<BLNK>', 'ন', '<BLNK>', ',', '<BLNK>', ' ', '<BLNK>', 'স', '<BLNK>', 'ে', '<BLNK>', ' ', '<BLNK>', 'দ', '<BLNK>', 'ু', '<BLNK>', 'র', '<BLNK>', '্', '<BLNK>', 'ব', '<BLNK>', 'ল', '<BLNK>']\n",
      " [!] Character '[' not found in the vocabulary. Discarding it.\n",
      "['<BLNK>', '”', '<BLNK>', 'ব', '<BLNK>', 'া', '<BLNK>', 'য়', '<BLNK>', 'হ', '<BLNK>', 'া', '<BLNK>', 'ক', '<BLNK>', 'ি', '<BLNK>', ',', '<BLNK>', ' ', '<BLNK>', 'ত', '<BLNK>', 'ি', '<BLNK>', 'ন', '<BLNK>', 'ি', '<BLNK>', ' ', '<BLNK>', 'হ', '<BLNK>', 'া', '<BLNK>', 'দ', '<BLNK>', 'ি', '<BLNK>', 'স', '<BLNK>', 'ট', '<BLNK>', 'ি', '<BLNK>', ' ', '<BLNK>', 'দ', '<BLNK>', 'ু', '<BLNK>', 'র', '<BLNK>', '্', '<BLNK>', 'ব', '<BLNK>', 'ল', '<BLNK>', ' ', '<BLNK>', 'ব', '<BLNK>', 'ল', '<BLNK>', 'ে', '<BLNK>', 'ছ', '<BLNK>', 'ে', '<BLNK>', 'ন', '<BLNK>', ' ', '<BLNK>', '[', '<BLNK>', 'ত', '<BLNK>', 'া', '<BLNK>', 'ব', '<BLNK>', 'র', '<BLNK>', 'া', '<BLNK>', 'ন', '<BLNK>', 'ি', '<BLNK>', ' ', '<BLNK>', 'ফ', '<BLNK>', 'ি', '<BLNK>', 'ল', '<BLNK>', ' ', '<BLNK>', 'ক', '<BLNK>', 'া', '<BLNK>', 'ব', '<BLNK>', 'ি', '<BLNK>', 'র', '<BLNK>', ',', '<BLNK>', ' ', '<BLNK>', 'দ', '<BLNK>', 'ি', '<BLNK>', 'য়', '<BLNK>', 'া', '<BLNK>', ' ', '<BLNK>', 'ফ', '<BLNK>', 'ি', '<BLNK>', 'ল', '<BLNK>', ' ', '<BLNK>', 'ম', '<BLNK>', 'ু', '<BLNK>', 'খ', '<BLNK>', 'ত', '<BLNK>', 'া', '<BLNK>', 'র', '<BLNK>', 'া', '<BLNK>', 'হ', '<BLNK>', ']', '<BLNK>', ' ', '<BLNK>', 'হ', '<BLNK>', 'া', '<BLNK>', 'য়', '<BLNK>', 'স', '<BLNK>', 'া', '<BLNK>', 'ম', '<BLNK>', 'ি', '<BLNK>', ' ', '<BLNK>', 'ব', '<BLNK>', 'ল', '<BLNK>', 'ে', '<BLNK>', 'ছ', '<BLNK>', 'ে', '<BLNK>', 'ন', '<BLNK>', ':', '<BLNK>', ' ', '<BLNK>', 'এ', '<BLNK>', ' ', '<BLNK>', 'হ', '<BLNK>', 'া', '<BLNK>', 'দ', '<BLNK>', 'ি', '<BLNK>', 'স', '<BLNK>', 'ে', '<BLNK>', 'র', '<BLNK>', ' ', '<BLNK>', 'স', '<BLNK>', 'ন', '<BLNK>', 'দ', '<BLNK>', 'ে', '<BLNK>', ' ', '<BLNK>', 'আ', '<BLNK>', 'ব', '<BLNK>', '্', '<BLNK>', 'দ', '<BLNK>', 'ু', '<BLNK>', 'ল', '<BLNK>', '্', '<BLNK>', 'ল', '<BLNK>', 'া', '<BLNK>', 'হ', '<BLNK>', ' ', '<BLNK>', 'ই', '<BLNK>', 'ব', '<BLNK>', 'ন', '<BLNK>', ' ', '<BLNK>', 'ক', '<BLNK>', 'া', '<BLNK>', 'স', '<BLNK>', 'ি', '<BLNK>', 'র', '<BLNK>', ' ', '<BLNK>', 'ব', '<BLNK>', 'ি', '<BLNK>', 'দ', '<BLNK>', '্', '<BLNK>', 'য', '<BLNK>', 'ম', '<BLNK>', 'া', '<BLNK>', 'ন', '<BLNK>', ',', '<BLNK>', ' ', '<BLNK>', 'স', '<BLNK>', 'ে', '<BLNK>', ' ', '<BLNK>', 'দ', '<BLNK>', 'ু', '<BLNK>', 'র', '<BLNK>', '্', '<BLNK>', 'ব', '<BLNK>', 'ল', '<BLNK>']\n",
      " [!] Character ']' not found in the vocabulary. Discarding it.\n",
      "CPU times: user 3h 51min 57s, sys: 8min 46s, total: 4h 44s\n",
      "Wall time: 35min 43s\n"
     ]
    }
   ],
   "source": [
    "\n",
    "%%time\n",
    "\n",
    "try:\n",
    "    os.mkdir(f'{dir_name}')\n",
    "except:\n",
    "    print(\"exist!!\")\n",
    "    \n",
    "if(run_multilingual_tts):\n",
    "    from multilingual_tts_v2 import BigTextToAudio\n",
    "\n",
    "    MLT_TTS=BigTextToAudio()\n",
    "\n",
    "    mlt_reader(hadis)\n"
   ]
  },
  {
   "cell_type": "code",
   "execution_count": 17,
   "metadata": {},
   "outputs": [
    {
     "name": "stdout",
     "output_type": "stream",
     "text": [
      "Fri Dec 16 02:21:38 2022       \n",
      "+-----------------------------------------------------------------------------+\n",
      "| NVIDIA-SMI 515.65.01    Driver Version: 515.65.01    CUDA Version: 11.7     |\n",
      "|-------------------------------+----------------------+----------------------+\n",
      "| GPU  Name        Persistence-M| Bus-Id        Disp.A | Volatile Uncorr. ECC |\n",
      "| Fan  Temp  Perf  Pwr:Usage/Cap|         Memory-Usage | GPU-Util  Compute M. |\n",
      "|                               |                      |               MIG M. |\n",
      "|===============================+======================+======================|\n",
      "|   0  NVIDIA RTX A6000    Off  | 00000000:65:00.0 Off |                  Off |\n",
      "| 30%   36C    P8    28W / 300W |   9194MiB / 49140MiB |     12%      Default |\n",
      "|                               |                      |                  N/A |\n",
      "+-------------------------------+----------------------+----------------------+\n",
      "                                                                               \n",
      "+-----------------------------------------------------------------------------+\n",
      "| Processes:                                                                  |\n",
      "|  GPU   GI   CI        PID   Type   Process name                  GPU Memory |\n",
      "|        ID   ID                                                   Usage      |\n",
      "|=============================================================================|\n",
      "|    0   N/A  N/A      1545      G   /usr/lib/xorg/Xorg                 38MiB |\n",
      "|    0   N/A  N/A      1797      G   /usr/bin/gnome-shell                7MiB |\n",
      "|    0   N/A  N/A   1742818      C   ...envs/mobassir/bin/python3     2329MiB |\n",
      "|    0   N/A  N/A   1746821      C   ...envs/mobassir/bin/python3     1417MiB |\n",
      "|    0   N/A  N/A   1811534      C   ...envs/mobassir/bin/python3     2023MiB |\n",
      "|    0   N/A  N/A   2288759    C+G   ...501084646598437155,131072      124MiB |\n",
      "|    0   N/A  N/A   2478058      C   python                           3249MiB |\n",
      "+-----------------------------------------------------------------------------+\n"
     ]
    }
   ],
   "source": [
    "!nvidia-smi"
   ]
  },
  {
   "cell_type": "code",
   "execution_count": 18,
   "metadata": {},
   "outputs": [
    {
     "data": {
      "text/html": [
       "<div>\n",
       "<style scoped>\n",
       "    .dataframe tbody tr th:only-of-type {\n",
       "        vertical-align: middle;\n",
       "    }\n",
       "\n",
       "    .dataframe tbody tr th {\n",
       "        vertical-align: top;\n",
       "    }\n",
       "\n",
       "    .dataframe thead th {\n",
       "        text-align: right;\n",
       "    }\n",
       "</style>\n",
       "<table border=\"1\" class=\"dataframe\">\n",
       "  <thead>\n",
       "    <tr style=\"text-align: right;\">\n",
       "      <th></th>\n",
       "      <th>book-name</th>\n",
       "      <th>hadith-no</th>\n",
       "      <th>chapter-name</th>\n",
       "      <th>header</th>\n",
       "      <th>preface</th>\n",
       "      <th>arabic</th>\n",
       "      <th>narrator</th>\n",
       "      <th>bangla</th>\n",
       "      <th>explanation</th>\n",
       "      <th>extra-note</th>\n",
       "      <th>validity</th>\n",
       "    </tr>\n",
       "  </thead>\n",
       "  <tbody>\n",
       "  </tbody>\n",
       "</table>\n",
       "</div>"
      ],
      "text/plain": [
       "Empty DataFrame\n",
       "Columns: [book-name, hadith-no, chapter-name, header, preface, arabic, narrator, bangla, explanation, extra-note, validity]\n",
       "Index: []"
      ]
     },
     "execution_count": 18,
     "metadata": {},
     "output_type": "execute_result"
    }
   ],
   "source": [
    "hadis[hadis['chapter-name'] == 'যাকাত']"
   ]
  },
  {
   "cell_type": "code",
   "execution_count": 19,
   "metadata": {},
   "outputs": [
    {
     "data": {
      "text/plain": [
       "36"
      ]
     },
     "execution_count": 19,
     "metadata": {},
     "output_type": "execute_result"
    }
   ],
   "source": [
    "len(hadis)"
   ]
  },
  {
   "cell_type": "code",
   "execution_count": 20,
   "metadata": {},
   "outputs": [],
   "source": [
    "# hadis[hadis['hadith-no'] == 7276]"
   ]
  },
  {
   "cell_type": "code",
   "execution_count": null,
   "metadata": {},
   "outputs": [],
   "source": []
  }
 ],
 "metadata": {
  "kernelspec": {
   "display_name": "Python 3 (ipykernel)",
   "language": "python",
   "name": "python3"
  },
  "language_info": {
   "codemirror_mode": {
    "name": "ipython",
    "version": 3
   },
   "file_extension": ".py",
   "mimetype": "text/x-python",
   "name": "python",
   "nbconvert_exporter": "python",
   "pygments_lexer": "ipython3",
   "version": "3.8.13"
  },
  "papermill": {
   "default_parameters": {},
   "duration": 2479.665519,
   "end_time": "2022-11-18T17:23:25.380472",
   "environment_variables": {},
   "exception": null,
   "input_path": "__notebook__.ipynb",
   "output_path": "__notebook__.ipynb",
   "parameters": {},
   "start_time": "2022-11-18T16:42:05.714953",
   "version": "2.3.4"
  }
 },
 "nbformat": 4,
 "nbformat_minor": 5
}
