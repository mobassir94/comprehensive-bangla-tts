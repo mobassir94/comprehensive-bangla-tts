{
 "cells": [
  {
   "cell_type": "code",
   "execution_count": 1,
   "id": "1e642f45",
   "metadata": {},
   "outputs": [
    {
     "name": "stdout",
     "output_type": "stream",
     "text": [
      "/home/apsisdev/mobassir/data/tts/bn_GlowTTS\r\n"
     ]
    }
   ],
   "source": [
    "# !pip uninstall -y numpy==1.23.1\n",
    "# !pip install numpy==1.21.6\n",
    "# !pip install --upgrade numpy\n",
    "!pwd"
   ]
  },
  {
   "cell_type": "code",
   "execution_count": 2,
   "id": "dd71566e",
   "metadata": {
    "_cell_guid": "b1076dfc-b9ad-4769-8c92-a6c4dae69d19",
    "_uuid": "8f2839f25d086af736a60e9eeb907d3b93b6e0e5",
    "execution": {
     "iopub.execute_input": "2022-09-18T18:39:07.138453Z",
     "iopub.status.busy": "2022-09-18T18:39:07.137601Z",
     "iopub.status.idle": "2022-09-18T18:39:07.155393Z",
     "shell.execute_reply": "2022-09-18T18:39:07.154504Z"
    },
    "papermill": {
     "duration": 0.034133,
     "end_time": "2022-09-18T18:39:07.159365",
     "exception": false,
     "start_time": "2022-09-18T18:39:07.125232",
     "status": "completed"
    },
    "scrolled": true,
    "tags": []
   },
   "outputs": [
    {
     "name": "stdout",
     "output_type": "stream",
     "text": [
      "Mon Oct 31 20:42:30 2022       \n",
      "+-----------------------------------------------------------------------------+\n",
      "| NVIDIA-SMI 510.85.02    Driver Version: 510.85.02    CUDA Version: 11.6     |\n",
      "|-------------------------------+----------------------+----------------------+\n",
      "| GPU  Name        Persistence-M| Bus-Id        Disp.A | Volatile Uncorr. ECC |\n",
      "| Fan  Temp  Perf  Pwr:Usage/Cap|         Memory-Usage | GPU-Util  Compute M. |\n",
      "|                               |                      |               MIG M. |\n",
      "|===============================+======================+======================|\n",
      "|   0  NVIDIA GeForce ...  Off  | 00000000:01:00.0  On |                  N/A |\n",
      "|  0%   39C    P8    26W / 370W |    216MiB / 24576MiB |     28%      Default |\n",
      "|                               |                      |                  N/A |\n",
      "+-------------------------------+----------------------+----------------------+\n",
      "                                                                               \n",
      "+-----------------------------------------------------------------------------+\n",
      "| Processes:                                                                  |\n",
      "|  GPU   GI   CI        PID   Type   Process name                  GPU Memory |\n",
      "|        ID   ID                                                   Usage      |\n",
      "|=============================================================================|\n",
      "|    0   N/A  N/A      1471      G   /usr/lib/xorg/Xorg                 29MiB |\n",
      "|    0   N/A  N/A      2295      G   /usr/lib/xorg/Xorg                 75MiB |\n",
      "|    0   N/A  N/A      2470      G   /usr/bin/gnome-shell               45MiB |\n",
      "|    0   N/A  N/A     73457      G   ...344200307636747512,131072       49MiB |\n",
      "+-----------------------------------------------------------------------------+\n"
     ]
    }
   ],
   "source": [
    "!nvidia-smi\n",
    "import torch\n",
    "import sys\n",
    "sys.path.append('/home/apsisdev/mobassir/data/tts/bn_GlowTTS/TTS')\n",
    "import numpy as np # linear algebra\n",
    "import pandas as pd # data processing, CSV file I/O (e.g. pd.read_csv)\n",
    "\n",
    "# Input data files are available in the read-only \"../input/\" directory\n",
    "# For example, running this (by clicking run or pressing Shift+Enter) will list all files under the input directory\n",
    "\n",
    "import os\n",
    "\n",
    "# Trainer: Where the ✨️ happens.\n",
    "# TrainingArgs: Defines the set of arguments of the Trainer.\n",
    "from trainer import Trainer, TrainerArgs\n",
    "\n",
    "# GlowTTSConfig: all model related values for training, validating and testing.\n",
    "\n",
    "from TTS.tts.utils.text.tokenizer import TTSTokenizer\n",
    "# BaseDatasetConfig: defines name, formatter and path of the dataset.\n",
    "\n",
    "\n",
    "from TTS.tts.configs.shared_configs import BaseDatasetConfig,BaseAudioConfig,CharactersConfig\n",
    "#from TTS.configs import BaseDatasetConfig,BaseAudioConfig,CharactersConfig#GlowTTSConfig\n",
    "\n",
    "\n",
    "from TTS.config import load_config\n",
    "\n",
    "\n",
    "from trainer import Trainer, TrainerArgs\n",
    "\n",
    "from TTS.utils.audio import AudioProcessor\n",
    "from TTS.tts.datasets import load_tts_samples\n",
    "from TTS.tts.utils.speakers import SpeakerManager\n",
    "from TTS.tts.models.glow_tts import GlowTTS\n",
    "from TTS.tts.configs.glow_tts_config import GlowTTSConfig"
   ]
  },
  {
   "cell_type": "code",
   "execution_count": 3,
   "id": "3f51946e",
   "metadata": {
    "execution": {
     "iopub.execute_input": "2022-09-18T18:39:07.172921Z",
     "iopub.status.busy": "2022-09-18T18:39:07.172629Z",
     "iopub.status.idle": "2022-09-18T18:41:38.246187Z",
     "shell.execute_reply": "2022-09-18T18:41:38.244971Z"
    },
    "papermill": {
     "duration": 151.083177,
     "end_time": "2022-09-18T18:41:38.249067",
     "exception": false,
     "start_time": "2022-09-18T18:39:07.165890",
     "status": "completed"
    },
    "tags": []
   },
   "outputs": [
    {
     "name": "stdout",
     "output_type": "stream",
     "text": [
      "run-September-30-2022_10+55AM-0000000  train_bn_Glow_TTS_male.ipynb  TTS\r\n"
     ]
    }
   ],
   "source": [
    "# ## Install Coqui TTS\n",
    "# ! pip install -U pip\n",
    "# ! pip install TTS\n",
    "\n",
    "# !git clone https://github.com/coqui-ai/TTS\n",
    "# os.chdir('TTS/')\n",
    "# !python3 -m pip install -r requirements.txt\n",
    "# !python3 setup.py develop\n",
    "\n",
    "is_pretrain = False\n",
    "\n",
    "!ls"
   ]
  },
  {
   "cell_type": "code",
   "execution_count": 4,
   "id": "81498689",
   "metadata": {
    "execution": {
     "iopub.execute_input": "2022-09-18T18:41:38.295159Z",
     "iopub.status.busy": "2022-09-18T18:41:38.294780Z",
     "iopub.status.idle": "2022-09-18T18:41:45.878302Z",
     "shell.execute_reply": "2022-09-18T18:41:45.877189Z"
    },
    "papermill": {
     "duration": 7.609054,
     "end_time": "2022-09-18T18:41:45.880641",
     "exception": false,
     "start_time": "2022-09-18T18:41:38.271587",
     "status": "completed"
    },
    "tags": []
   },
   "outputs": [
    {
     "name": "stdout",
     "output_type": "stream",
     "text": [
      "/home/apsisdev/mobassir/data/tts/bn_GlowTTS\r\n"
     ]
    }
   ],
   "source": [
    "# # !apt install -y espeak\n",
    "# !apt install -y espeak-ng\n",
    "!pwd"
   ]
  },
  {
   "cell_type": "code",
   "execution_count": 5,
   "id": "4c6157b0",
   "metadata": {
    "execution": {
     "iopub.execute_input": "2022-09-18T18:41:46.080595Z",
     "iopub.status.busy": "2022-09-18T18:41:46.079694Z",
     "iopub.status.idle": "2022-09-18T18:41:49.917613Z",
     "shell.execute_reply": "2022-09-18T18:41:49.915847Z"
    },
    "papermill": {
     "duration": 3.865137,
     "end_time": "2022-09-18T18:41:49.919815",
     "exception": true,
     "start_time": "2022-09-18T18:41:46.054678",
     "status": "failed"
    },
    "tags": []
   },
   "outputs": [],
   "source": [
    "\n",
    "# output_path = \"tts_train_dir\"\n",
    "# if not os.path.exists(output_path):\n",
    "#     os.makedirs(output_path)\n",
    "\n",
    "male = True\n",
    "\n",
    "meta_file = '/home/apsisdev/mobassir/data/tts/bn_tts/male/mono/metadata_female.txt'\n",
    "root_path = '/home/apsisdev/mobassir/data/tts/bn_tts/male/mono'\n",
    "\n",
    "def formatter(root_path, meta_file, **kwargs):  # pylint: disable=unused-argument\n",
    "    \"\"\"Normalizes the LJSpeech meta data file to TTS format\n",
    "    https://keithito.com/LJ-Speech-Dataset/\"\"\"\n",
    "    txt_file = meta_file\n",
    "    items = []\n",
    "    speaker_name = \"ljspeech\"\n",
    "    with open(txt_file, \"r\", encoding=\"utf-8\") as ttf:\n",
    "        for line in ttf:\n",
    "            cols = line.split(\"|\")\n",
    "            wav_file = os.path.join(root_path, \"wav\", cols[0] + \".wav\")\n",
    "            try:\n",
    "                text = cols[1]\n",
    "            except:\n",
    "                print(\"not found\")\n",
    "\n",
    "            items.append({\"text\": text, \"audio_file\": wav_file, \"speaker_name\": speaker_name, \"root_path\": root_path})\n",
    "    return items\n",
    "\n",
    "\n",
    "dataset_config = BaseDatasetConfig(\n",
    "    dataset_name=\"ljspeech\", meta_file_train=\"/home/apsisdev/mobassir/data/tts/bn_tts/male/mono/metadata_male.txt\", path=os.path.join(\"/home/apsisdev/mobassir/data/tts/bn_tts/male/mono/\", \"\")\n",
    ")\n"
   ]
  },
  {
   "cell_type": "code",
   "execution_count": 6,
   "id": "55a269c6",
   "metadata": {
    "papermill": {
     "duration": null,
     "end_time": null,
     "exception": null,
     "start_time": null,
     "status": "pending"
    },
    "tags": []
   },
   "outputs": [
    {
     "data": {
      "text/plain": [
       "BaseDatasetConfig(formatter='', dataset_name='ljspeech', path='/home/apsisdev/mobassir/data/tts/bn_tts/male/mono/', meta_file_train='/home/apsisdev/mobassir/data/tts/bn_tts/male/mono/metadata_male.txt', ignored_speakers=None, language='', meta_file_val='', meta_file_attn_mask='')"
      ]
     },
     "execution_count": 6,
     "metadata": {},
     "output_type": "execute_result"
    }
   ],
   "source": [
    "dataset_config"
   ]
  },
  {
   "cell_type": "code",
   "execution_count": 7,
   "id": "0aac2116",
   "metadata": {
    "execution": {
     "iopub.execute_input": "2022-09-18T18:27:38.292629Z",
     "iopub.status.busy": "2022-09-18T18:27:38.291898Z",
     "iopub.status.idle": "2022-09-18T18:27:38.302771Z",
     "shell.execute_reply": "2022-09-18T18:27:38.301393Z",
     "shell.execute_reply.started": "2022-09-18T18:27:38.292597Z"
    },
    "papermill": {
     "duration": null,
     "end_time": null,
     "exception": null,
     "start_time": null,
     "status": "pending"
    },
    "tags": []
   },
   "outputs": [
    {
     "name": "stdout",
     "output_type": "stream",
     "text": [
      " | > Found 6187 files in /home/apsisdev/mobassir/data/tts/bn_tts/male/mono\n"
     ]
    }
   ],
   "source": [
    "# load training samples\n",
    "train_samples, eval_samples = load_tts_samples(dataset_config,formatter=formatter, eval_split=True)"
   ]
  },
  {
   "cell_type": "code",
   "execution_count": 8,
   "id": "281aeca6",
   "metadata": {
    "execution": {
     "iopub.execute_input": "2022-09-18T18:27:39.758731Z",
     "iopub.status.busy": "2022-09-18T18:27:39.757669Z",
     "iopub.status.idle": "2022-09-18T18:27:39.791163Z",
     "shell.execute_reply": "2022-09-18T18:27:39.789913Z",
     "shell.execute_reply.started": "2022-09-18T18:27:39.758683Z"
    },
    "papermill": {
     "duration": null,
     "end_time": null,
     "exception": null,
     "start_time": null,
     "status": "pending"
    },
    "tags": []
   },
   "outputs": [
    {
     "name": "stdout",
     "output_type": "stream",
     "text": [
      "6126 61\n"
     ]
    }
   ],
   "source": [
    "print(len(train_samples),len(eval_samples))"
   ]
  },
  {
   "cell_type": "code",
   "execution_count": 9,
   "id": "d703d906",
   "metadata": {
    "execution": {
     "iopub.execute_input": "2022-09-18T18:27:41.849033Z",
     "iopub.status.busy": "2022-09-18T18:27:41.848571Z",
     "iopub.status.idle": "2022-09-18T18:27:41.859346Z",
     "shell.execute_reply": "2022-09-18T18:27:41.857622Z",
     "shell.execute_reply.started": "2022-09-18T18:27:41.848987Z"
    },
    "papermill": {
     "duration": null,
     "end_time": null,
     "exception": null,
     "start_time": null,
     "status": "pending"
    },
    "tags": []
   },
   "outputs": [
    {
     "data": {
      "text/plain": [
       "{'text': 'সকাল সাড়ে নটায় লিলুয়া রেল ওয়ার্কশপে,পরিত্যক্ত পাটের স্তুপে,আগুন লাগে\\n',\n",
       " 'audio_file': '/home/apsisdev/mobassir/data/tts/bn_tts/male/mono/wav/train_bengalimale_01658.wav',\n",
       " 'speaker_name': 'ljspeech',\n",
       " 'root_path': '/home/apsisdev/mobassir/data/tts/bn_tts/male/mono/',\n",
       " 'language': '',\n",
       " 'audio_unique_name': 'ljspeech#wav/train_bengalimale_01658'}"
      ]
     },
     "execution_count": 9,
     "metadata": {},
     "output_type": "execute_result"
    }
   ],
   "source": [
    "train_samples[0]"
   ]
  },
  {
   "cell_type": "code",
   "execution_count": 10,
   "id": "a8bc534e",
   "metadata": {
    "execution": {
     "iopub.execute_input": "2022-09-18T18:28:21.481033Z",
     "iopub.status.busy": "2022-09-18T18:28:21.480609Z",
     "iopub.status.idle": "2022-09-18T18:28:21.493755Z",
     "shell.execute_reply": "2022-09-18T18:28:21.491776Z",
     "shell.execute_reply.started": "2022-09-18T18:28:21.480998Z"
    },
    "papermill": {
     "duration": null,
     "end_time": null,
     "exception": null,
     "start_time": null,
     "status": "pending"
    },
    "tags": []
   },
   "outputs": [],
   "source": [
    "# we use the same path as this script as our training folder.\n",
    "output_path = '/home/apsisdev/mobassir/data/tts/'\n",
    "\n",
    "audio_config = BaseAudioConfig(\n",
    "     sample_rate = 22050,\n",
    "    resample =False\n",
    ")\n",
    "\n",
    "if(male):\n",
    "    characters_config = CharactersConfig(\n",
    "    pad = '<PAD>',\n",
    "    eos = '।', #'<EOS>', #'।',\n",
    "    bos = '<BOS>',# None,\n",
    "    blank = '<BLNK>',\n",
    "    phonemes = None,\n",
    "    characters =  \"তট৫ভিঐঋখঊড়ইজমএেঘঙসীঢ়হঞ‘ঈকণ৬ঁৗশঢঠ\\u200c১্২৮দৃঔগও—ছউংবৈঝাযফ\\u200dচরষঅৌৎথড়৪ধ০ুূ৩আঃপয়’নলো\",\n",
    "    punctuations = \"-!,|.? \",\n",
    "    )\n",
    "else:\n",
    "    characters_config = CharactersConfig(\n",
    "    pad = '<PAD>',\n",
    "    eos = '।', #'<EOS>', #'।',\n",
    "    bos = '<BOS>',# None,\n",
    "    blank = '<BLNK>',\n",
    "    phonemes = None,\n",
    "    characters =  \"ইগং়’ুঃন১ঝূও‘ঊোছপফৈ৮ষযৎঢঈকঠিজ০৬ীটডএঅঋধচে২৩ণউয়ঢ়খলভৗসহ্ড়দথবঔাঞশরৌম—ঐআৃঘঙ\\u200cঁ৪৫ত\",\n",
    "    punctuations = \".?-!|, \",\n",
    "    )\n",
    "\n",
    "# GlowTTSConfig: all model related values for training, validating and testing.\n",
    "\n",
    "config = GlowTTSConfig(\n",
    "    #use_speaker_embedding = True,\n",
    "    run_name=\"bn_glowtts_male\",\n",
    "    batch_size=200,\n",
    "    eval_batch_size=128,\n",
    "    num_loader_workers=16,\n",
    "    num_eval_loader_workers=16,\n",
    "    run_eval=True,\n",
    "    test_delay_epochs=-1,\n",
    "    epochs=5000,\n",
    "    text_cleaner=\"collapse_whitespace\",\n",
    "    use_phonemes=False,\n",
    "#     phoneme_language=\"bn\",\n",
    "    phoneme_cache_path=os.path.join(output_path, \"phoneme_cache\"),\n",
    "    print_step=50,\n",
    "    print_eval=False,\n",
    "    mixed_precision=True,\n",
    "    output_path=output_path,\n",
    "    datasets=[dataset_config],\n",
    "    audio = audio_config,\n",
    "    characters = characters_config,\n",
    "    cudnn_benchmark=True,\n",
    "    save_step=1000,\n",
    "    test_sentences = [\n",
    "#         \"পিপলস ইন্স্যুরেন্স অব চায়না ছেষট্টি বছর আগে ব্যবসা চালু করে।\",\n",
    "#         \"সোনার বাংলা আমি তোমায় ভালবাসি।\"\n",
    "        \"হয়,হয়ে,ওয়া,হয়েছ,হয়েছে,দিয়ে,যায়,দায়,নিশ্চয়,আয়,ভয়,নয়,আয়াত,নিয়ে,হয়েছে,দিয়েছ,রয়ে,রয়েছ,রয়েছে।\",\n",
    "        \"দেয়,দেওয়া,বিষয়,হয়,হওয়া,সম্প্রদায়,সময়,হয়েছি,দিয়েছি,হয়,হয়েছিল,বিষয়ে,নয়,কিয়াম,ইয়া,দেয়া,দিয়েছে,আয়াতে,দয়া।\",\n",
    "        \"হওয়ার,হয়েছে,নিশ্চয়ই,রায়,কিয়ামত,উভয়,দিয়েছেন,দুনিয়া,ন্যায়,অবস্থায়,যায়,ফিরিয়ে,দিয়েছিল,ভয়ে,দ্বিতীয়,দায়ক,পায়।\",\n",
    "        \"গিয়ে,চেয়ে,হিদায়াত,দায়ে,নিয়েছ,রয়েছে,শয়তান,কিয়ামতে,সম্প্রদায়ে,সম্প্রদায়ের,নেয়,জয়,কিয়ামতের,স্থায়ী,যাওয়া,দয়ালু।\",\n",
    "        \"ইয়াহুদ,নয়,ব্যয়,ইয়াহুদী,নেওয়া,উভয়ে,যায়,হয়েছিল,প্রয়োজন।\"\n",
    "    ]\n",
    ")"
   ]
  },
  {
   "cell_type": "code",
   "execution_count": null,
   "id": "d56d04e3",
   "metadata": {
    "execution": {
     "iopub.execute_input": "2022-09-18T18:28:21.648500Z",
     "iopub.status.busy": "2022-09-18T18:28:21.648059Z",
     "iopub.status.idle": "2022-09-18T18:28:21.655554Z",
     "shell.execute_reply": "2022-09-18T18:28:21.654116Z",
     "shell.execute_reply.started": "2022-09-18T18:28:21.648460Z"
    },
    "papermill": {
     "duration": null,
     "end_time": null,
     "exception": null,
     "start_time": null,
     "status": "pending"
    },
    "tags": []
   },
   "outputs": [],
   "source": []
  },
  {
   "cell_type": "code",
   "execution_count": 11,
   "id": "8e37e68c",
   "metadata": {
    "execution": {
     "iopub.execute_input": "2022-09-18T18:28:21.777575Z",
     "iopub.status.busy": "2022-09-18T18:28:21.777156Z",
     "iopub.status.idle": "2022-09-18T18:28:21.803102Z",
     "shell.execute_reply": "2022-09-18T18:28:21.801501Z",
     "shell.execute_reply.started": "2022-09-18T18:28:21.777541Z"
    },
    "papermill": {
     "duration": null,
     "end_time": null,
     "exception": null,
     "start_time": null,
     "status": "pending"
    },
    "tags": []
   },
   "outputs": [
    {
     "name": "stdout",
     "output_type": "stream",
     "text": [
      " > Setting up Audio Processor...\n",
      " | > sample_rate:22050\n",
      " | > resample:False\n",
      " | > num_mels:80\n",
      " | > log_func:np.log10\n",
      " | > min_level_db:-100\n",
      " | > frame_shift_ms:None\n",
      " | > frame_length_ms:None\n",
      " | > ref_level_db:20\n",
      " | > fft_size:1024\n",
      " | > power:1.5\n",
      " | > preemphasis:0.0\n",
      " | > griffin_lim_iters:60\n",
      " | > signal_norm:True\n",
      " | > symmetric_norm:True\n",
      " | > mel_fmin:0\n",
      " | > mel_fmax:None\n",
      " | > pitch_fmin:1.0\n",
      " | > pitch_fmax:640.0\n",
      " | > spec_gain:20.0\n",
      " | > stft_pad_mode:reflect\n",
      " | > max_norm:4.0\n",
      " | > clip_norm:True\n",
      " | > do_trim_silence:True\n",
      " | > trim_db:45\n",
      " | > do_sound_norm:False\n",
      " | > do_amp_to_db_linear:True\n",
      " | > do_amp_to_db_mel:True\n",
      " | > do_rms_norm:False\n",
      " | > db_level:None\n",
      " | > stats_path:None\n",
      " | > base:10\n",
      " | > hop_length:256\n",
      " | > win_length:1024\n"
     ]
    }
   ],
   "source": [
    "\n",
    "ap = AudioProcessor.init_from_config(config)\n"
   ]
  },
  {
   "cell_type": "code",
   "execution_count": 12,
   "id": "70cd7729",
   "metadata": {
    "execution": {
     "iopub.execute_input": "2022-09-18T18:28:21.909655Z",
     "iopub.status.busy": "2022-09-18T18:28:21.908152Z",
     "iopub.status.idle": "2022-09-18T18:28:21.919154Z",
     "shell.execute_reply": "2022-09-18T18:28:21.917743Z",
     "shell.execute_reply.started": "2022-09-18T18:28:21.909541Z"
    },
    "papermill": {
     "duration": null,
     "end_time": null,
     "exception": null,
     "start_time": null,
     "status": "pending"
    },
    "tags": []
   },
   "outputs": [
    {
     "data": {
      "text/plain": [
       "False"
      ]
     },
     "execution_count": 12,
     "metadata": {},
     "output_type": "execute_result"
    }
   ],
   "source": [
    "ap.resample"
   ]
  },
  {
   "cell_type": "code",
   "execution_count": 13,
   "id": "52f319ec",
   "metadata": {
    "execution": {
     "iopub.execute_input": "2022-09-18T18:28:22.057165Z",
     "iopub.status.busy": "2022-09-18T18:28:22.056292Z",
     "iopub.status.idle": "2022-09-18T18:28:22.187280Z",
     "shell.execute_reply": "2022-09-18T18:28:22.185376Z",
     "shell.execute_reply.started": "2022-09-18T18:28:22.057125Z"
    },
    "papermill": {
     "duration": null,
     "end_time": null,
     "exception": null,
     "start_time": null,
     "status": "pending"
    },
    "tags": []
   },
   "outputs": [],
   "source": [
    "\n",
    "tokenizer, config = TTSTokenizer.init_from_config(config)"
   ]
  },
  {
   "cell_type": "code",
   "execution_count": 14,
   "id": "41273833",
   "metadata": {
    "execution": {
     "iopub.execute_input": "2022-09-18T18:28:22.192167Z",
     "iopub.status.busy": "2022-09-18T18:28:22.191818Z",
     "iopub.status.idle": "2022-09-18T18:28:22.198950Z",
     "shell.execute_reply": "2022-09-18T18:28:22.196804Z",
     "shell.execute_reply.started": "2022-09-18T18:28:22.192133Z"
    },
    "papermill": {
     "duration": null,
     "end_time": null,
     "exception": null,
     "start_time": null,
     "status": "pending"
    },
    "tags": []
   },
   "outputs": [],
   "source": [
    "\n",
    "model = GlowTTS(config, ap, tokenizer, speaker_manager=None)"
   ]
  },
  {
   "cell_type": "code",
   "execution_count": 15,
   "id": "fb516837",
   "metadata": {
    "execution": {
     "iopub.execute_input": "2022-09-18T18:28:22.325709Z",
     "iopub.status.busy": "2022-09-18T18:28:22.325274Z",
     "iopub.status.idle": "2022-09-18T18:28:22.887435Z",
     "shell.execute_reply": "2022-09-18T18:28:22.885734Z",
     "shell.execute_reply.started": "2022-09-18T18:28:22.325662Z"
    },
    "papermill": {
     "duration": null,
     "end_time": null,
     "exception": null,
     "start_time": null,
     "status": "pending"
    },
    "tags": []
   },
   "outputs": [
    {
     "data": {
      "text/plain": [
       "GlowTTS(\n",
       "  (encoder): Encoder(\n",
       "    (emb): Embedding(87, 192)\n",
       "    (prenet): ResidualConv1dLayerNormBlock(\n",
       "      (conv_layers): ModuleList(\n",
       "        (0): Conv1d(192, 192, kernel_size=(5,), stride=(1,), padding=(2,))\n",
       "        (1): Conv1d(192, 192, kernel_size=(5,), stride=(1,), padding=(2,))\n",
       "        (2): Conv1d(192, 192, kernel_size=(5,), stride=(1,), padding=(2,))\n",
       "      )\n",
       "      (norm_layers): ModuleList(\n",
       "        (0): LayerNorm()\n",
       "        (1): LayerNorm()\n",
       "        (2): LayerNorm()\n",
       "      )\n",
       "      (proj): Conv1d(192, 192, kernel_size=(1,), stride=(1,))\n",
       "    )\n",
       "    (encoder): RelativePositionTransformer(\n",
       "      (dropout): Dropout(p=0.1, inplace=False)\n",
       "      (attn_layers): ModuleList(\n",
       "        (0): RelativePositionMultiHeadAttention(\n",
       "          (conv_q): Conv1d(192, 192, kernel_size=(1,), stride=(1,))\n",
       "          (conv_k): Conv1d(192, 192, kernel_size=(1,), stride=(1,))\n",
       "          (conv_v): Conv1d(192, 192, kernel_size=(1,), stride=(1,))\n",
       "          (conv_o): Conv1d(192, 192, kernel_size=(1,), stride=(1,))\n",
       "          (dropout): Dropout(p=0.1, inplace=False)\n",
       "        )\n",
       "        (1): RelativePositionMultiHeadAttention(\n",
       "          (conv_q): Conv1d(192, 192, kernel_size=(1,), stride=(1,))\n",
       "          (conv_k): Conv1d(192, 192, kernel_size=(1,), stride=(1,))\n",
       "          (conv_v): Conv1d(192, 192, kernel_size=(1,), stride=(1,))\n",
       "          (conv_o): Conv1d(192, 192, kernel_size=(1,), stride=(1,))\n",
       "          (dropout): Dropout(p=0.1, inplace=False)\n",
       "        )\n",
       "        (2): RelativePositionMultiHeadAttention(\n",
       "          (conv_q): Conv1d(192, 192, kernel_size=(1,), stride=(1,))\n",
       "          (conv_k): Conv1d(192, 192, kernel_size=(1,), stride=(1,))\n",
       "          (conv_v): Conv1d(192, 192, kernel_size=(1,), stride=(1,))\n",
       "          (conv_o): Conv1d(192, 192, kernel_size=(1,), stride=(1,))\n",
       "          (dropout): Dropout(p=0.1, inplace=False)\n",
       "        )\n",
       "        (3): RelativePositionMultiHeadAttention(\n",
       "          (conv_q): Conv1d(192, 192, kernel_size=(1,), stride=(1,))\n",
       "          (conv_k): Conv1d(192, 192, kernel_size=(1,), stride=(1,))\n",
       "          (conv_v): Conv1d(192, 192, kernel_size=(1,), stride=(1,))\n",
       "          (conv_o): Conv1d(192, 192, kernel_size=(1,), stride=(1,))\n",
       "          (dropout): Dropout(p=0.1, inplace=False)\n",
       "        )\n",
       "        (4): RelativePositionMultiHeadAttention(\n",
       "          (conv_q): Conv1d(192, 192, kernel_size=(1,), stride=(1,))\n",
       "          (conv_k): Conv1d(192, 192, kernel_size=(1,), stride=(1,))\n",
       "          (conv_v): Conv1d(192, 192, kernel_size=(1,), stride=(1,))\n",
       "          (conv_o): Conv1d(192, 192, kernel_size=(1,), stride=(1,))\n",
       "          (dropout): Dropout(p=0.1, inplace=False)\n",
       "        )\n",
       "        (5): RelativePositionMultiHeadAttention(\n",
       "          (conv_q): Conv1d(192, 192, kernel_size=(1,), stride=(1,))\n",
       "          (conv_k): Conv1d(192, 192, kernel_size=(1,), stride=(1,))\n",
       "          (conv_v): Conv1d(192, 192, kernel_size=(1,), stride=(1,))\n",
       "          (conv_o): Conv1d(192, 192, kernel_size=(1,), stride=(1,))\n",
       "          (dropout): Dropout(p=0.1, inplace=False)\n",
       "        )\n",
       "      )\n",
       "      (norm_layers_1): ModuleList(\n",
       "        (0): LayerNorm()\n",
       "        (1): LayerNorm()\n",
       "        (2): LayerNorm()\n",
       "        (3): LayerNorm()\n",
       "        (4): LayerNorm()\n",
       "        (5): LayerNorm()\n",
       "      )\n",
       "      (ffn_layers): ModuleList(\n",
       "        (0): FeedForwardNetwork(\n",
       "          (conv_1): Conv1d(192, 768, kernel_size=(3,), stride=(1,))\n",
       "          (conv_2): Conv1d(768, 192, kernel_size=(3,), stride=(1,))\n",
       "          (dropout): Dropout(p=0.1, inplace=False)\n",
       "        )\n",
       "        (1): FeedForwardNetwork(\n",
       "          (conv_1): Conv1d(192, 768, kernel_size=(3,), stride=(1,))\n",
       "          (conv_2): Conv1d(768, 192, kernel_size=(3,), stride=(1,))\n",
       "          (dropout): Dropout(p=0.1, inplace=False)\n",
       "        )\n",
       "        (2): FeedForwardNetwork(\n",
       "          (conv_1): Conv1d(192, 768, kernel_size=(3,), stride=(1,))\n",
       "          (conv_2): Conv1d(768, 192, kernel_size=(3,), stride=(1,))\n",
       "          (dropout): Dropout(p=0.1, inplace=False)\n",
       "        )\n",
       "        (3): FeedForwardNetwork(\n",
       "          (conv_1): Conv1d(192, 768, kernel_size=(3,), stride=(1,))\n",
       "          (conv_2): Conv1d(768, 192, kernel_size=(3,), stride=(1,))\n",
       "          (dropout): Dropout(p=0.1, inplace=False)\n",
       "        )\n",
       "        (4): FeedForwardNetwork(\n",
       "          (conv_1): Conv1d(192, 768, kernel_size=(3,), stride=(1,))\n",
       "          (conv_2): Conv1d(768, 192, kernel_size=(3,), stride=(1,))\n",
       "          (dropout): Dropout(p=0.1, inplace=False)\n",
       "        )\n",
       "        (5): FeedForwardNetwork(\n",
       "          (conv_1): Conv1d(192, 768, kernel_size=(3,), stride=(1,))\n",
       "          (conv_2): Conv1d(768, 192, kernel_size=(3,), stride=(1,))\n",
       "          (dropout): Dropout(p=0.1, inplace=False)\n",
       "        )\n",
       "      )\n",
       "      (norm_layers_2): ModuleList(\n",
       "        (0): LayerNorm()\n",
       "        (1): LayerNorm()\n",
       "        (2): LayerNorm()\n",
       "        (3): LayerNorm()\n",
       "        (4): LayerNorm()\n",
       "        (5): LayerNorm()\n",
       "      )\n",
       "    )\n",
       "    (proj_m): Conv1d(192, 80, kernel_size=(1,), stride=(1,))\n",
       "    (duration_predictor): DurationPredictor(\n",
       "      (drop): Dropout(p=0.1, inplace=False)\n",
       "      (conv_1): Conv1d(192, 256, kernel_size=(3,), stride=(1,), padding=(1,))\n",
       "      (norm_1): LayerNorm()\n",
       "      (conv_2): Conv1d(256, 256, kernel_size=(3,), stride=(1,), padding=(1,))\n",
       "      (norm_2): LayerNorm()\n",
       "      (proj): Conv1d(256, 1, kernel_size=(1,), stride=(1,))\n",
       "    )\n",
       "  )\n",
       "  (decoder): Decoder(\n",
       "    (flows): ModuleList(\n",
       "      (0): ActNorm()\n",
       "      (1): InvConvNear()\n",
       "      (2): CouplingBlock(\n",
       "        (start): Conv1d(80, 192, kernel_size=(1,), stride=(1,))\n",
       "        (end): Conv1d(192, 160, kernel_size=(1,), stride=(1,))\n",
       "        (wn): WN(\n",
       "          (in_layers): ModuleList(\n",
       "            (0): Conv1d(192, 384, kernel_size=(5,), stride=(1,), padding=(2,))\n",
       "            (1): Conv1d(192, 384, kernel_size=(5,), stride=(1,), padding=(2,))\n",
       "            (2): Conv1d(192, 384, kernel_size=(5,), stride=(1,), padding=(2,))\n",
       "            (3): Conv1d(192, 384, kernel_size=(5,), stride=(1,), padding=(2,))\n",
       "          )\n",
       "          (res_skip_layers): ModuleList(\n",
       "            (0): Conv1d(192, 384, kernel_size=(1,), stride=(1,))\n",
       "            (1): Conv1d(192, 384, kernel_size=(1,), stride=(1,))\n",
       "            (2): Conv1d(192, 384, kernel_size=(1,), stride=(1,))\n",
       "            (3): Conv1d(192, 192, kernel_size=(1,), stride=(1,))\n",
       "          )\n",
       "          (dropout): Dropout(p=0.05, inplace=False)\n",
       "        )\n",
       "      )\n",
       "      (3): ActNorm()\n",
       "      (4): InvConvNear()\n",
       "      (5): CouplingBlock(\n",
       "        (start): Conv1d(80, 192, kernel_size=(1,), stride=(1,))\n",
       "        (end): Conv1d(192, 160, kernel_size=(1,), stride=(1,))\n",
       "        (wn): WN(\n",
       "          (in_layers): ModuleList(\n",
       "            (0): Conv1d(192, 384, kernel_size=(5,), stride=(1,), padding=(2,))\n",
       "            (1): Conv1d(192, 384, kernel_size=(5,), stride=(1,), padding=(2,))\n",
       "            (2): Conv1d(192, 384, kernel_size=(5,), stride=(1,), padding=(2,))\n",
       "            (3): Conv1d(192, 384, kernel_size=(5,), stride=(1,), padding=(2,))\n",
       "          )\n",
       "          (res_skip_layers): ModuleList(\n",
       "            (0): Conv1d(192, 384, kernel_size=(1,), stride=(1,))\n",
       "            (1): Conv1d(192, 384, kernel_size=(1,), stride=(1,))\n",
       "            (2): Conv1d(192, 384, kernel_size=(1,), stride=(1,))\n",
       "            (3): Conv1d(192, 192, kernel_size=(1,), stride=(1,))\n",
       "          )\n",
       "          (dropout): Dropout(p=0.05, inplace=False)\n",
       "        )\n",
       "      )\n",
       "      (6): ActNorm()\n",
       "      (7): InvConvNear()\n",
       "      (8): CouplingBlock(\n",
       "        (start): Conv1d(80, 192, kernel_size=(1,), stride=(1,))\n",
       "        (end): Conv1d(192, 160, kernel_size=(1,), stride=(1,))\n",
       "        (wn): WN(\n",
       "          (in_layers): ModuleList(\n",
       "            (0): Conv1d(192, 384, kernel_size=(5,), stride=(1,), padding=(2,))\n",
       "            (1): Conv1d(192, 384, kernel_size=(5,), stride=(1,), padding=(2,))\n",
       "            (2): Conv1d(192, 384, kernel_size=(5,), stride=(1,), padding=(2,))\n",
       "            (3): Conv1d(192, 384, kernel_size=(5,), stride=(1,), padding=(2,))\n",
       "          )\n",
       "          (res_skip_layers): ModuleList(\n",
       "            (0): Conv1d(192, 384, kernel_size=(1,), stride=(1,))\n",
       "            (1): Conv1d(192, 384, kernel_size=(1,), stride=(1,))\n",
       "            (2): Conv1d(192, 384, kernel_size=(1,), stride=(1,))\n",
       "            (3): Conv1d(192, 192, kernel_size=(1,), stride=(1,))\n",
       "          )\n",
       "          (dropout): Dropout(p=0.05, inplace=False)\n",
       "        )\n",
       "      )\n",
       "      (9): ActNorm()\n",
       "      (10): InvConvNear()\n",
       "      (11): CouplingBlock(\n",
       "        (start): Conv1d(80, 192, kernel_size=(1,), stride=(1,))\n",
       "        (end): Conv1d(192, 160, kernel_size=(1,), stride=(1,))\n",
       "        (wn): WN(\n",
       "          (in_layers): ModuleList(\n",
       "            (0): Conv1d(192, 384, kernel_size=(5,), stride=(1,), padding=(2,))\n",
       "            (1): Conv1d(192, 384, kernel_size=(5,), stride=(1,), padding=(2,))\n",
       "            (2): Conv1d(192, 384, kernel_size=(5,), stride=(1,), padding=(2,))\n",
       "            (3): Conv1d(192, 384, kernel_size=(5,), stride=(1,), padding=(2,))\n",
       "          )\n",
       "          (res_skip_layers): ModuleList(\n",
       "            (0): Conv1d(192, 384, kernel_size=(1,), stride=(1,))\n",
       "            (1): Conv1d(192, 384, kernel_size=(1,), stride=(1,))\n",
       "            (2): Conv1d(192, 384, kernel_size=(1,), stride=(1,))\n",
       "            (3): Conv1d(192, 192, kernel_size=(1,), stride=(1,))\n",
       "          )\n",
       "          (dropout): Dropout(p=0.05, inplace=False)\n",
       "        )\n",
       "      )\n",
       "      (12): ActNorm()\n",
       "      (13): InvConvNear()\n",
       "      (14): CouplingBlock(\n",
       "        (start): Conv1d(80, 192, kernel_size=(1,), stride=(1,))\n",
       "        (end): Conv1d(192, 160, kernel_size=(1,), stride=(1,))\n",
       "        (wn): WN(\n",
       "          (in_layers): ModuleList(\n",
       "            (0): Conv1d(192, 384, kernel_size=(5,), stride=(1,), padding=(2,))\n",
       "            (1): Conv1d(192, 384, kernel_size=(5,), stride=(1,), padding=(2,))\n",
       "            (2): Conv1d(192, 384, kernel_size=(5,), stride=(1,), padding=(2,))\n",
       "            (3): Conv1d(192, 384, kernel_size=(5,), stride=(1,), padding=(2,))\n",
       "          )\n",
       "          (res_skip_layers): ModuleList(\n",
       "            (0): Conv1d(192, 384, kernel_size=(1,), stride=(1,))\n",
       "            (1): Conv1d(192, 384, kernel_size=(1,), stride=(1,))\n",
       "            (2): Conv1d(192, 384, kernel_size=(1,), stride=(1,))\n",
       "            (3): Conv1d(192, 192, kernel_size=(1,), stride=(1,))\n",
       "          )\n",
       "          (dropout): Dropout(p=0.05, inplace=False)\n",
       "        )\n",
       "      )\n",
       "      (15): ActNorm()\n",
       "      (16): InvConvNear()\n",
       "      (17): CouplingBlock(\n",
       "        (start): Conv1d(80, 192, kernel_size=(1,), stride=(1,))\n",
       "        (end): Conv1d(192, 160, kernel_size=(1,), stride=(1,))\n",
       "        (wn): WN(\n",
       "          (in_layers): ModuleList(\n",
       "            (0): Conv1d(192, 384, kernel_size=(5,), stride=(1,), padding=(2,))\n",
       "            (1): Conv1d(192, 384, kernel_size=(5,), stride=(1,), padding=(2,))\n",
       "            (2): Conv1d(192, 384, kernel_size=(5,), stride=(1,), padding=(2,))\n",
       "            (3): Conv1d(192, 384, kernel_size=(5,), stride=(1,), padding=(2,))\n",
       "          )\n",
       "          (res_skip_layers): ModuleList(\n",
       "            (0): Conv1d(192, 384, kernel_size=(1,), stride=(1,))\n",
       "            (1): Conv1d(192, 384, kernel_size=(1,), stride=(1,))\n",
       "            (2): Conv1d(192, 384, kernel_size=(1,), stride=(1,))\n",
       "            (3): Conv1d(192, 192, kernel_size=(1,), stride=(1,))\n",
       "          )\n",
       "          (dropout): Dropout(p=0.05, inplace=False)\n",
       "        )\n",
       "      )\n",
       "      (18): ActNorm()\n",
       "      (19): InvConvNear()\n",
       "      (20): CouplingBlock(\n",
       "        (start): Conv1d(80, 192, kernel_size=(1,), stride=(1,))\n",
       "        (end): Conv1d(192, 160, kernel_size=(1,), stride=(1,))\n",
       "        (wn): WN(\n",
       "          (in_layers): ModuleList(\n",
       "            (0): Conv1d(192, 384, kernel_size=(5,), stride=(1,), padding=(2,))\n",
       "            (1): Conv1d(192, 384, kernel_size=(5,), stride=(1,), padding=(2,))\n",
       "            (2): Conv1d(192, 384, kernel_size=(5,), stride=(1,), padding=(2,))\n",
       "            (3): Conv1d(192, 384, kernel_size=(5,), stride=(1,), padding=(2,))\n",
       "          )\n",
       "          (res_skip_layers): ModuleList(\n",
       "            (0): Conv1d(192, 384, kernel_size=(1,), stride=(1,))\n",
       "            (1): Conv1d(192, 384, kernel_size=(1,), stride=(1,))\n",
       "            (2): Conv1d(192, 384, kernel_size=(1,), stride=(1,))\n",
       "            (3): Conv1d(192, 192, kernel_size=(1,), stride=(1,))\n",
       "          )\n",
       "          (dropout): Dropout(p=0.05, inplace=False)\n",
       "        )\n",
       "      )\n",
       "      (21): ActNorm()\n",
       "      (22): InvConvNear()\n",
       "      (23): CouplingBlock(\n",
       "        (start): Conv1d(80, 192, kernel_size=(1,), stride=(1,))\n",
       "        (end): Conv1d(192, 160, kernel_size=(1,), stride=(1,))\n",
       "        (wn): WN(\n",
       "          (in_layers): ModuleList(\n",
       "            (0): Conv1d(192, 384, kernel_size=(5,), stride=(1,), padding=(2,))\n",
       "            (1): Conv1d(192, 384, kernel_size=(5,), stride=(1,), padding=(2,))\n",
       "            (2): Conv1d(192, 384, kernel_size=(5,), stride=(1,), padding=(2,))\n",
       "            (3): Conv1d(192, 384, kernel_size=(5,), stride=(1,), padding=(2,))\n",
       "          )\n",
       "          (res_skip_layers): ModuleList(\n",
       "            (0): Conv1d(192, 384, kernel_size=(1,), stride=(1,))\n",
       "            (1): Conv1d(192, 384, kernel_size=(1,), stride=(1,))\n",
       "            (2): Conv1d(192, 384, kernel_size=(1,), stride=(1,))\n",
       "            (3): Conv1d(192, 192, kernel_size=(1,), stride=(1,))\n",
       "          )\n",
       "          (dropout): Dropout(p=0.05, inplace=False)\n",
       "        )\n",
       "      )\n",
       "      (24): ActNorm()\n",
       "      (25): InvConvNear()\n",
       "      (26): CouplingBlock(\n",
       "        (start): Conv1d(80, 192, kernel_size=(1,), stride=(1,))\n",
       "        (end): Conv1d(192, 160, kernel_size=(1,), stride=(1,))\n",
       "        (wn): WN(\n",
       "          (in_layers): ModuleList(\n",
       "            (0): Conv1d(192, 384, kernel_size=(5,), stride=(1,), padding=(2,))\n",
       "            (1): Conv1d(192, 384, kernel_size=(5,), stride=(1,), padding=(2,))\n",
       "            (2): Conv1d(192, 384, kernel_size=(5,), stride=(1,), padding=(2,))\n",
       "            (3): Conv1d(192, 384, kernel_size=(5,), stride=(1,), padding=(2,))\n",
       "          )\n",
       "          (res_skip_layers): ModuleList(\n",
       "            (0): Conv1d(192, 384, kernel_size=(1,), stride=(1,))\n",
       "            (1): Conv1d(192, 384, kernel_size=(1,), stride=(1,))\n",
       "            (2): Conv1d(192, 384, kernel_size=(1,), stride=(1,))\n",
       "            (3): Conv1d(192, 192, kernel_size=(1,), stride=(1,))\n",
       "          )\n",
       "          (dropout): Dropout(p=0.05, inplace=False)\n",
       "        )\n",
       "      )\n",
       "      (27): ActNorm()\n",
       "      (28): InvConvNear()\n",
       "      (29): CouplingBlock(\n",
       "        (start): Conv1d(80, 192, kernel_size=(1,), stride=(1,))\n",
       "        (end): Conv1d(192, 160, kernel_size=(1,), stride=(1,))\n",
       "        (wn): WN(\n",
       "          (in_layers): ModuleList(\n",
       "            (0): Conv1d(192, 384, kernel_size=(5,), stride=(1,), padding=(2,))\n",
       "            (1): Conv1d(192, 384, kernel_size=(5,), stride=(1,), padding=(2,))\n",
       "            (2): Conv1d(192, 384, kernel_size=(5,), stride=(1,), padding=(2,))\n",
       "            (3): Conv1d(192, 384, kernel_size=(5,), stride=(1,), padding=(2,))\n",
       "          )\n",
       "          (res_skip_layers): ModuleList(\n",
       "            (0): Conv1d(192, 384, kernel_size=(1,), stride=(1,))\n",
       "            (1): Conv1d(192, 384, kernel_size=(1,), stride=(1,))\n",
       "            (2): Conv1d(192, 384, kernel_size=(1,), stride=(1,))\n",
       "            (3): Conv1d(192, 192, kernel_size=(1,), stride=(1,))\n",
       "          )\n",
       "          (dropout): Dropout(p=0.05, inplace=False)\n",
       "        )\n",
       "      )\n",
       "      (30): ActNorm()\n",
       "      (31): InvConvNear()\n",
       "      (32): CouplingBlock(\n",
       "        (start): Conv1d(80, 192, kernel_size=(1,), stride=(1,))\n",
       "        (end): Conv1d(192, 160, kernel_size=(1,), stride=(1,))\n",
       "        (wn): WN(\n",
       "          (in_layers): ModuleList(\n",
       "            (0): Conv1d(192, 384, kernel_size=(5,), stride=(1,), padding=(2,))\n",
       "            (1): Conv1d(192, 384, kernel_size=(5,), stride=(1,), padding=(2,))\n",
       "            (2): Conv1d(192, 384, kernel_size=(5,), stride=(1,), padding=(2,))\n",
       "            (3): Conv1d(192, 384, kernel_size=(5,), stride=(1,), padding=(2,))\n",
       "          )\n",
       "          (res_skip_layers): ModuleList(\n",
       "            (0): Conv1d(192, 384, kernel_size=(1,), stride=(1,))\n",
       "            (1): Conv1d(192, 384, kernel_size=(1,), stride=(1,))\n",
       "            (2): Conv1d(192, 384, kernel_size=(1,), stride=(1,))\n",
       "            (3): Conv1d(192, 192, kernel_size=(1,), stride=(1,))\n",
       "          )\n",
       "          (dropout): Dropout(p=0.05, inplace=False)\n",
       "        )\n",
       "      )\n",
       "      (33): ActNorm()\n",
       "      (34): InvConvNear()\n",
       "      (35): CouplingBlock(\n",
       "        (start): Conv1d(80, 192, kernel_size=(1,), stride=(1,))\n",
       "        (end): Conv1d(192, 160, kernel_size=(1,), stride=(1,))\n",
       "        (wn): WN(\n",
       "          (in_layers): ModuleList(\n",
       "            (0): Conv1d(192, 384, kernel_size=(5,), stride=(1,), padding=(2,))\n",
       "            (1): Conv1d(192, 384, kernel_size=(5,), stride=(1,), padding=(2,))\n",
       "            (2): Conv1d(192, 384, kernel_size=(5,), stride=(1,), padding=(2,))\n",
       "            (3): Conv1d(192, 384, kernel_size=(5,), stride=(1,), padding=(2,))\n",
       "          )\n",
       "          (res_skip_layers): ModuleList(\n",
       "            (0): Conv1d(192, 384, kernel_size=(1,), stride=(1,))\n",
       "            (1): Conv1d(192, 384, kernel_size=(1,), stride=(1,))\n",
       "            (2): Conv1d(192, 384, kernel_size=(1,), stride=(1,))\n",
       "            (3): Conv1d(192, 192, kernel_size=(1,), stride=(1,))\n",
       "          )\n",
       "          (dropout): Dropout(p=0.05, inplace=False)\n",
       "        )\n",
       "      )\n",
       "    )\n",
       "  )\n",
       ")"
      ]
     },
     "execution_count": 15,
     "metadata": {},
     "output_type": "execute_result"
    }
   ],
   "source": [
    "model"
   ]
  },
  {
   "cell_type": "code",
   "execution_count": 16,
   "id": "566329fc",
   "metadata": {},
   "outputs": [],
   "source": [
    "if(is_pretrain):\n",
    "    pretrain_path =  '/home/apsisdev/mobassir/data/tts/bn_glowtts_male/'\n",
    "else:\n",
    "    pretrain_path = ''"
   ]
  },
  {
   "cell_type": "code",
   "execution_count": 17,
   "id": "60d330ff",
   "metadata": {
    "execution": {
     "iopub.execute_input": "2022-09-18T18:28:23.218109Z",
     "iopub.status.busy": "2022-09-18T18:28:23.217247Z"
    },
    "papermill": {
     "duration": null,
     "end_time": null,
     "exception": null,
     "start_time": null,
     "status": "pending"
    },
    "scrolled": true,
    "tags": []
   },
   "outputs": [
    {
     "name": "stderr",
     "output_type": "stream",
     "text": [
      "fatal: not a git repository (or any of the parent directories): .git\n",
      "fatal: not a git repository (or any of the parent directories): .git\n",
      " > Training Environment:\n",
      " | > Current device: 0\n",
      " | > Num. of GPUs: 1\n",
      " | > Num. of CPUs: 20\n",
      " | > Num. of Torch Threads: 10\n",
      " | > Torch seed: 54321\n",
      " | > Torch CUDNN: True\n",
      " | > Torch CUDNN deterministic: False\n",
      " | > Torch CUDNN benchmark: True\n",
      "\n",
      " > Model has 28601809 parameters\n"
     ]
    }
   ],
   "source": [
    "# using continue_path argument below for retraining model from last saved weight https://github.com/coqui-ai/Trainer/blob/main/trainer/trainer.py#L210\n",
    "\n",
    "trainer = Trainer(\n",
    "    TrainerArgs(continue_path = pretrain_path), config, output_path, model=model, train_samples=train_samples, eval_samples=eval_samples\n",
    ")"
   ]
  },
  {
   "cell_type": "code",
   "execution_count": null,
   "id": "3176de8b",
   "metadata": {
    "papermill": {
     "duration": null,
     "end_time": null,
     "exception": null,
     "start_time": null,
     "status": "pending"
    },
    "tags": []
   },
   "outputs": [
    {
     "name": "stderr",
     "output_type": "stream",
     "text": [
      "\n",
      "\u001b[4m\u001b[1m > EPOCH: 0/5000\u001b[0m\n",
      " --> /home/apsisdev/mobassir/data/tts/bn_glowtts_male-October-31-2022_08+42PM-0000000\n"
     ]
    },
    {
     "name": "stdout",
     "output_type": "stream",
     "text": [
      "\n",
      "\n",
      "> DataLoader initialization\n",
      "| > Tokenizer:\n",
      "\t| > add_blank: False\n",
      "\t| > use_eos_bos: False\n",
      "\t| > use_phonemes: False\n",
      "| > Number of instances : 6126\n"
     ]
    },
    {
     "name": "stderr",
     "output_type": "stream",
     "text": [
      "\n",
      "\u001b[1m > TRAINING (2022-10-31 20:42:38) \u001b[0m\n"
     ]
    },
    {
     "name": "stdout",
     "output_type": "stream",
     "text": [
      " | > Preprocessing samples\n",
      " | > Max text length: 114\n",
      " | > Min text length: 16\n",
      " | > Avg text length: 64.72233104799217\n",
      " | \n",
      " | > Max audio length: 276757.0\n",
      " | > Min audio length: 49474.0\n",
      " | > Avg audio length: 129107.80362389814\n",
      " | > Num. instances discarded samples: 0\n",
      " | > Batch group size: 0.\n"
     ]
    },
    {
     "name": "stderr",
     "output_type": "stream",
     "text": [
      "\n",
      "\u001b[1m   --> STEP: 0/31 -- GLOBAL_STEP: 0\u001b[0m\n",
      "     | > current_lr: 0.00000 \n",
      "     | > step_time: 1.82090  (1.82094)\n",
      "     | > loader_time: 18.03360  (18.03360)\n",
      "\n",
      "\n",
      "\u001b[1m > EVALUATION \u001b[0m\n",
      "\n"
     ]
    },
    {
     "name": "stdout",
     "output_type": "stream",
     "text": [
      "\n",
      "\n",
      "> DataLoader initialization\n",
      "| > Tokenizer:\n",
      "\t| > add_blank: False\n",
      "\t| > use_eos_bos: False\n",
      "\t| > use_phonemes: False\n",
      "| > Number of instances : 61\n",
      " | > Preprocessing samples\n",
      " | > Max text length: 92\n",
      " | > Min text length: 40\n",
      " | > Avg text length: 64.52459016393442\n",
      " | \n",
      " | > Max audio length: 171374.0\n",
      " | > Min audio length: 68524.0\n",
      " | > Avg audio length: 126232.5081967213\n",
      " | > Num. instances discarded samples: 0\n",
      " | > Batch group size: 0.\n",
      " | > Synthesizing test sentences.\n"
     ]
    },
    {
     "name": "stderr",
     "output_type": "stream",
     "text": [
      "\n",
      "  \u001b[1m--> EVAL PERFORMANCE\u001b[0m\n",
      "     | > avg_loader_time: 1.28097 \u001b[0m(+0.00000)\n",
      "     | > avg_loss: 3.93224 \u001b[0m(+0.00000)\n",
      "     | > avg_log_mle: 0.75578 \u001b[0m(+0.00000)\n",
      "     | > avg_loss_dur: 3.17645 \u001b[0m(+0.00000)\n",
      "\n",
      " > BEST MODEL : /home/apsisdev/mobassir/data/tts/bn_glowtts_male-October-31-2022_08+42PM-0000000/best_model_31.pth\n",
      "\n",
      "\u001b[4m\u001b[1m > EPOCH: 1/5000\u001b[0m\n",
      " --> /home/apsisdev/mobassir/data/tts/bn_glowtts_male-October-31-2022_08+42PM-0000000\n",
      "\n",
      "\u001b[1m > TRAINING (2022-10-31 20:44:34) \u001b[0m\n"
     ]
    },
    {
     "name": "stdout",
     "output_type": "stream",
     "text": [
      "\n",
      "\n",
      "> DataLoader initialization\n",
      "| > Tokenizer:\n",
      "\t| > add_blank: False\n",
      "\t| > use_eos_bos: False\n",
      "\t| > use_phonemes: False\n",
      "| > Number of instances : 6126\n",
      " | > Preprocessing samples\n",
      " | > Max text length: 114\n",
      " | > Min text length: 16\n",
      " | > Avg text length: 64.72233104799217\n",
      " | \n",
      " | > Max audio length: 276757.0\n",
      " | > Min audio length: 49474.0\n",
      " | > Avg audio length: 129107.80362389814\n",
      " | > Num. instances discarded samples: 0\n",
      " | > Batch group size: 0.\n"
     ]
    },
    {
     "name": "stderr",
     "output_type": "stream",
     "text": [
      " ! Run is kept in /home/apsisdev/mobassir/data/tts/bn_glowtts_male-October-31-2022_08+42PM-0000000\n"
     ]
    }
   ],
   "source": [
    "%%time\n",
    "\n",
    "# AND... 3,2,1... 🚀\n",
    "trainer.fit()"
   ]
  },
  {
   "cell_type": "code",
   "execution_count": null,
   "id": "b3548781",
   "metadata": {},
   "outputs": [],
   "source": [
    "!nvidia-smi"
   ]
  },
  {
   "cell_type": "code",
   "execution_count": null,
   "id": "4d98f3af",
   "metadata": {},
   "outputs": [],
   "source": []
  },
  {
   "cell_type": "code",
   "execution_count": null,
   "id": "da922236",
   "metadata": {},
   "outputs": [],
   "source": [
    "np.__version__#1.21.6"
   ]
  },
  {
   "cell_type": "code",
   "execution_count": null,
   "id": "99d15397",
   "metadata": {},
   "outputs": [],
   "source": []
  }
 ],
 "metadata": {
  "kernelspec": {
   "display_name": "Python [conda env:mobassir] *",
   "language": "python",
   "name": "conda-env-mobassir-py"
  },
  "language_info": {
   "codemirror_mode": {
    "name": "ipython",
    "version": 3
   },
   "file_extension": ".py",
   "mimetype": "text/x-python",
   "name": "python",
   "nbconvert_exporter": "python",
   "pygments_lexer": "ipython3",
   "version": "3.8.13"
  },
  "papermill": {
   "default_parameters": {},
   "duration": 171.598093,
   "end_time": "2022-09-18T18:41:51.067487",
   "environment_variables": {},
   "exception": true,
   "input_path": "__notebook__.ipynb",
   "output_path": "__notebook__.ipynb",
   "parameters": {},
   "start_time": "2022-09-18T18:38:59.469394",
   "version": "2.3.4"
  }
 },
 "nbformat": 4,
 "nbformat_minor": 5
}
