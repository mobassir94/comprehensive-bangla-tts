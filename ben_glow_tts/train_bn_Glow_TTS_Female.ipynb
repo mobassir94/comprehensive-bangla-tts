{
 "cells": [
  {
   "cell_type": "code",
   "execution_count": null,
   "id": "1e642f45",
   "metadata": {},
   "outputs": [],
   "source": [
    "# !pip uninstall -y numpy==1.23.1\n",
    "# !pip install numpy==1.21.6\n",
    "# !pip install --upgrade numpy\n",
    "!pwd"
   ]
  },
  {
   "cell_type": "code",
   "execution_count": null,
   "id": "dd71566e",
   "metadata": {
    "_cell_guid": "b1076dfc-b9ad-4769-8c92-a6c4dae69d19",
    "_uuid": "8f2839f25d086af736a60e9eeb907d3b93b6e0e5",
    "execution": {
     "iopub.execute_input": "2022-09-18T18:39:07.138453Z",
     "iopub.status.busy": "2022-09-18T18:39:07.137601Z",
     "iopub.status.idle": "2022-09-18T18:39:07.155393Z",
     "shell.execute_reply": "2022-09-18T18:39:07.154504Z"
    },
    "papermill": {
     "duration": 0.034133,
     "end_time": "2022-09-18T18:39:07.159365",
     "exception": false,
     "start_time": "2022-09-18T18:39:07.125232",
     "status": "completed"
    },
    "scrolled": true,
    "tags": []
   },
   "outputs": [],
   "source": [
    "!nvidia-smi\n",
    "import torch\n",
    "import sys\n",
    "sys.path.append('/home/apsisdev/mobassir/data/tts/bn_GlowTTS/TTS')\n",
    "import numpy as np # linear algebra\n",
    "import pandas as pd # data processing, CSV file I/O (e.g. pd.read_csv)\n",
    "\n",
    "# Input data files are available in the read-only \"../input/\" directory\n",
    "# For example, running this (by clicking run or pressing Shift+Enter) will list all files under the input directory\n",
    "\n",
    "import os\n",
    "\n",
    "# Trainer: Where the ✨️ happens.\n",
    "# TrainingArgs: Defines the set of arguments of the Trainer.\n",
    "from trainer import Trainer, TrainerArgs\n",
    "\n",
    "# GlowTTSConfig: all model related values for training, validating and testing.\n",
    "\n",
    "from TTS.tts.utils.text.tokenizer import TTSTokenizer\n",
    "# BaseDatasetConfig: defines name, formatter and path of the dataset.\n",
    "\n",
    "\n",
    "from TTS.tts.configs.shared_configs import BaseDatasetConfig,BaseAudioConfig,CharactersConfig\n",
    "#from TTS.configs import BaseDatasetConfig,BaseAudioConfig,CharactersConfig#GlowTTSConfig\n",
    "\n",
    "\n",
    "from TTS.config import load_config\n",
    "\n",
    "\n",
    "from trainer import Trainer, TrainerArgs\n",
    "\n",
    "from TTS.utils.audio import AudioProcessor\n",
    "from TTS.tts.datasets import load_tts_samples\n",
    "from TTS.tts.utils.speakers import SpeakerManager\n",
    "from TTS.tts.models.glow_tts import GlowTTS\n",
    "from TTS.tts.configs.glow_tts_config import GlowTTSConfig"
   ]
  },
  {
   "cell_type": "code",
   "execution_count": null,
   "id": "3f51946e",
   "metadata": {
    "execution": {
     "iopub.execute_input": "2022-09-18T18:39:07.172921Z",
     "iopub.status.busy": "2022-09-18T18:39:07.172629Z",
     "iopub.status.idle": "2022-09-18T18:41:38.246187Z",
     "shell.execute_reply": "2022-09-18T18:41:38.244971Z"
    },
    "papermill": {
     "duration": 151.083177,
     "end_time": "2022-09-18T18:41:38.249067",
     "exception": false,
     "start_time": "2022-09-18T18:39:07.165890",
     "status": "completed"
    },
    "tags": []
   },
   "outputs": [],
   "source": [
    "# ## Install Coqui TTS\n",
    "# ! pip install -U pip\n",
    "# ! pip install TTS\n",
    "\n",
    "# !git clone https://github.com/coqui-ai/TTS\n",
    "# os.chdir('TTS/')\n",
    "# !python3 -m pip install -r requirements.txt\n",
    "# !python3 setup.py develop\n",
    "\n",
    "\n",
    "!ls"
   ]
  },
  {
   "cell_type": "code",
   "execution_count": null,
   "id": "81498689",
   "metadata": {
    "execution": {
     "iopub.execute_input": "2022-09-18T18:41:38.295159Z",
     "iopub.status.busy": "2022-09-18T18:41:38.294780Z",
     "iopub.status.idle": "2022-09-18T18:41:45.878302Z",
     "shell.execute_reply": "2022-09-18T18:41:45.877189Z"
    },
    "papermill": {
     "duration": 7.609054,
     "end_time": "2022-09-18T18:41:45.880641",
     "exception": false,
     "start_time": "2022-09-18T18:41:38.271587",
     "status": "completed"
    },
    "tags": []
   },
   "outputs": [],
   "source": [
    "# # !apt install -y espeak\n",
    "# !apt install -y espeak-ng\n",
    "!pwd"
   ]
  },
  {
   "cell_type": "code",
   "execution_count": null,
   "id": "4c6157b0",
   "metadata": {
    "execution": {
     "iopub.execute_input": "2022-09-18T18:41:46.080595Z",
     "iopub.status.busy": "2022-09-18T18:41:46.079694Z",
     "iopub.status.idle": "2022-09-18T18:41:49.917613Z",
     "shell.execute_reply": "2022-09-18T18:41:49.915847Z"
    },
    "papermill": {
     "duration": 3.865137,
     "end_time": "2022-09-18T18:41:49.919815",
     "exception": true,
     "start_time": "2022-09-18T18:41:46.054678",
     "status": "failed"
    },
    "tags": []
   },
   "outputs": [],
   "source": [
    "\n",
    "# output_path = \"tts_train_dir\"\n",
    "# if not os.path.exists(output_path):\n",
    "#     os.makedirs(output_path)\n",
    "\n",
    "male = False\n",
    "is_pretrain = False\n",
    "\n",
    "\n",
    "meta_file = '/home/apsisdev/mobassir/data/tts/bn_tts/female/mono/metadata_female.txt'\n",
    "root_path = '/home/apsisdev/mobassir/data/tts/bn_tts/female/mono'\n",
    "\n",
    "def formatter(root_path, meta_file, **kwargs):  # pylint: disable=unused-argument\n",
    "    \"\"\"Normalizes the LJSpeech meta data file to TTS format\n",
    "    https://keithito.com/LJ-Speech-Dataset/\"\"\"\n",
    "    txt_file = meta_file\n",
    "    items = []\n",
    "    speaker_name = \"ljspeech\"\n",
    "    with open(txt_file, \"r\", encoding=\"utf-8\") as ttf:\n",
    "        for line in ttf:\n",
    "            cols = line.split(\"|\")\n",
    "            wav_file = os.path.join(root_path, \"wav\", cols[0] + \".wav\")\n",
    "            try:\n",
    "                text = cols[1]\n",
    "            except:\n",
    "                print(\"not found\")\n",
    "\n",
    "            items.append({\"text\": text, \"audio_file\": wav_file, \"speaker_name\": speaker_name, \"root_path\": root_path})\n",
    "    return items\n",
    "\n",
    "\n",
    "dataset_config = BaseDatasetConfig(\n",
    "    dataset_name=\"ljspeech\", meta_file_train=\"/home/apsisdev/mobassir/data/tts/bn_tts/female/mono/metadata_female.txt\", path=os.path.join(\"/home/apsisdev/mobassir/data/tts/bn_tts/female/mono/\", \"\")\n",
    ")\n"
   ]
  },
  {
   "cell_type": "code",
   "execution_count": null,
   "id": "55a269c6",
   "metadata": {
    "papermill": {
     "duration": null,
     "end_time": null,
     "exception": null,
     "start_time": null,
     "status": "pending"
    },
    "tags": []
   },
   "outputs": [],
   "source": [
    "dataset_config"
   ]
  },
  {
   "cell_type": "code",
   "execution_count": null,
   "id": "0aac2116",
   "metadata": {
    "execution": {
     "iopub.execute_input": "2022-09-18T18:27:38.292629Z",
     "iopub.status.busy": "2022-09-18T18:27:38.291898Z",
     "iopub.status.idle": "2022-09-18T18:27:38.302771Z",
     "shell.execute_reply": "2022-09-18T18:27:38.301393Z",
     "shell.execute_reply.started": "2022-09-18T18:27:38.292597Z"
    },
    "papermill": {
     "duration": null,
     "end_time": null,
     "exception": null,
     "start_time": null,
     "status": "pending"
    },
    "tags": []
   },
   "outputs": [],
   "source": [
    "# load training samples\n",
    "train_samples, eval_samples = load_tts_samples(dataset_config,formatter=formatter, eval_split=True)"
   ]
  },
  {
   "cell_type": "code",
   "execution_count": null,
   "id": "281aeca6",
   "metadata": {
    "execution": {
     "iopub.execute_input": "2022-09-18T18:27:39.758731Z",
     "iopub.status.busy": "2022-09-18T18:27:39.757669Z",
     "iopub.status.idle": "2022-09-18T18:27:39.791163Z",
     "shell.execute_reply": "2022-09-18T18:27:39.789913Z",
     "shell.execute_reply.started": "2022-09-18T18:27:39.758683Z"
    },
    "papermill": {
     "duration": null,
     "end_time": null,
     "exception": null,
     "start_time": null,
     "status": "pending"
    },
    "tags": []
   },
   "outputs": [],
   "source": [
    "print(len(train_samples),len(eval_samples))"
   ]
  },
  {
   "cell_type": "code",
   "execution_count": null,
   "id": "d703d906",
   "metadata": {
    "execution": {
     "iopub.execute_input": "2022-09-18T18:27:41.849033Z",
     "iopub.status.busy": "2022-09-18T18:27:41.848571Z",
     "iopub.status.idle": "2022-09-18T18:27:41.859346Z",
     "shell.execute_reply": "2022-09-18T18:27:41.857622Z",
     "shell.execute_reply.started": "2022-09-18T18:27:41.848987Z"
    },
    "papermill": {
     "duration": null,
     "end_time": null,
     "exception": null,
     "start_time": null,
     "status": "pending"
    },
    "tags": []
   },
   "outputs": [],
   "source": [
    "train_samples[0]"
   ]
  },
  {
   "cell_type": "code",
   "execution_count": null,
   "id": "a8bc534e",
   "metadata": {
    "execution": {
     "iopub.execute_input": "2022-09-18T18:28:21.481033Z",
     "iopub.status.busy": "2022-09-18T18:28:21.480609Z",
     "iopub.status.idle": "2022-09-18T18:28:21.493755Z",
     "shell.execute_reply": "2022-09-18T18:28:21.491776Z",
     "shell.execute_reply.started": "2022-09-18T18:28:21.480998Z"
    },
    "papermill": {
     "duration": null,
     "end_time": null,
     "exception": null,
     "start_time": null,
     "status": "pending"
    },
    "tags": []
   },
   "outputs": [],
   "source": [
    "# we use the same path as this script as our training folder.\n",
    "output_path = '/home/apsisdev/mobassir/data/tts/'\n",
    "\n",
    "audio_config = BaseAudioConfig(\n",
    "     sample_rate = 22050,\n",
    "    resample =False\n",
    ")\n",
    "\n",
    "if(male):\n",
    "    characters_config = CharactersConfig(\n",
    "    pad = '<PAD>',\n",
    "    eos = '।', #'<EOS>', #'।',\n",
    "    bos = '<BOS>',# None,\n",
    "    blank = '<BLNK>',\n",
    "    phonemes = None,\n",
    "    characters =  \"তট৫ভিঐঋখঊড়ইজমএেঘঙসীঢ়হঞ‘ঈকণ৬ঁৗশঢঠ\\u200c১্২৮দৃঔগও—ছউংবৈঝাযফ\\u200dচরষঅৌৎথড়৪ধ০ুূ৩আঃপয়’নলো\",\n",
    "    punctuations = \"-!,|.? \",\n",
    "    )\n",
    "else:\n",
    "    characters_config = CharactersConfig(\n",
    "    pad = '<PAD>',\n",
    "    eos = '।', #'<EOS>', #'।',\n",
    "    bos = '<BOS>',# None,\n",
    "    blank = '<BLNK>',\n",
    "    phonemes = None,\n",
    "    characters =  \"ইগং়’ুঃন১ঝূও‘ঊোছপফৈ৮ষযৎঢঈকঠিজ০৬ীটডএঅঋধচে২৩ণউয়ঢ়খলভৗসহ্ড়দথবঔাঞশরৌম—ঐআৃঘঙ\\u200cঁ৪৫ত\",\n",
    "    punctuations = \".?-!|, \",\n",
    "    )\n",
    "\n",
    "# GlowTTSConfig: all model related values for training, validating and testing.\n",
    "\n",
    "config = GlowTTSConfig(\n",
    "    #use_speaker_embedding = True,\n",
    "    run_name=\"bangla_glowtts_female\",\n",
    "    batch_size=196,\n",
    "    eval_batch_size=124,\n",
    "    num_loader_workers=16,\n",
    "    num_eval_loader_workers=16,\n",
    "    run_eval=True,\n",
    "    test_delay_epochs=-1,\n",
    "    epochs=15000,\n",
    "    text_cleaner=\"collapse_whitespace\",\n",
    "    use_phonemes=False,\n",
    "#     phoneme_language=\"bn\",\n",
    "    phoneme_cache_path=os.path.join(output_path, \"phoneme_cache\"),\n",
    "    print_step=50,\n",
    "    print_eval=False,\n",
    "    mixed_precision=True,\n",
    "    output_path=output_path,\n",
    "    datasets=[dataset_config],\n",
    "    audio = audio_config,\n",
    "    characters = characters_config,\n",
    "    cudnn_benchmark=True,\n",
    "    save_step=1000,\n",
    "    test_sentences = [\n",
    "#         \"পিপলস ইন্স্যুরেন্স অব চায়না ছেষট্টি বছর আগে ব্যবসা চালু করে।\",\n",
    "#         \"সোনার বাংলা আমি তোমায় ভালবাসি।\"\n",
    "        \"হয়,হয়ে,ওয়া,হয়েছ,হয়েছে,দিয়ে,যায়,দায়,নিশ্চয়,আয়,ভয়,নয়,আয়াত,নিয়ে,হয়েছে,দিয়েছ,রয়ে,রয়েছ,রয়েছে।\",\n",
    "        \"দেয়,দেওয়া,বিষয়,হয়,হওয়া,সম্প্রদায়,সময়,হয়েছি,দিয়েছি,হয়,হয়েছিল,বিষয়ে,নয়,কিয়াম,ইয়া,দেয়া,দিয়েছে,আয়াতে,দয়া।\",\n",
    "        \"হওয়ার,হয়েছে,নিশ্চয়ই,রায়,কিয়ামত,উভয়,দিয়েছেন,দুনিয়া,ন্যায়,অবস্থায়,যায়,ফিরিয়ে,দিয়েছিল,ভয়ে,দ্বিতীয়,দায়ক,পায়।\",\n",
    "        \"গিয়ে,চেয়ে,হিদায়াত,দায়ে,নিয়েছ,রয়েছে,শয়তান,কিয়ামতে,সম্প্রদায়ে,সম্প্রদায়ের,নেয়,জয়,কিয়ামতের,স্থায়ী,যাওয়া,দয়ালু।\",\n",
    "        \"ইয়াহুদ,নয়,ব্যয়,ইয়াহুদী,নেওয়া,উভয়ে,যায়,হয়েছিল,প্রয়োজন।\"\n",
    "    ]\n",
    ")"
   ]
  },
  {
   "cell_type": "code",
   "execution_count": null,
   "id": "d56d04e3",
   "metadata": {
    "execution": {
     "iopub.execute_input": "2022-09-18T18:28:21.648500Z",
     "iopub.status.busy": "2022-09-18T18:28:21.648059Z",
     "iopub.status.idle": "2022-09-18T18:28:21.655554Z",
     "shell.execute_reply": "2022-09-18T18:28:21.654116Z",
     "shell.execute_reply.started": "2022-09-18T18:28:21.648460Z"
    },
    "papermill": {
     "duration": null,
     "end_time": null,
     "exception": null,
     "start_time": null,
     "status": "pending"
    },
    "tags": []
   },
   "outputs": [],
   "source": []
  },
  {
   "cell_type": "code",
   "execution_count": null,
   "id": "8e37e68c",
   "metadata": {
    "execution": {
     "iopub.execute_input": "2022-09-18T18:28:21.777575Z",
     "iopub.status.busy": "2022-09-18T18:28:21.777156Z",
     "iopub.status.idle": "2022-09-18T18:28:21.803102Z",
     "shell.execute_reply": "2022-09-18T18:28:21.801501Z",
     "shell.execute_reply.started": "2022-09-18T18:28:21.777541Z"
    },
    "papermill": {
     "duration": null,
     "end_time": null,
     "exception": null,
     "start_time": null,
     "status": "pending"
    },
    "tags": []
   },
   "outputs": [],
   "source": [
    "\n",
    "ap = AudioProcessor.init_from_config(config)\n"
   ]
  },
  {
   "cell_type": "code",
   "execution_count": null,
   "id": "70cd7729",
   "metadata": {
    "execution": {
     "iopub.execute_input": "2022-09-18T18:28:21.909655Z",
     "iopub.status.busy": "2022-09-18T18:28:21.908152Z",
     "iopub.status.idle": "2022-09-18T18:28:21.919154Z",
     "shell.execute_reply": "2022-09-18T18:28:21.917743Z",
     "shell.execute_reply.started": "2022-09-18T18:28:21.909541Z"
    },
    "papermill": {
     "duration": null,
     "end_time": null,
     "exception": null,
     "start_time": null,
     "status": "pending"
    },
    "tags": []
   },
   "outputs": [],
   "source": [
    "ap.resample"
   ]
  },
  {
   "cell_type": "code",
   "execution_count": null,
   "id": "52f319ec",
   "metadata": {
    "execution": {
     "iopub.execute_input": "2022-09-18T18:28:22.057165Z",
     "iopub.status.busy": "2022-09-18T18:28:22.056292Z",
     "iopub.status.idle": "2022-09-18T18:28:22.187280Z",
     "shell.execute_reply": "2022-09-18T18:28:22.185376Z",
     "shell.execute_reply.started": "2022-09-18T18:28:22.057125Z"
    },
    "papermill": {
     "duration": null,
     "end_time": null,
     "exception": null,
     "start_time": null,
     "status": "pending"
    },
    "tags": []
   },
   "outputs": [],
   "source": [
    "\n",
    "tokenizer, config = TTSTokenizer.init_from_config(config)"
   ]
  },
  {
   "cell_type": "code",
   "execution_count": null,
   "id": "41273833",
   "metadata": {
    "execution": {
     "iopub.execute_input": "2022-09-18T18:28:22.192167Z",
     "iopub.status.busy": "2022-09-18T18:28:22.191818Z",
     "iopub.status.idle": "2022-09-18T18:28:22.198950Z",
     "shell.execute_reply": "2022-09-18T18:28:22.196804Z",
     "shell.execute_reply.started": "2022-09-18T18:28:22.192133Z"
    },
    "papermill": {
     "duration": null,
     "end_time": null,
     "exception": null,
     "start_time": null,
     "status": "pending"
    },
    "tags": []
   },
   "outputs": [],
   "source": [
    "\n",
    "model = GlowTTS(config, ap, tokenizer, speaker_manager=None)"
   ]
  },
  {
   "cell_type": "code",
   "execution_count": null,
   "id": "fb516837",
   "metadata": {
    "execution": {
     "iopub.execute_input": "2022-09-18T18:28:22.325709Z",
     "iopub.status.busy": "2022-09-18T18:28:22.325274Z",
     "iopub.status.idle": "2022-09-18T18:28:22.887435Z",
     "shell.execute_reply": "2022-09-18T18:28:22.885734Z",
     "shell.execute_reply.started": "2022-09-18T18:28:22.325662Z"
    },
    "papermill": {
     "duration": null,
     "end_time": null,
     "exception": null,
     "start_time": null,
     "status": "pending"
    },
    "tags": []
   },
   "outputs": [],
   "source": [
    "model"
   ]
  },
  {
   "cell_type": "code",
   "execution_count": null,
   "id": "566329fc",
   "metadata": {},
   "outputs": [],
   "source": [
    "if(is_pretrain):\n",
    "    pretrain_path =  '/home/apsisdev/mobassir/data/tts/bn_GlowTTS/female/'\n",
    "else:\n",
    "    pretrain_path = ''"
   ]
  },
  {
   "cell_type": "code",
   "execution_count": null,
   "id": "60d330ff",
   "metadata": {
    "execution": {
     "iopub.execute_input": "2022-09-18T18:28:23.218109Z",
     "iopub.status.busy": "2022-09-18T18:28:23.217247Z"
    },
    "papermill": {
     "duration": null,
     "end_time": null,
     "exception": null,
     "start_time": null,
     "status": "pending"
    },
    "scrolled": true,
    "tags": []
   },
   "outputs": [],
   "source": [
    "# using continue_path argument below for retraining model from last saved weight https://github.com/coqui-ai/Trainer/blob/main/trainer/trainer.py#L210\n",
    "\n",
    "trainer = Trainer(\n",
    "    TrainerArgs(continue_path = pretrain_path), config, output_path, model=model, train_samples=train_samples, eval_samples=eval_samples\n",
    ")"
   ]
  },
  {
   "cell_type": "code",
   "execution_count": null,
   "id": "3176de8b",
   "metadata": {
    "papermill": {
     "duration": null,
     "end_time": null,
     "exception": null,
     "start_time": null,
     "status": "pending"
    },
    "tags": []
   },
   "outputs": [],
   "source": [
    "%%time\n",
    "\n",
    "# AND... 3,2,1... 🚀\n",
    "trainer.fit()"
   ]
  },
  {
   "cell_type": "code",
   "execution_count": null,
   "id": "b3548781",
   "metadata": {},
   "outputs": [],
   "source": [
    "!nvidia-smi"
   ]
  },
  {
   "cell_type": "code",
   "execution_count": null,
   "id": "4d98f3af",
   "metadata": {},
   "outputs": [],
   "source": []
  },
  {
   "cell_type": "code",
   "execution_count": null,
   "id": "da922236",
   "metadata": {},
   "outputs": [],
   "source": [
    "np.__version__#1.21.6"
   ]
  },
  {
   "cell_type": "code",
   "execution_count": null,
   "id": "99d15397",
   "metadata": {},
   "outputs": [],
   "source": []
  }
 ],
 "metadata": {
  "kernelspec": {
   "display_name": "mobassir",
   "language": "python",
   "name": "mobassir"
  },
  "language_info": {
   "codemirror_mode": {
    "name": "ipython",
    "version": 3
   },
   "file_extension": ".py",
   "mimetype": "text/x-python",
   "name": "python",
   "nbconvert_exporter": "python",
   "pygments_lexer": "ipython3",
   "version": "3.8.13"
  },
  "papermill": {
   "default_parameters": {},
   "duration": 171.598093,
   "end_time": "2022-09-18T18:41:51.067487",
   "environment_variables": {},
   "exception": true,
   "input_path": "__notebook__.ipynb",
   "output_path": "__notebook__.ipynb",
   "parameters": {},
   "start_time": "2022-09-18T18:38:59.469394",
   "version": "2.3.4"
  }
 },
 "nbformat": 4,
 "nbformat_minor": 5
}
