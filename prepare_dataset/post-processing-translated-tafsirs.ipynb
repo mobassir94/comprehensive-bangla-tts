{
 "cells": [
  {
   "cell_type": "code",
   "execution_count": 1,
   "id": "f9e1524c",
   "metadata": {
    "_cell_guid": "b1076dfc-b9ad-4769-8c92-a6c4dae69d19",
    "_uuid": "8f2839f25d086af736a60e9eeb907d3b93b6e0e5",
    "execution": {
     "iopub.execute_input": "2022-11-04T14:58:56.183188Z",
     "iopub.status.busy": "2022-11-04T14:58:56.182056Z",
     "iopub.status.idle": "2022-11-04T14:58:56.338092Z",
     "shell.execute_reply": "2022-11-04T14:58:56.336751Z"
    },
    "papermill": {
     "duration": 0.167468,
     "end_time": "2022-11-04T14:58:56.341695",
     "exception": false,
     "start_time": "2022-11-04T14:58:56.174227",
     "status": "completed"
    },
    "tags": []
   },
   "outputs": [
    {
     "name": "stdout",
     "output_type": "stream",
     "text": [
      "/kaggle/input/qtafsir/Multilingual_bn_ar_tafsir_ibn_kathir.csv\n",
      "/kaggle/input/qtafsir/nllb-200_Multilingual_bn_ar_tafsir_al_jalalayn.csv\n"
     ]
    }
   ],
   "source": [
    "# This Python 3 environment comes with many helpful analytics libraries installed\n",
    "# It is defined by the kaggle/python Docker image: https://github.com/kaggle/docker-python\n",
    "# For example, here's several helpful packages to load\n",
    "\n",
    "import numpy as np # linear algebra\n",
    "import pandas as pd # data processing, CSV file I/O (e.g. pd.read_csv)\n",
    "\n",
    "# Input data files are available in the read-only \"../input/\" directory\n",
    "# For example, running this (by clicking run or pressing Shift+Enter) will list all files under the input directory\n",
    "from tqdm.auto import tqdm\n",
    "tqdm.pandas()\n",
    "\n",
    "import os\n",
    "for dirname, _, filenames in os.walk('/kaggle/input'):\n",
    "    for filename in filenames:\n",
    "        print(os.path.join(dirname, filename))\n",
    "\n",
    "# You can write up to 20GB to the current directory (/kaggle/working/) that gets preserved as output when you create a version using \"Save & Run All\" \n",
    "# You can also write temporary files to /kaggle/temp/, but they won't be saved outside of the current session"
   ]
  },
  {
   "cell_type": "code",
   "execution_count": 2,
   "id": "77ea7932",
   "metadata": {
    "execution": {
     "iopub.execute_input": "2022-11-04T14:58:56.353952Z",
     "iopub.status.busy": "2022-11-04T14:58:56.353433Z",
     "iopub.status.idle": "2022-11-04T14:58:57.569307Z",
     "shell.execute_reply": "2022-11-04T14:58:57.568187Z"
    },
    "papermill": {
     "duration": 1.224659,
     "end_time": "2022-11-04T14:58:57.571819",
     "exception": false,
     "start_time": "2022-11-04T14:58:56.347160",
     "status": "completed"
    },
    "tags": []
   },
   "outputs": [
    {
     "data": {
      "text/html": [
       "<div>\n",
       "<style scoped>\n",
       "    .dataframe tbody tr th:only-of-type {\n",
       "        vertical-align: middle;\n",
       "    }\n",
       "\n",
       "    .dataframe tbody tr th {\n",
       "        vertical-align: top;\n",
       "    }\n",
       "\n",
       "    .dataframe thead th {\n",
       "        text-align: right;\n",
       "    }\n",
       "</style>\n",
       "<table border=\"1\" class=\"dataframe\">\n",
       "  <thead>\n",
       "    <tr style=\"text-align: right;\">\n",
       "      <th></th>\n",
       "      <th>Surah</th>\n",
       "      <th>Ayah</th>\n",
       "      <th>Tafsir</th>\n",
       "      <th>Tafsir_en</th>\n",
       "      <th>detected_unknowns</th>\n",
       "      <th>Tafsir_bn</th>\n",
       "    </tr>\n",
       "  </thead>\n",
       "  <tbody>\n",
       "    <tr>\n",
       "      <th>0</th>\n",
       "      <td>1</td>\n",
       "      <td>1</td>\n",
       "      <td>Introduction to Fatihah.Which was revealed in ...</td>\n",
       "      <td>Introduction to Fatihah.Which was revealed in ...</td>\n",
       "      <td>furqan surahs atas jibril hasan ruqyah jabir a...</td>\n",
       "      <td>ফাতিমার পরিচিতি  যা মক্কায় অবতীর্ণ হয়েছিল  ...</td>\n",
       "    </tr>\n",
       "  </tbody>\n",
       "</table>\n",
       "</div>"
      ],
      "text/plain": [
       "   Surah  Ayah                                             Tafsir  \\\n",
       "0      1     1  Introduction to Fatihah.Which was revealed in ...   \n",
       "\n",
       "                                           Tafsir_en  \\\n",
       "0  Introduction to Fatihah.Which was revealed in ...   \n",
       "\n",
       "                                   detected_unknowns  \\\n",
       "0  furqan surahs atas jibril hasan ruqyah jabir a...   \n",
       "\n",
       "                                           Tafsir_bn  \n",
       "0   ফাতিমার পরিচিতি  যা মক্কায় অবতীর্ণ হয়েছিল  ...  "
      ]
     },
     "execution_count": 2,
     "metadata": {},
     "output_type": "execute_result"
    }
   ],
   "source": [
    "ibn_kathir = pd.read_csv('/kaggle/input/qtafsir/Multilingual_bn_ar_tafsir_ibn_kathir.csv')\n",
    "ibn_kathir.head(1)"
   ]
  },
  {
   "cell_type": "code",
   "execution_count": 3,
   "id": "117d9b33",
   "metadata": {
    "execution": {
     "iopub.execute_input": "2022-11-04T14:58:57.583861Z",
     "iopub.status.busy": "2022-11-04T14:58:57.583407Z",
     "iopub.status.idle": "2022-11-04T14:58:57.863630Z",
     "shell.execute_reply": "2022-11-04T14:58:57.862382Z"
    },
    "papermill": {
     "duration": 0.289213,
     "end_time": "2022-11-04T14:58:57.866427",
     "exception": false,
     "start_time": "2022-11-04T14:58:57.577214",
     "status": "completed"
    },
    "tags": []
   },
   "outputs": [
    {
     "data": {
      "text/html": [
       "<div>\n",
       "<style scoped>\n",
       "    .dataframe tbody tr th:only-of-type {\n",
       "        vertical-align: middle;\n",
       "    }\n",
       "\n",
       "    .dataframe tbody tr th {\n",
       "        vertical-align: top;\n",
       "    }\n",
       "\n",
       "    .dataframe thead th {\n",
       "        text-align: right;\n",
       "    }\n",
       "</style>\n",
       "<table border=\"1\" class=\"dataframe\">\n",
       "  <thead>\n",
       "    <tr style=\"text-align: right;\">\n",
       "      <th></th>\n",
       "      <th>ayat</th>\n",
       "      <th>তাইসিরুল</th>\n",
       "      <th>en_tafsir_jalalayn</th>\n",
       "      <th>Tafsir_bn</th>\n",
       "    </tr>\n",
       "  </thead>\n",
       "  <tbody>\n",
       "    <tr>\n",
       "      <th>0</th>\n",
       "      <td>surah 1, ayat  1</td>\n",
       "      <td>(আরম্ভ করছি) পরম করুণাময় অসীম দয়াময় আল্লাহর না...</td>\n",
       "      <td>In the Name of God the Compassionate the Merciful</td>\n",
       "      <td>করুণাময় দয়ালু আল্লাহর নামে</td>\n",
       "    </tr>\n",
       "  </tbody>\n",
       "</table>\n",
       "</div>"
      ],
      "text/plain": [
       "               ayat                                           তাইসিরুল  \\\n",
       "0  surah 1, ayat  1  (আরম্ভ করছি) পরম করুণাময় অসীম দয়াময় আল্লাহর না...   \n",
       "\n",
       "                                  en_tafsir_jalalayn  \\\n",
       "0  In the Name of God the Compassionate the Merciful   \n",
       "\n",
       "                       Tafsir_bn  \n",
       "0   করুণাময় দয়ালু আল্লাহর নামে  "
      ]
     },
     "execution_count": 3,
     "metadata": {},
     "output_type": "execute_result"
    }
   ],
   "source": [
    "jalalayn = pd.read_csv('/kaggle/input/qtafsir/nllb-200_Multilingual_bn_ar_tafsir_al_jalalayn.csv')\n",
    "jalalayn.head(1)"
   ]
  },
  {
   "cell_type": "code",
   "execution_count": 4,
   "id": "68ef3ac2",
   "metadata": {
    "execution": {
     "iopub.execute_input": "2022-11-04T14:58:57.879083Z",
     "iopub.status.busy": "2022-11-04T14:58:57.878563Z",
     "iopub.status.idle": "2022-11-04T14:58:57.895737Z",
     "shell.execute_reply": "2022-11-04T14:58:57.894137Z"
    },
    "papermill": {
     "duration": 0.027242,
     "end_time": "2022-11-04T14:58:57.898825",
     "exception": false,
     "start_time": "2022-11-04T14:58:57.871583",
     "status": "completed"
    },
    "tags": []
   },
   "outputs": [
    {
     "name": "stderr",
     "output_type": "stream",
     "text": [
      "/opt/conda/lib/python3.7/site-packages/ipykernel_launcher.py:1: SettingWithCopyWarning: \n",
      "A value is trying to be set on a copy of a slice from a DataFrame\n",
      "\n",
      "See the caveats in the documentation: https://pandas.pydata.org/pandas-docs/stable/user_guide/indexing.html#returning-a-view-versus-a-copy\n",
      "  \"\"\"Entry point for launching an IPython kernel.\n"
     ]
    }
   ],
   "source": [
    "ibn_kathir.Tafsir_bn[0] = ibn_kathir.Tafsir_bn[0].replace(\"ফাতিমার\",\"আল-ফাতিহার\")"
   ]
  },
  {
   "cell_type": "code",
   "execution_count": 5,
   "id": "5a6c0d49",
   "metadata": {
    "execution": {
     "iopub.execute_input": "2022-11-04T14:58:57.912135Z",
     "iopub.status.busy": "2022-11-04T14:58:57.911076Z",
     "iopub.status.idle": "2022-11-04T14:58:57.918853Z",
     "shell.execute_reply": "2022-11-04T14:58:57.917287Z"
    },
    "papermill": {
     "duration": 0.017064,
     "end_time": "2022-11-04T14:58:57.921537",
     "exception": false,
     "start_time": "2022-11-04T14:58:57.904473",
     "status": "completed"
    },
    "tags": []
   },
   "outputs": [],
   "source": [
    "def remove_tags(tagged_tafsir_mlt):\n",
    "    tagged_tafsir_mlt=tagged_tafsir_mlt.replace(\"</ar>\",' ')\n",
    "    tagged_tafsir_mlt=tagged_tafsir_mlt.replace(\"<ar>\",' ')\n",
    "    tagged_tafsir_mlt=tagged_tafsir_mlt.replace(\"কিন্তু, তা সত্ত্বেও তিনি যিহোবার প্রতি অনুগত ছিলেন।\",\" \")\n",
    "    return tagged_tafsir_mlt"
   ]
  },
  {
   "cell_type": "code",
   "execution_count": 6,
   "id": "b474e75c",
   "metadata": {
    "execution": {
     "iopub.execute_input": "2022-11-04T14:58:57.934148Z",
     "iopub.status.busy": "2022-11-04T14:58:57.933701Z",
     "iopub.status.idle": "2022-11-04T14:58:58.038127Z",
     "shell.execute_reply": "2022-11-04T14:58:58.036748Z"
    },
    "papermill": {
     "duration": 0.114312,
     "end_time": "2022-11-04T14:58:58.040903",
     "exception": false,
     "start_time": "2022-11-04T14:58:57.926591",
     "status": "completed"
    },
    "tags": []
   },
   "outputs": [
    {
     "data": {
      "application/vnd.jupyter.widget-view+json": {
       "model_id": "92db5891d5764e33aa070d1854c98441",
       "version_major": 2,
       "version_minor": 0
      },
      "text/plain": [
       "  0%|          | 0/2029 [00:00<?, ?it/s]"
      ]
     },
     "metadata": {},
     "output_type": "display_data"
    }
   ],
   "source": [
    "ibn_kathir.Tafsir_bn=ibn_kathir.Tafsir_bn.progress_apply(lambda tagged_tafsir_mlt: remove_tags(tagged_tafsir_mlt))"
   ]
  },
  {
   "cell_type": "code",
   "execution_count": 7,
   "id": "52fe5c3f",
   "metadata": {
    "execution": {
     "iopub.execute_input": "2022-11-04T14:58:58.053713Z",
     "iopub.status.busy": "2022-11-04T14:58:58.053236Z",
     "iopub.status.idle": "2022-11-04T14:58:58.120632Z",
     "shell.execute_reply": "2022-11-04T14:58:58.119355Z"
    },
    "papermill": {
     "duration": 0.078641,
     "end_time": "2022-11-04T14:58:58.124927",
     "exception": false,
     "start_time": "2022-11-04T14:58:58.046286",
     "status": "completed"
    },
    "tags": []
   },
   "outputs": [
    {
     "data": {
      "application/vnd.jupyter.widget-view+json": {
       "model_id": "613f2cfbb324425fb82f7ca488a6de79",
       "version_major": 2,
       "version_minor": 0
      },
      "text/plain": [
       "  0%|          | 0/6236 [00:00<?, ?it/s]"
      ]
     },
     "metadata": {},
     "output_type": "display_data"
    }
   ],
   "source": [
    "jalalayn.Tafsir_bn=jalalayn.Tafsir_bn.progress_apply(lambda tagged_tafsir_mlt: remove_tags(tagged_tafsir_mlt))"
   ]
  },
  {
   "cell_type": "code",
   "execution_count": 8,
   "id": "c396ba1c",
   "metadata": {
    "execution": {
     "iopub.execute_input": "2022-11-04T14:58:58.137641Z",
     "iopub.status.busy": "2022-11-04T14:58:58.137211Z",
     "iopub.status.idle": "2022-11-04T14:58:58.147176Z",
     "shell.execute_reply": "2022-11-04T14:58:58.145633Z"
    },
    "papermill": {
     "duration": 0.020188,
     "end_time": "2022-11-04T14:58:58.150443",
     "exception": false,
     "start_time": "2022-11-04T14:58:58.130255",
     "status": "completed"
    },
    "tags": []
   },
   "outputs": [
    {
     "data": {
      "text/plain": [
       "' ঈশ্বরের নামে কোন কিছুর নাম হয়, যার দ্বারা তা জানা যায়  আল্লাহ তাআলার নামসমূহকে উচ্চীকৃত করা হয় তাঁর আদিরূপ সুওয়ার নাওয়াইয়া যার সুনির্দিষ্টতা ও আয়াতসমূহ হুওয়াইইয়া দ্বারা আল্লাহ ও তাঁর সত্তার গুণাবলিকে নির্দেশ করে এবং যা তাদের অস্তিত্ব দ্বারা এবং তাদের পৃথকীকরণ দ্বারা তাঁর একত্বকে নির্দেশ করে।  এগুলো হচ্ছে বাহ্যিক প্রকাশ যার মাধ্যমে তিনি পরিচিত হতে পারেন; আল্লাহ হলেন ঐশিক সত্ত্বার একটি নাম, কোন কিছু বিবেচনা না করে যে এটি গুণাবলি দ্বারা যোগ্যতা অর্জন করতে পারে বা প্রকৃতপক্ষে এটি যোগ্যতা অর্জন করতে পারে না; করুণাময় হলেন সেই ব্যক্তি যিনি সমস্ত কিছুর উপর অস্তিত্ব এবং সিদ্ধতা আনেন যা ঐশিক প্রজ্ঞার প্রয়োজন এবং তাদের সৃষ্টির শুরু থেকে প্রাপ্ত সত্তা কাওয়াবিলের ক্ষমতাকে বোঝায়; করুণাময় আল-রহিম হলেন সেই ব্যক্তি যিনি আধ্যাত্মিক সিদ্ধতা কামাল মানাউয়ি প্রদান করেন যা শেষকালে মানব প্রজাতির জন্য চিহ্নিত করা হয়েছে।  পরকালে  এ কারণে তারা বলে হে তুমি এই বিশ্বের এবং পরকালের করুণাময় ব্যক্তি হে রহমান আল-দুনিয়া ওয়াল-আকিরা কিন্তু হে করুণাময় পরকালের রহিম আল-আকিরা এর অর্থ তখন হয় সিদ্ধ মানবের সর্বব্যাপী সাধারণ ও সুনির্দিষ্ট করুণা যা হচ্ছে ঐশিক নির্যাস এবং সর্বোৎকৃষ্ট সত্য যা আমি শুরু করি এবং আবৃত্তি করি।  আল্লাহ আল্লাহর সর্বমহান নাম  এর অর্থ এই যে, নবী (স.) যখন বলেছিলেন, আমাকে সব চমৎকার ভাষণের সমষ্টি দেওয়া হয়েছে  কুরআন এবং মহান চারিত্রিক বৈশিষ্ট্য সম্পন্ন করার জন্য পাঠানো হয়েছে মাকারিম আল-আখলাক  শব্দের জন্য অস্তিত্বে হকিক মওজুদাত এবং তাদের কংক্রিট উপাদান আয়ান ঠিক যেমন যীশুর উপর শান্তি বর্ষিত হয়েছিল ঈশ্বরের কাছ থেকে একটি বাক্য সিএফ  ৩৩৯৪৫  মহৎ চারিত্রিক বৈশিষ্ট্যগুলি এই সত্তাগুলির নিখুঁততা এবং তাদের নির্দিষ্টতাগুলি তাদের অস্তিত্বের উৎস গঠন করে তাদের সমগ্র মধ্যে তাদের অস্তিত্বের উৎস যেমন তারা বিস্তৃত মানব মাইক্রোকসম কান ইনসানি  এখানে একটি সূক্ষ্ম লা  যদি নবীগণ তাদের উপর শান্তি বর্ষিত করেন, তবে তাদের বর্ণমালার অক্ষরগুলি জীবিতদের পদমর্যাদার সাথে সাদৃশ্যপূর্ণ করা হয়।   '"
      ]
     },
     "execution_count": 8,
     "metadata": {},
     "output_type": "execute_result"
    }
   ],
   "source": [
    "jalalayn.Tafsir_bn[1]"
   ]
  },
  {
   "cell_type": "code",
   "execution_count": 9,
   "id": "cacebb81",
   "metadata": {
    "execution": {
     "iopub.execute_input": "2022-11-04T14:58:58.164767Z",
     "iopub.status.busy": "2022-11-04T14:58:58.164046Z",
     "iopub.status.idle": "2022-11-04T14:58:58.173320Z",
     "shell.execute_reply": "2022-11-04T14:58:58.172127Z"
    },
    "papermill": {
     "duration": 0.019423,
     "end_time": "2022-11-04T14:58:58.175803",
     "exception": false,
     "start_time": "2022-11-04T14:58:58.156380",
     "status": "completed"
    },
    "tags": []
   },
   "outputs": [
    {
     "data": {
      "text/plain": [
       "\"In the Name of God the name of a thing is that by which it can be known. The Names of God exalted be He are the archetypal forms ṣuwar nawʿiyya whose specificities and ipseities hūwiyya indicate the attributes of God and His essence and which indicate by their very existence His countenance and by their individuation His oneness. For these are the outward manifestations through which He can be known; Allāh is a name for the divine essence qua essence absolutely without taking into consideration that it may be qualified by the attributes or indeed taking into consideration that it may not be so qualified; the Compassionate is the one who causes existence and perfection to flow upon all things in the measure that divine wisdom requires and to the capacity of the receiving entities qawābil from the outset of their creation; the Merciful al-Raḥīm is the one who bestows the spiritual perfection kamāl maʿnawī that has been earmarked for the human species in the end sc. in the Hereafter. It is for this reason that they say O You Who are the Compassionate One of this world and of the Hereafter yā raḥmān al-dunyā wa'l-ākhira but say O Merciful One of the Hereafter raḥīm al-ākhira the meaning then is in the perfect human all-encompassing form general and specific mercy which is the locus of manifestation of the divine essence and the greatest truth with the totality of attributes I commence and I recite. It Allāh is the Greatest Name of God. It is to this meaning that the Prophet's ṣlʿm alluded when he said 'I have been given the sum of all excellent speech sc. The QurÌān and have been sent to complete the noble character traits makārim al-akhlāq. For words constitute the realities ḥaqāÌiq of existents mawjūdāt and their concrete substances aʿyān just as Jesus peace be upon him was called a Word from God cf. 33945. The noble character traits are the perfections of these existents and represent their specifities constituting the sources of their the existents' actions in their entirety contained as they are in the comprehensive human microcosm kawn insānī. Herein lies a subtlety la?īfa namely that the prophets peace be upon them have made the letters of the alphabet analogous to the ranks of existents marātib al-mawjūdāt.\""
      ]
     },
     "execution_count": 9,
     "metadata": {},
     "output_type": "execute_result"
    }
   ],
   "source": [
    "jalalayn.en_tafsir_jalalayn[1]"
   ]
  },
  {
   "cell_type": "code",
   "execution_count": 10,
   "id": "27543066",
   "metadata": {
    "execution": {
     "iopub.execute_input": "2022-11-04T14:58:58.190455Z",
     "iopub.status.busy": "2022-11-04T14:58:58.189903Z",
     "iopub.status.idle": "2022-11-04T14:58:58.200584Z",
     "shell.execute_reply": "2022-11-04T14:58:58.198971Z"
    },
    "papermill": {
     "duration": 0.021789,
     "end_time": "2022-11-04T14:58:58.203245",
     "exception": false,
     "start_time": "2022-11-04T14:58:58.181456",
     "status": "completed"
    },
    "tags": []
   },
   "outputs": [
    {
     "data": {
      "text/plain": [
       "' কেয়ামতের দিন যা কেয়ামতের দিন  বিচারের দিন সম্বন্ধে নির্দিষ্টভাবে উল্লেখ করার কারণ হল যে, সেই দিনে কারও কর্তৃত্ব দেখা যাবে না, শুধুমাত্র ঈশ্বরের যিনি তাঁকে উচ্চীকৃত করতে পারেন, যা ঈশ্বরের এই কথাগুলোর দ্বারা ইঙ্গিত করা হয়েছে যে, আজকে কার রাজ্য  ঈশ্বরের প্রশ্ন  ৪০১৬ যদি কেউ একে মালিক এর বিপরীত হিসাবে পড়ে তাহলে এটি বোঝায় যে কেয়ামতের দিনে তাঁর সমস্ত বিষয় রয়েছে অথবা তিনি কখনও এই অভিব্যক্তি দ্বারা বর্ণনা করা হয় একই ভাবে যেমন তিনি পাপ ক্ষমাকারী গাফির আল-দানব  এভাবে একটি নির্দিষ্ট বিশেষ্যের বিশেষণ হিসেবে একে গ্রহণ করা যায়।   '"
      ]
     },
     "execution_count": 10,
     "metadata": {},
     "output_type": "execute_result"
    }
   ],
   "source": [
    "jalalayn.Tafsir_bn[3]"
   ]
  },
  {
   "cell_type": "code",
   "execution_count": 11,
   "id": "3785f48f",
   "metadata": {
    "execution": {
     "iopub.execute_input": "2022-11-04T14:58:58.217978Z",
     "iopub.status.busy": "2022-11-04T14:58:58.217504Z",
     "iopub.status.idle": "2022-11-04T14:58:58.226325Z",
     "shell.execute_reply": "2022-11-04T14:58:58.224952Z"
    },
    "papermill": {
     "duration": 0.019342,
     "end_time": "2022-11-04T14:58:58.229466",
     "exception": false,
     "start_time": "2022-11-04T14:58:58.210124",
     "status": "completed"
    },
    "tags": []
   },
   "outputs": [
    {
     "data": {
      "text/plain": [
       "'Master of the Day of Judgement that is the day of requite the Day of Resurrection. The reason for the specific mention of the Day of Judgement is that the mastery of none shall appear on that Day except that of God may He be exalted as is indicated by God’s words ‘Whose is the Kingdom today?’ ‘God’s’ Q. 4016 if one reads it mālik as opposed to malik then this signifies that He has possession of the entire affair on the Day of Resurrection or else that He is ever described by this expression in the same way as He is described as ‘Forgiver of sin’ ghāfir al-dhanb. Thus one can validly take it as an adjective of a definite noun.'"
      ]
     },
     "execution_count": 11,
     "metadata": {},
     "output_type": "execute_result"
    }
   ],
   "source": [
    "jalalayn.en_tafsir_jalalayn[3]"
   ]
  },
  {
   "cell_type": "code",
   "execution_count": 12,
   "id": "c0a0791d",
   "metadata": {
    "execution": {
     "iopub.execute_input": "2022-11-04T14:58:58.243789Z",
     "iopub.status.busy": "2022-11-04T14:58:58.243240Z",
     "iopub.status.idle": "2022-11-04T14:58:58.253421Z",
     "shell.execute_reply": "2022-11-04T14:58:58.252094Z"
    },
    "papermill": {
     "duration": 0.021235,
     "end_time": "2022-11-04T14:58:58.256716",
     "exception": false,
     "start_time": "2022-11-04T14:58:58.235481",
     "status": "completed"
    },
    "tags": []
   },
   "outputs": [],
   "source": [
    "\n",
    "ibn_kathir.drop(['Tafsir_en', 'detected_unknowns'], axis=1, inplace=True)"
   ]
  },
  {
   "cell_type": "code",
   "execution_count": 13,
   "id": "e464f99f",
   "metadata": {
    "execution": {
     "iopub.execute_input": "2022-11-04T14:58:58.271159Z",
     "iopub.status.busy": "2022-11-04T14:58:58.270478Z",
     "iopub.status.idle": "2022-11-04T14:58:58.857313Z",
     "shell.execute_reply": "2022-11-04T14:58:58.856009Z"
    },
    "papermill": {
     "duration": 0.597916,
     "end_time": "2022-11-04T14:58:58.860453",
     "exception": false,
     "start_time": "2022-11-04T14:58:58.262537",
     "status": "completed"
    },
    "tags": []
   },
   "outputs": [],
   "source": [
    "ibn_kathir.to_csv('Multilingual_bn_ar_tafsir_ibn_kathir.csv',index = False)"
   ]
  },
  {
   "cell_type": "code",
   "execution_count": 14,
   "id": "39fcfc6b",
   "metadata": {
    "execution": {
     "iopub.execute_input": "2022-11-04T14:58:58.874310Z",
     "iopub.status.busy": "2022-11-04T14:58:58.873065Z",
     "iopub.status.idle": "2022-11-04T14:58:59.037090Z",
     "shell.execute_reply": "2022-11-04T14:58:59.035732Z"
    },
    "papermill": {
     "duration": 0.174093,
     "end_time": "2022-11-04T14:58:59.040130",
     "exception": false,
     "start_time": "2022-11-04T14:58:58.866037",
     "status": "completed"
    },
    "tags": []
   },
   "outputs": [],
   "source": [
    "jalalayn.to_csv('Multilingual_bn_ar_tafsir_al_jalalayn.csv',index = False)"
   ]
  }
 ],
 "metadata": {
  "kernelspec": {
   "display_name": "Python 3",
   "language": "python",
   "name": "python3"
  },
  "language_info": {
   "codemirror_mode": {
    "name": "ipython",
    "version": 3
   },
   "file_extension": ".py",
   "mimetype": "text/x-python",
   "name": "python",
   "nbconvert_exporter": "python",
   "pygments_lexer": "ipython3",
   "version": "3.7.12"
  },
  "papermill": {
   "default_parameters": {},
   "duration": 12.976583,
   "end_time": "2022-11-04T14:58:59.771768",
   "environment_variables": {},
   "exception": null,
   "input_path": "__notebook__.ipynb",
   "output_path": "__notebook__.ipynb",
   "parameters": {},
   "start_time": "2022-11-04T14:58:46.795185",
   "version": "2.3.4"
  },
  "widgets": {
   "application/vnd.jupyter.widget-state+json": {
    "state": {
     "032f7d44531e46538f1f5f33b1109bde": {
      "model_module": "@jupyter-widgets/controls",
      "model_module_version": "1.5.0",
      "model_name": "DescriptionStyleModel",
      "state": {
       "_model_module": "@jupyter-widgets/controls",
       "_model_module_version": "1.5.0",
       "_model_name": "DescriptionStyleModel",
       "_view_count": null,
       "_view_module": "@jupyter-widgets/base",
       "_view_module_version": "1.2.0",
       "_view_name": "StyleView",
       "description_width": ""
      }
     },
     "0a54a476c37e43cdb0d0e1a29ce0cefb": {
      "model_module": "@jupyter-widgets/controls",
      "model_module_version": "1.5.0",
      "model_name": "HTMLModel",
      "state": {
       "_dom_classes": [],
       "_model_module": "@jupyter-widgets/controls",
       "_model_module_version": "1.5.0",
       "_model_name": "HTMLModel",
       "_view_count": null,
       "_view_module": "@jupyter-widgets/controls",
       "_view_module_version": "1.5.0",
       "_view_name": "HTMLView",
       "description": "",
       "description_tooltip": null,
       "layout": "IPY_MODEL_4cc1ccde3f304d1293e0b5201b5e3c1e",
       "placeholder": "​",
       "style": "IPY_MODEL_032f7d44531e46538f1f5f33b1109bde",
       "value": "100%"
      }
     },
     "0f11ae3a6b684e12b7358fe2551d15f5": {
      "model_module": "@jupyter-widgets/base",
      "model_module_version": "1.2.0",
      "model_name": "LayoutModel",
      "state": {
       "_model_module": "@jupyter-widgets/base",
       "_model_module_version": "1.2.0",
       "_model_name": "LayoutModel",
       "_view_count": null,
       "_view_module": "@jupyter-widgets/base",
       "_view_module_version": "1.2.0",
       "_view_name": "LayoutView",
       "align_content": null,
       "align_items": null,
       "align_self": null,
       "border": null,
       "bottom": null,
       "display": null,
       "flex": null,
       "flex_flow": null,
       "grid_area": null,
       "grid_auto_columns": null,
       "grid_auto_flow": null,
       "grid_auto_rows": null,
       "grid_column": null,
       "grid_gap": null,
       "grid_row": null,
       "grid_template_areas": null,
       "grid_template_columns": null,
       "grid_template_rows": null,
       "height": null,
       "justify_content": null,
       "justify_items": null,
       "left": null,
       "margin": null,
       "max_height": null,
       "max_width": null,
       "min_height": null,
       "min_width": null,
       "object_fit": null,
       "object_position": null,
       "order": null,
       "overflow": null,
       "overflow_x": null,
       "overflow_y": null,
       "padding": null,
       "right": null,
       "top": null,
       "visibility": null,
       "width": null
      }
     },
     "1da95f8dd93c46c6b280fb87014f7e55": {
      "model_module": "@jupyter-widgets/controls",
      "model_module_version": "1.5.0",
      "model_name": "FloatProgressModel",
      "state": {
       "_dom_classes": [],
       "_model_module": "@jupyter-widgets/controls",
       "_model_module_version": "1.5.0",
       "_model_name": "FloatProgressModel",
       "_view_count": null,
       "_view_module": "@jupyter-widgets/controls",
       "_view_module_version": "1.5.0",
       "_view_name": "ProgressView",
       "bar_style": "success",
       "description": "",
       "description_tooltip": null,
       "layout": "IPY_MODEL_0f11ae3a6b684e12b7358fe2551d15f5",
       "max": 2029.0,
       "min": 0.0,
       "orientation": "horizontal",
       "style": "IPY_MODEL_81c47079f9854ae89d3580d81a06d1f0",
       "value": 2029.0
      }
     },
     "2b950d49d2f941e0a3b7cb87000c247c": {
      "model_module": "@jupyter-widgets/controls",
      "model_module_version": "1.5.0",
      "model_name": "FloatProgressModel",
      "state": {
       "_dom_classes": [],
       "_model_module": "@jupyter-widgets/controls",
       "_model_module_version": "1.5.0",
       "_model_name": "FloatProgressModel",
       "_view_count": null,
       "_view_module": "@jupyter-widgets/controls",
       "_view_module_version": "1.5.0",
       "_view_name": "ProgressView",
       "bar_style": "success",
       "description": "",
       "description_tooltip": null,
       "layout": "IPY_MODEL_6b5da27e8bfb4d838e91688fdc479df3",
       "max": 6236.0,
       "min": 0.0,
       "orientation": "horizontal",
       "style": "IPY_MODEL_87806914f90b4fb6b9dce9c6156b7942",
       "value": 6236.0
      }
     },
     "4cc1ccde3f304d1293e0b5201b5e3c1e": {
      "model_module": "@jupyter-widgets/base",
      "model_module_version": "1.2.0",
      "model_name": "LayoutModel",
      "state": {
       "_model_module": "@jupyter-widgets/base",
       "_model_module_version": "1.2.0",
       "_model_name": "LayoutModel",
       "_view_count": null,
       "_view_module": "@jupyter-widgets/base",
       "_view_module_version": "1.2.0",
       "_view_name": "LayoutView",
       "align_content": null,
       "align_items": null,
       "align_self": null,
       "border": null,
       "bottom": null,
       "display": null,
       "flex": null,
       "flex_flow": null,
       "grid_area": null,
       "grid_auto_columns": null,
       "grid_auto_flow": null,
       "grid_auto_rows": null,
       "grid_column": null,
       "grid_gap": null,
       "grid_row": null,
       "grid_template_areas": null,
       "grid_template_columns": null,
       "grid_template_rows": null,
       "height": null,
       "justify_content": null,
       "justify_items": null,
       "left": null,
       "margin": null,
       "max_height": null,
       "max_width": null,
       "min_height": null,
       "min_width": null,
       "object_fit": null,
       "object_position": null,
       "order": null,
       "overflow": null,
       "overflow_x": null,
       "overflow_y": null,
       "padding": null,
       "right": null,
       "top": null,
       "visibility": null,
       "width": null
      }
     },
     "613f2cfbb324425fb82f7ca488a6de79": {
      "model_module": "@jupyter-widgets/controls",
      "model_module_version": "1.5.0",
      "model_name": "HBoxModel",
      "state": {
       "_dom_classes": [],
       "_model_module": "@jupyter-widgets/controls",
       "_model_module_version": "1.5.0",
       "_model_name": "HBoxModel",
       "_view_count": null,
       "_view_module": "@jupyter-widgets/controls",
       "_view_module_version": "1.5.0",
       "_view_name": "HBoxView",
       "box_style": "",
       "children": [
        "IPY_MODEL_f3879470e4e74ac0a433ad49659e31b8",
        "IPY_MODEL_2b950d49d2f941e0a3b7cb87000c247c",
        "IPY_MODEL_7ce9bd831eb547f09938aacb4bf4210a"
       ],
       "layout": "IPY_MODEL_bd0148d22bbd42e58a6fd1ab8389155c"
      }
     },
     "6b3c9cc804ee4bd18b8212cb9f19320d": {
      "model_module": "@jupyter-widgets/controls",
      "model_module_version": "1.5.0",
      "model_name": "DescriptionStyleModel",
      "state": {
       "_model_module": "@jupyter-widgets/controls",
       "_model_module_version": "1.5.0",
       "_model_name": "DescriptionStyleModel",
       "_view_count": null,
       "_view_module": "@jupyter-widgets/base",
       "_view_module_version": "1.2.0",
       "_view_name": "StyleView",
       "description_width": ""
      }
     },
     "6b5da27e8bfb4d838e91688fdc479df3": {
      "model_module": "@jupyter-widgets/base",
      "model_module_version": "1.2.0",
      "model_name": "LayoutModel",
      "state": {
       "_model_module": "@jupyter-widgets/base",
       "_model_module_version": "1.2.0",
       "_model_name": "LayoutModel",
       "_view_count": null,
       "_view_module": "@jupyter-widgets/base",
       "_view_module_version": "1.2.0",
       "_view_name": "LayoutView",
       "align_content": null,
       "align_items": null,
       "align_self": null,
       "border": null,
       "bottom": null,
       "display": null,
       "flex": null,
       "flex_flow": null,
       "grid_area": null,
       "grid_auto_columns": null,
       "grid_auto_flow": null,
       "grid_auto_rows": null,
       "grid_column": null,
       "grid_gap": null,
       "grid_row": null,
       "grid_template_areas": null,
       "grid_template_columns": null,
       "grid_template_rows": null,
       "height": null,
       "justify_content": null,
       "justify_items": null,
       "left": null,
       "margin": null,
       "max_height": null,
       "max_width": null,
       "min_height": null,
       "min_width": null,
       "object_fit": null,
       "object_position": null,
       "order": null,
       "overflow": null,
       "overflow_x": null,
       "overflow_y": null,
       "padding": null,
       "right": null,
       "top": null,
       "visibility": null,
       "width": null
      }
     },
     "7c87d2d770b64abca4d13d2d300de39e": {
      "model_module": "@jupyter-widgets/controls",
      "model_module_version": "1.5.0",
      "model_name": "DescriptionStyleModel",
      "state": {
       "_model_module": "@jupyter-widgets/controls",
       "_model_module_version": "1.5.0",
       "_model_name": "DescriptionStyleModel",
       "_view_count": null,
       "_view_module": "@jupyter-widgets/base",
       "_view_module_version": "1.2.0",
       "_view_name": "StyleView",
       "description_width": ""
      }
     },
     "7ce9bd831eb547f09938aacb4bf4210a": {
      "model_module": "@jupyter-widgets/controls",
      "model_module_version": "1.5.0",
      "model_name": "HTMLModel",
      "state": {
       "_dom_classes": [],
       "_model_module": "@jupyter-widgets/controls",
       "_model_module_version": "1.5.0",
       "_model_name": "HTMLModel",
       "_view_count": null,
       "_view_module": "@jupyter-widgets/controls",
       "_view_module_version": "1.5.0",
       "_view_name": "HTMLView",
       "description": "",
       "description_tooltip": null,
       "layout": "IPY_MODEL_bf7dc15bc7894c72aba5c0d85ec0e32f",
       "placeholder": "​",
       "style": "IPY_MODEL_7c87d2d770b64abca4d13d2d300de39e",
       "value": " 6236/6236 [00:00&lt;00:00, 110442.60it/s]"
      }
     },
     "81c47079f9854ae89d3580d81a06d1f0": {
      "model_module": "@jupyter-widgets/controls",
      "model_module_version": "1.5.0",
      "model_name": "ProgressStyleModel",
      "state": {
       "_model_module": "@jupyter-widgets/controls",
       "_model_module_version": "1.5.0",
       "_model_name": "ProgressStyleModel",
       "_view_count": null,
       "_view_module": "@jupyter-widgets/base",
       "_view_module_version": "1.2.0",
       "_view_name": "StyleView",
       "bar_color": null,
       "description_width": ""
      }
     },
     "87806914f90b4fb6b9dce9c6156b7942": {
      "model_module": "@jupyter-widgets/controls",
      "model_module_version": "1.5.0",
      "model_name": "ProgressStyleModel",
      "state": {
       "_model_module": "@jupyter-widgets/controls",
       "_model_module_version": "1.5.0",
       "_model_name": "ProgressStyleModel",
       "_view_count": null,
       "_view_module": "@jupyter-widgets/base",
       "_view_module_version": "1.2.0",
       "_view_name": "StyleView",
       "bar_color": null,
       "description_width": ""
      }
     },
     "8b7beb57920e4e57aae5c5f10696c103": {
      "model_module": "@jupyter-widgets/controls",
      "model_module_version": "1.5.0",
      "model_name": "DescriptionStyleModel",
      "state": {
       "_model_module": "@jupyter-widgets/controls",
       "_model_module_version": "1.5.0",
       "_model_name": "DescriptionStyleModel",
       "_view_count": null,
       "_view_module": "@jupyter-widgets/base",
       "_view_module_version": "1.2.0",
       "_view_name": "StyleView",
       "description_width": ""
      }
     },
     "92db5891d5764e33aa070d1854c98441": {
      "model_module": "@jupyter-widgets/controls",
      "model_module_version": "1.5.0",
      "model_name": "HBoxModel",
      "state": {
       "_dom_classes": [],
       "_model_module": "@jupyter-widgets/controls",
       "_model_module_version": "1.5.0",
       "_model_name": "HBoxModel",
       "_view_count": null,
       "_view_module": "@jupyter-widgets/controls",
       "_view_module_version": "1.5.0",
       "_view_name": "HBoxView",
       "box_style": "",
       "children": [
        "IPY_MODEL_0a54a476c37e43cdb0d0e1a29ce0cefb",
        "IPY_MODEL_1da95f8dd93c46c6b280fb87014f7e55",
        "IPY_MODEL_d33ee9cf8c45435a888f9f34af299d68"
       ],
       "layout": "IPY_MODEL_c466a6b51ff443e4b8f6f6800de1da74"
      }
     },
     "b1d03b6cda45474ea41df432773f1ce7": {
      "model_module": "@jupyter-widgets/base",
      "model_module_version": "1.2.0",
      "model_name": "LayoutModel",
      "state": {
       "_model_module": "@jupyter-widgets/base",
       "_model_module_version": "1.2.0",
       "_model_name": "LayoutModel",
       "_view_count": null,
       "_view_module": "@jupyter-widgets/base",
       "_view_module_version": "1.2.0",
       "_view_name": "LayoutView",
       "align_content": null,
       "align_items": null,
       "align_self": null,
       "border": null,
       "bottom": null,
       "display": null,
       "flex": null,
       "flex_flow": null,
       "grid_area": null,
       "grid_auto_columns": null,
       "grid_auto_flow": null,
       "grid_auto_rows": null,
       "grid_column": null,
       "grid_gap": null,
       "grid_row": null,
       "grid_template_areas": null,
       "grid_template_columns": null,
       "grid_template_rows": null,
       "height": null,
       "justify_content": null,
       "justify_items": null,
       "left": null,
       "margin": null,
       "max_height": null,
       "max_width": null,
       "min_height": null,
       "min_width": null,
       "object_fit": null,
       "object_position": null,
       "order": null,
       "overflow": null,
       "overflow_x": null,
       "overflow_y": null,
       "padding": null,
       "right": null,
       "top": null,
       "visibility": null,
       "width": null
      }
     },
     "bd0148d22bbd42e58a6fd1ab8389155c": {
      "model_module": "@jupyter-widgets/base",
      "model_module_version": "1.2.0",
      "model_name": "LayoutModel",
      "state": {
       "_model_module": "@jupyter-widgets/base",
       "_model_module_version": "1.2.0",
       "_model_name": "LayoutModel",
       "_view_count": null,
       "_view_module": "@jupyter-widgets/base",
       "_view_module_version": "1.2.0",
       "_view_name": "LayoutView",
       "align_content": null,
       "align_items": null,
       "align_self": null,
       "border": null,
       "bottom": null,
       "display": null,
       "flex": null,
       "flex_flow": null,
       "grid_area": null,
       "grid_auto_columns": null,
       "grid_auto_flow": null,
       "grid_auto_rows": null,
       "grid_column": null,
       "grid_gap": null,
       "grid_row": null,
       "grid_template_areas": null,
       "grid_template_columns": null,
       "grid_template_rows": null,
       "height": null,
       "justify_content": null,
       "justify_items": null,
       "left": null,
       "margin": null,
       "max_height": null,
       "max_width": null,
       "min_height": null,
       "min_width": null,
       "object_fit": null,
       "object_position": null,
       "order": null,
       "overflow": null,
       "overflow_x": null,
       "overflow_y": null,
       "padding": null,
       "right": null,
       "top": null,
       "visibility": null,
       "width": null
      }
     },
     "bf7dc15bc7894c72aba5c0d85ec0e32f": {
      "model_module": "@jupyter-widgets/base",
      "model_module_version": "1.2.0",
      "model_name": "LayoutModel",
      "state": {
       "_model_module": "@jupyter-widgets/base",
       "_model_module_version": "1.2.0",
       "_model_name": "LayoutModel",
       "_view_count": null,
       "_view_module": "@jupyter-widgets/base",
       "_view_module_version": "1.2.0",
       "_view_name": "LayoutView",
       "align_content": null,
       "align_items": null,
       "align_self": null,
       "border": null,
       "bottom": null,
       "display": null,
       "flex": null,
       "flex_flow": null,
       "grid_area": null,
       "grid_auto_columns": null,
       "grid_auto_flow": null,
       "grid_auto_rows": null,
       "grid_column": null,
       "grid_gap": null,
       "grid_row": null,
       "grid_template_areas": null,
       "grid_template_columns": null,
       "grid_template_rows": null,
       "height": null,
       "justify_content": null,
       "justify_items": null,
       "left": null,
       "margin": null,
       "max_height": null,
       "max_width": null,
       "min_height": null,
       "min_width": null,
       "object_fit": null,
       "object_position": null,
       "order": null,
       "overflow": null,
       "overflow_x": null,
       "overflow_y": null,
       "padding": null,
       "right": null,
       "top": null,
       "visibility": null,
       "width": null
      }
     },
     "c466a6b51ff443e4b8f6f6800de1da74": {
      "model_module": "@jupyter-widgets/base",
      "model_module_version": "1.2.0",
      "model_name": "LayoutModel",
      "state": {
       "_model_module": "@jupyter-widgets/base",
       "_model_module_version": "1.2.0",
       "_model_name": "LayoutModel",
       "_view_count": null,
       "_view_module": "@jupyter-widgets/base",
       "_view_module_version": "1.2.0",
       "_view_name": "LayoutView",
       "align_content": null,
       "align_items": null,
       "align_self": null,
       "border": null,
       "bottom": null,
       "display": null,
       "flex": null,
       "flex_flow": null,
       "grid_area": null,
       "grid_auto_columns": null,
       "grid_auto_flow": null,
       "grid_auto_rows": null,
       "grid_column": null,
       "grid_gap": null,
       "grid_row": null,
       "grid_template_areas": null,
       "grid_template_columns": null,
       "grid_template_rows": null,
       "height": null,
       "justify_content": null,
       "justify_items": null,
       "left": null,
       "margin": null,
       "max_height": null,
       "max_width": null,
       "min_height": null,
       "min_width": null,
       "object_fit": null,
       "object_position": null,
       "order": null,
       "overflow": null,
       "overflow_x": null,
       "overflow_y": null,
       "padding": null,
       "right": null,
       "top": null,
       "visibility": null,
       "width": null
      }
     },
     "cd319e2081cd4647be0a8841100919c0": {
      "model_module": "@jupyter-widgets/base",
      "model_module_version": "1.2.0",
      "model_name": "LayoutModel",
      "state": {
       "_model_module": "@jupyter-widgets/base",
       "_model_module_version": "1.2.0",
       "_model_name": "LayoutModel",
       "_view_count": null,
       "_view_module": "@jupyter-widgets/base",
       "_view_module_version": "1.2.0",
       "_view_name": "LayoutView",
       "align_content": null,
       "align_items": null,
       "align_self": null,
       "border": null,
       "bottom": null,
       "display": null,
       "flex": null,
       "flex_flow": null,
       "grid_area": null,
       "grid_auto_columns": null,
       "grid_auto_flow": null,
       "grid_auto_rows": null,
       "grid_column": null,
       "grid_gap": null,
       "grid_row": null,
       "grid_template_areas": null,
       "grid_template_columns": null,
       "grid_template_rows": null,
       "height": null,
       "justify_content": null,
       "justify_items": null,
       "left": null,
       "margin": null,
       "max_height": null,
       "max_width": null,
       "min_height": null,
       "min_width": null,
       "object_fit": null,
       "object_position": null,
       "order": null,
       "overflow": null,
       "overflow_x": null,
       "overflow_y": null,
       "padding": null,
       "right": null,
       "top": null,
       "visibility": null,
       "width": null
      }
     },
     "d33ee9cf8c45435a888f9f34af299d68": {
      "model_module": "@jupyter-widgets/controls",
      "model_module_version": "1.5.0",
      "model_name": "HTMLModel",
      "state": {
       "_dom_classes": [],
       "_model_module": "@jupyter-widgets/controls",
       "_model_module_version": "1.5.0",
       "_model_name": "HTMLModel",
       "_view_count": null,
       "_view_module": "@jupyter-widgets/controls",
       "_view_module_version": "1.5.0",
       "_view_name": "HTMLView",
       "description": "",
       "description_tooltip": null,
       "layout": "IPY_MODEL_cd319e2081cd4647be0a8841100919c0",
       "placeholder": "​",
       "style": "IPY_MODEL_8b7beb57920e4e57aae5c5f10696c103",
       "value": " 2029/2029 [00:00&lt;00:00, 23256.92it/s]"
      }
     },
     "f3879470e4e74ac0a433ad49659e31b8": {
      "model_module": "@jupyter-widgets/controls",
      "model_module_version": "1.5.0",
      "model_name": "HTMLModel",
      "state": {
       "_dom_classes": [],
       "_model_module": "@jupyter-widgets/controls",
       "_model_module_version": "1.5.0",
       "_model_name": "HTMLModel",
       "_view_count": null,
       "_view_module": "@jupyter-widgets/controls",
       "_view_module_version": "1.5.0",
       "_view_name": "HTMLView",
       "description": "",
       "description_tooltip": null,
       "layout": "IPY_MODEL_b1d03b6cda45474ea41df432773f1ce7",
       "placeholder": "​",
       "style": "IPY_MODEL_6b3c9cc804ee4bd18b8212cb9f19320d",
       "value": "100%"
      }
     }
    },
    "version_major": 2,
    "version_minor": 0
   }
  }
 },
 "nbformat": 4,
 "nbformat_minor": 5
}
