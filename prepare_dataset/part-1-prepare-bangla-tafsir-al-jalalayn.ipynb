{
 "cells": [
  {
   "cell_type": "code",
   "execution_count": 1,
   "id": "29bada0b",
   "metadata": {
    "_cell_guid": "b1076dfc-b9ad-4769-8c92-a6c4dae69d19",
    "_uuid": "8f2839f25d086af736a60e9eeb907d3b93b6e0e5",
    "execution": {
     "iopub.execute_input": "2022-10-31T19:37:14.959759Z",
     "iopub.status.busy": "2022-10-31T19:37:14.959272Z",
     "iopub.status.idle": "2022-10-31T19:37:14.986702Z",
     "shell.execute_reply": "2022-10-31T19:37:14.985789Z"
    },
    "papermill": {
     "duration": 0.039865,
     "end_time": "2022-10-31T19:37:14.991608",
     "exception": false,
     "start_time": "2022-10-31T19:37:14.951743",
     "status": "completed"
    },
    "tags": []
   },
   "outputs": [
    {
     "name": "stdout",
     "output_type": "stream",
     "text": [
      "/kaggle/input/quran-english/Quran_English.csv\n",
      "/kaggle/input/quran-english/Quran_English_with_Tafseer.csv\n",
      "/kaggle/input/bangla-quran-with-tafsir/en_bn_quran_tafsir.csv\n",
      "/kaggle/input/bangla-quran-with-tafsir/ben_quran_with_tafsir.csv\n"
     ]
    }
   ],
   "source": [
    "# This Python 3 environment comes with many helpful analytics libraries installed\n",
    "# It is defined by the kaggle/python Docker image: https://github.com/kaggle/docker-python\n",
    "# For example, here's several helpful packages to load\n",
    "\n",
    "import numpy as np # linear algebra\n",
    "import pandas as pd # data processing, CSV file I/O (e.g. pd.read_csv)\n",
    "\n",
    "# Input data files are available in the read-only \"../input/\" directory\n",
    "# For example, running this (by clicking run or pressing Shift+Enter) will list all files under the input directory\n",
    "import re\n",
    "import os\n",
    "for dirname, _, filenames in os.walk('/kaggle/input'):\n",
    "    for filename in filenames:\n",
    "        print(os.path.join(dirname, filename))\n",
    "\n",
    "# You can write up to 20GB to the current directory (/kaggle/working/) that gets preserved as output when you create a version using \"Save & Run All\" \n",
    "# You can also write temporary files to /kaggle/temp/, but they won't be saved outside of the current session"
   ]
  },
  {
   "cell_type": "markdown",
   "id": "1fe83f69",
   "metadata": {
    "papermill": {
     "duration": 0.004162,
     "end_time": "2022-10-31T19:37:15.000450",
     "exception": false,
     "start_time": "2022-10-31T19:37:14.996288",
     "status": "completed"
    },
    "tags": []
   },
   "source": [
    "1. [Quran_English_with_Tafseer](https://www.kaggle.com/datasets/alizahidraja/quran-english)\n",
    "\n",
    "2. [ ben_quran_with_tafsir](https://www.kaggle.com/datasets/mobassir/bangla-quran-with-tafsir)"
   ]
  },
  {
   "cell_type": "code",
   "execution_count": 2,
   "id": "2f286822",
   "metadata": {
    "execution": {
     "iopub.execute_input": "2022-10-31T19:37:15.011038Z",
     "iopub.status.busy": "2022-10-31T19:37:15.010630Z",
     "iopub.status.idle": "2022-10-31T19:37:15.950375Z",
     "shell.execute_reply": "2022-10-31T19:37:15.949395Z"
    },
    "papermill": {
     "duration": 0.947896,
     "end_time": "2022-10-31T19:37:15.952789",
     "exception": false,
     "start_time": "2022-10-31T19:37:15.004893",
     "status": "completed"
    },
    "tags": []
   },
   "outputs": [
    {
     "data": {
      "text/html": [
       "<div>\n",
       "<style scoped>\n",
       "    .dataframe tbody tr th:only-of-type {\n",
       "        vertical-align: middle;\n",
       "    }\n",
       "\n",
       "    .dataframe tbody tr th {\n",
       "        vertical-align: top;\n",
       "    }\n",
       "\n",
       "    .dataframe thead th {\n",
       "        text-align: right;\n",
       "    }\n",
       "</style>\n",
       "<table border=\"1\" class=\"dataframe\">\n",
       "  <thead>\n",
       "    <tr style=\"text-align: right;\">\n",
       "      <th></th>\n",
       "      <th>Name</th>\n",
       "      <th>Surah</th>\n",
       "      <th>Ayat</th>\n",
       "      <th>Verse</th>\n",
       "      <th>Tafseer</th>\n",
       "    </tr>\n",
       "  </thead>\n",
       "  <tbody>\n",
       "    <tr>\n",
       "      <th>0</th>\n",
       "      <td>The Opening</td>\n",
       "      <td>1</td>\n",
       "      <td>1</td>\n",
       "      <td>In the name of Allah, the Beneficent, the Merc...</td>\n",
       "      <td>In the Name of God the Compassionate the Merciful</td>\n",
       "    </tr>\n",
       "    <tr>\n",
       "      <th>1</th>\n",
       "      <td>The Opening</td>\n",
       "      <td>1</td>\n",
       "      <td>2</td>\n",
       "      <td>Praise be to Allah, Lord of the Worlds,</td>\n",
       "      <td>In the Name of God the name of a thing is that...</td>\n",
       "    </tr>\n",
       "  </tbody>\n",
       "</table>\n",
       "</div>"
      ],
      "text/plain": [
       "          Name  Surah  Ayat  \\\n",
       "0  The Opening      1     1   \n",
       "1  The Opening      1     2   \n",
       "\n",
       "                                               Verse  \\\n",
       "0  In the name of Allah, the Beneficent, the Merc...   \n",
       "1            Praise be to Allah, Lord of the Worlds,   \n",
       "\n",
       "                                             Tafseer  \n",
       "0  In the Name of God the Compassionate the Merciful  \n",
       "1  In the Name of God the name of a thing is that...  "
      ]
     },
     "execution_count": 2,
     "metadata": {},
     "output_type": "execute_result"
    }
   ],
   "source": [
    "df = pd.read_csv('/kaggle/input/quran-english/Quran_English_with_Tafseer.csv')\n",
    "bn_df = pd.read_csv('../input/bangla-quran-with-tafsir/ben_quran_with_tafsir.csv')\n",
    "df.head(2)"
   ]
  },
  {
   "cell_type": "code",
   "execution_count": 3,
   "id": "60665ddc",
   "metadata": {
    "execution": {
     "iopub.execute_input": "2022-10-31T19:37:15.964029Z",
     "iopub.status.busy": "2022-10-31T19:37:15.963614Z",
     "iopub.status.idle": "2022-10-31T19:37:15.978912Z",
     "shell.execute_reply": "2022-10-31T19:37:15.977864Z"
    },
    "papermill": {
     "duration": 0.023321,
     "end_time": "2022-10-31T19:37:15.980898",
     "exception": false,
     "start_time": "2022-10-31T19:37:15.957577",
     "status": "completed"
    },
    "tags": []
   },
   "outputs": [
    {
     "data": {
      "text/html": [
       "<div>\n",
       "<style scoped>\n",
       "    .dataframe tbody tr th:only-of-type {\n",
       "        vertical-align: middle;\n",
       "    }\n",
       "\n",
       "    .dataframe tbody tr th {\n",
       "        vertical-align: top;\n",
       "    }\n",
       "\n",
       "    .dataframe thead th {\n",
       "        text-align: right;\n",
       "    }\n",
       "</style>\n",
       "<table border=\"1\" class=\"dataframe\">\n",
       "  <thead>\n",
       "    <tr style=\"text-align: right;\">\n",
       "      <th></th>\n",
       "      <th>text</th>\n",
       "      <th>ayat</th>\n",
       "      <th>আল_বায়ান</th>\n",
       "      <th>তাইসিরুল</th>\n",
       "      <th>মুজিবুর_রহমান</th>\n",
       "      <th>Sahih_International</th>\n",
       "      <th>tafsir_bayan_headers</th>\n",
       "      <th>tafsir_bayan_text</th>\n",
       "      <th>tafsir_zakariya_headers</th>\n",
       "      <th>tafsir_zakariya_text</th>\n",
       "    </tr>\n",
       "  </thead>\n",
       "  <tbody>\n",
       "    <tr>\n",
       "      <th>0</th>\n",
       "      <td>بِسۡمِ اللّٰهِ الرَّحۡمٰنِ الرَّحِیۡمِ ﴿۱﴾\\nب...</td>\n",
       "      <td>surah 1, ayat  1</td>\n",
       "      <td>পরম করুণাময় অতি দয়ালু আল্লাহর নামে।</td>\n",
       "      <td>(আরম্ভ করছি) পরম করুণাময় অসীম দয়াময় আল্লাহর না...</td>\n",
       "      <td>পরম করুণাময়, অসীম দয়ালু আল্লাহর নামে (শুরু করছ...</td>\n",
       "      <td>In the name of Allah, the Entirely Merciful, t...</td>\n",
       "      <td>(১) অনন্ত করুণাময় পরম দয়ালু আল্লাহর নামে (আরম্...</td>\n",
       "      <td>‘বিসমিল্লাহ’র পূর্বে ‘আক্বরাউ’ ‘আবদাউ’ অথবা ‘আ...</td>\n",
       "      <td>১. রহমান, রহীম(১) আল্লাহর নামে।(২)</td>\n",
       "      <td>১. সাধারণত আয়াতের অনুবাদে বলা হয়ে থাকে, পরম ...</td>\n",
       "    </tr>\n",
       "  </tbody>\n",
       "</table>\n",
       "</div>"
      ],
      "text/plain": [
       "                                                text              ayat  \\\n",
       "0   بِسۡمِ اللّٰهِ الرَّحۡمٰنِ الرَّحِیۡمِ ﴿۱﴾\\nب...  surah 1, ayat  1   \n",
       "\n",
       "                              আল_বায়ান  \\\n",
       "0  পরম করুণাময় অতি দয়ালু আল্লাহর নামে।    \n",
       "\n",
       "                                            তাইসিরুল  \\\n",
       "0  (আরম্ভ করছি) পরম করুণাময় অসীম দয়াময় আল্লাহর না...   \n",
       "\n",
       "                                       মুজিবুর_রহমান  \\\n",
       "0  পরম করুণাময়, অসীম দয়ালু আল্লাহর নামে (শুরু করছ...   \n",
       "\n",
       "                                 Sahih_International  \\\n",
       "0  In the name of Allah, the Entirely Merciful, t...   \n",
       "\n",
       "                                tafsir_bayan_headers  \\\n",
       "0  (১) অনন্ত করুণাময় পরম দয়ালু আল্লাহর নামে (আরম্...   \n",
       "\n",
       "                                   tafsir_bayan_text  \\\n",
       "0  ‘বিসমিল্লাহ’র পূর্বে ‘আক্বরাউ’ ‘আবদাউ’ অথবা ‘আ...   \n",
       "\n",
       "              tafsir_zakariya_headers  \\\n",
       "0  ১. রহমান, রহীম(১) আল্লাহর নামে।(২)   \n",
       "\n",
       "                                tafsir_zakariya_text  \n",
       "0  ১. সাধারণত আয়াতের অনুবাদে বলা হয়ে থাকে, পরম ...  "
      ]
     },
     "execution_count": 3,
     "metadata": {},
     "output_type": "execute_result"
    }
   ],
   "source": [
    "bn_df.head(1)"
   ]
  },
  {
   "cell_type": "code",
   "execution_count": 4,
   "id": "f25c152d",
   "metadata": {
    "execution": {
     "iopub.execute_input": "2022-10-31T19:37:15.993098Z",
     "iopub.status.busy": "2022-10-31T19:37:15.992112Z",
     "iopub.status.idle": "2022-10-31T19:37:15.999802Z",
     "shell.execute_reply": "2022-10-31T19:37:15.998617Z"
    },
    "papermill": {
     "duration": 0.016296,
     "end_time": "2022-10-31T19:37:16.002200",
     "exception": false,
     "start_time": "2022-10-31T19:37:15.985904",
     "status": "completed"
    },
    "tags": []
   },
   "outputs": [
    {
     "data": {
      "text/plain": [
       "(6236, 6236)"
      ]
     },
     "execution_count": 4,
     "metadata": {},
     "output_type": "execute_result"
    }
   ],
   "source": [
    "len(df),len(bn_df)"
   ]
  },
  {
   "cell_type": "code",
   "execution_count": 5,
   "id": "3d4ef5c3",
   "metadata": {
    "execution": {
     "iopub.execute_input": "2022-10-31T19:37:16.014960Z",
     "iopub.status.busy": "2022-10-31T19:37:16.013835Z",
     "iopub.status.idle": "2022-10-31T19:37:16.028084Z",
     "shell.execute_reply": "2022-10-31T19:37:16.027443Z"
    },
    "papermill": {
     "duration": 0.022571,
     "end_time": "2022-10-31T19:37:16.030015",
     "exception": false,
     "start_time": "2022-10-31T19:37:16.007444",
     "status": "completed"
    },
    "tags": []
   },
   "outputs": [
    {
     "data": {
      "text/html": [
       "<div>\n",
       "<style scoped>\n",
       "    .dataframe tbody tr th:only-of-type {\n",
       "        vertical-align: middle;\n",
       "    }\n",
       "\n",
       "    .dataframe tbody tr th {\n",
       "        vertical-align: top;\n",
       "    }\n",
       "\n",
       "    .dataframe thead th {\n",
       "        text-align: right;\n",
       "    }\n",
       "</style>\n",
       "<table border=\"1\" class=\"dataframe\">\n",
       "  <thead>\n",
       "    <tr style=\"text-align: right;\">\n",
       "      <th></th>\n",
       "      <th>ayat</th>\n",
       "      <th>তাইসিরুল</th>\n",
       "    </tr>\n",
       "  </thead>\n",
       "  <tbody>\n",
       "    <tr>\n",
       "      <th>0</th>\n",
       "      <td>surah 1, ayat  1</td>\n",
       "      <td>(আরম্ভ করছি) পরম করুণাময় অসীম দয়াময় আল্লাহর না...</td>\n",
       "    </tr>\n",
       "  </tbody>\n",
       "</table>\n",
       "</div>"
      ],
      "text/plain": [
       "               ayat                                           তাইসিরুল\n",
       "0  surah 1, ayat  1  (আরম্ভ করছি) পরম করুণাময় অসীম দয়াময় আল্লাহর না..."
      ]
     },
     "execution_count": 5,
     "metadata": {},
     "output_type": "execute_result"
    }
   ],
   "source": [
    "selected_columns = ['ayat','তাইসিরুল']\n",
    "bn_df = bn_df[selected_columns]\n",
    "bn_df.head(1)"
   ]
  },
  {
   "cell_type": "code",
   "execution_count": 6,
   "id": "0941f235",
   "metadata": {
    "execution": {
     "iopub.execute_input": "2022-10-31T19:37:16.042562Z",
     "iopub.status.busy": "2022-10-31T19:37:16.041944Z",
     "iopub.status.idle": "2022-10-31T19:37:16.055838Z",
     "shell.execute_reply": "2022-10-31T19:37:16.054933Z"
    },
    "papermill": {
     "duration": 0.022619,
     "end_time": "2022-10-31T19:37:16.057953",
     "exception": false,
     "start_time": "2022-10-31T19:37:16.035334",
     "status": "completed"
    },
    "tags": []
   },
   "outputs": [
    {
     "data": {
      "text/html": [
       "<div>\n",
       "<style scoped>\n",
       "    .dataframe tbody tr th:only-of-type {\n",
       "        vertical-align: middle;\n",
       "    }\n",
       "\n",
       "    .dataframe tbody tr th {\n",
       "        vertical-align: top;\n",
       "    }\n",
       "\n",
       "    .dataframe thead th {\n",
       "        text-align: right;\n",
       "    }\n",
       "</style>\n",
       "<table border=\"1\" class=\"dataframe\">\n",
       "  <thead>\n",
       "    <tr style=\"text-align: right;\">\n",
       "      <th></th>\n",
       "      <th>ayat</th>\n",
       "      <th>তাইসিরুল</th>\n",
       "      <th>en_tafsir_jalalayn</th>\n",
       "    </tr>\n",
       "  </thead>\n",
       "  <tbody>\n",
       "    <tr>\n",
       "      <th>0</th>\n",
       "      <td>surah 1, ayat  1</td>\n",
       "      <td>(আরম্ভ করছি) পরম করুণাময় অসীম দয়াময় আল্লাহর না...</td>\n",
       "      <td>In the Name of God the Compassionate the Merciful</td>\n",
       "    </tr>\n",
       "    <tr>\n",
       "      <th>1</th>\n",
       "      <td>surah 1, ayat  2</td>\n",
       "      <td>যাবতীয় প্রশংসা জগৎসমূহের প্রতিপালক আল্লাহরই জন...</td>\n",
       "      <td>In the Name of God the name of a thing is that...</td>\n",
       "    </tr>\n",
       "    <tr>\n",
       "      <th>2</th>\n",
       "      <td>surah 1, ayat  3</td>\n",
       "      <td>যিনি পরম করুণাময় অতি দয়ালু।</td>\n",
       "      <td>The Compassionate the Merciful that is to say ...</td>\n",
       "    </tr>\n",
       "    <tr>\n",
       "      <th>3</th>\n",
       "      <td>surah 1, ayat  4</td>\n",
       "      <td>যিনি প্রতিফল দিবসের মালিক।</td>\n",
       "      <td>Master of the Day of Judgement that is the day...</td>\n",
       "    </tr>\n",
       "    <tr>\n",
       "      <th>4</th>\n",
       "      <td>surah 1, ayat  5</td>\n",
       "      <td>আমরা কেবল তোমারই ‘ইবাদাত করি এবং কেবলমাত্র তোম...</td>\n",
       "      <td>You alone we worship and You alone we ask for ...</td>\n",
       "    </tr>\n",
       "  </tbody>\n",
       "</table>\n",
       "</div>"
      ],
      "text/plain": [
       "               ayat                                           তাইসিরুল  \\\n",
       "0  surah 1, ayat  1  (আরম্ভ করছি) পরম করুণাময় অসীম দয়াময় আল্লাহর না...   \n",
       "1  surah 1, ayat  2  যাবতীয় প্রশংসা জগৎসমূহের প্রতিপালক আল্লাহরই জন...   \n",
       "2  surah 1, ayat  3                       যিনি পরম করুণাময় অতি দয়ালু।    \n",
       "3  surah 1, ayat  4                        যিনি প্রতিফল দিবসের মালিক।    \n",
       "4  surah 1, ayat  5  আমরা কেবল তোমারই ‘ইবাদাত করি এবং কেবলমাত্র তোম...   \n",
       "\n",
       "                                  en_tafsir_jalalayn  \n",
       "0  In the Name of God the Compassionate the Merciful  \n",
       "1  In the Name of God the name of a thing is that...  \n",
       "2  The Compassionate the Merciful that is to say ...  \n",
       "3  Master of the Day of Judgement that is the day...  \n",
       "4  You alone we worship and You alone we ask for ...  "
      ]
     },
     "execution_count": 6,
     "metadata": {},
     "output_type": "execute_result"
    }
   ],
   "source": [
    "bn_df['en_tafsir_jalalayn'] = df['Tafseer']\n",
    "bn_df.head()"
   ]
  },
  {
   "cell_type": "code",
   "execution_count": 7,
   "id": "62bc59a2",
   "metadata": {
    "execution": {
     "iopub.execute_input": "2022-10-31T19:37:16.070520Z",
     "iopub.status.busy": "2022-10-31T19:37:16.070080Z",
     "iopub.status.idle": "2022-10-31T19:37:16.076207Z",
     "shell.execute_reply": "2022-10-31T19:37:16.075314Z"
    },
    "papermill": {
     "duration": 0.014725,
     "end_time": "2022-10-31T19:37:16.078241",
     "exception": false,
     "start_time": "2022-10-31T19:37:16.063516",
     "status": "completed"
    },
    "tags": []
   },
   "outputs": [
    {
     "data": {
      "text/plain": [
       "6236"
      ]
     },
     "execution_count": 7,
     "metadata": {},
     "output_type": "execute_result"
    }
   ],
   "source": [
    "len(bn_df)"
   ]
  },
  {
   "cell_type": "code",
   "execution_count": 8,
   "id": "8aec7423",
   "metadata": {
    "execution": {
     "iopub.execute_input": "2022-10-31T19:37:16.091897Z",
     "iopub.status.busy": "2022-10-31T19:37:16.091437Z",
     "iopub.status.idle": "2022-10-31T19:37:16.100116Z",
     "shell.execute_reply": "2022-10-31T19:37:16.099138Z"
    },
    "papermill": {
     "duration": 0.017976,
     "end_time": "2022-10-31T19:37:16.102424",
     "exception": false,
     "start_time": "2022-10-31T19:37:16.084448",
     "status": "completed"
    },
    "tags": []
   },
   "outputs": [
    {
     "data": {
      "text/plain": [
       "1"
      ]
     },
     "execution_count": 8,
     "metadata": {},
     "output_type": "execute_result"
    }
   ],
   "source": [
    "bn_df['en_tafsir_jalalayn'].isna().sum()"
   ]
  },
  {
   "cell_type": "code",
   "execution_count": 9,
   "id": "125ac4ed",
   "metadata": {
    "execution": {
     "iopub.execute_input": "2022-10-31T19:37:16.115826Z",
     "iopub.status.busy": "2022-10-31T19:37:16.115389Z",
     "iopub.status.idle": "2022-10-31T19:37:16.128056Z",
     "shell.execute_reply": "2022-10-31T19:37:16.127345Z"
    },
    "papermill": {
     "duration": 0.021659,
     "end_time": "2022-10-31T19:37:16.130005",
     "exception": false,
     "start_time": "2022-10-31T19:37:16.108346",
     "status": "completed"
    },
    "tags": []
   },
   "outputs": [
    {
     "data": {
      "text/html": [
       "<div>\n",
       "<style scoped>\n",
       "    .dataframe tbody tr th:only-of-type {\n",
       "        vertical-align: middle;\n",
       "    }\n",
       "\n",
       "    .dataframe tbody tr th {\n",
       "        vertical-align: top;\n",
       "    }\n",
       "\n",
       "    .dataframe thead th {\n",
       "        text-align: right;\n",
       "    }\n",
       "</style>\n",
       "<table border=\"1\" class=\"dataframe\">\n",
       "  <thead>\n",
       "    <tr style=\"text-align: right;\">\n",
       "      <th></th>\n",
       "      <th>ayat</th>\n",
       "      <th>তাইসিরুল</th>\n",
       "      <th>en_tafsir_jalalayn</th>\n",
       "    </tr>\n",
       "  </thead>\n",
       "  <tbody>\n",
       "    <tr>\n",
       "      <th>4555</th>\n",
       "      <td>surah 47, ayat  11</td>\n",
       "      <td>এর কারণ এই যে, যারা ঈমান আনে আল্লাহ তাদের অভিভ...</td>\n",
       "      <td>NaN</td>\n",
       "    </tr>\n",
       "  </tbody>\n",
       "</table>\n",
       "</div>"
      ],
      "text/plain": [
       "                    ayat                                           তাইসিরুল  \\\n",
       "4555  surah 47, ayat  11  এর কারণ এই যে, যারা ঈমান আনে আল্লাহ তাদের অভিভ...   \n",
       "\n",
       "     en_tafsir_jalalayn  \n",
       "4555                NaN  "
      ]
     },
     "execution_count": 9,
     "metadata": {},
     "output_type": "execute_result"
    }
   ],
   "source": [
    "bn_df[bn_df['en_tafsir_jalalayn'].isna()]"
   ]
  },
  {
   "cell_type": "code",
   "execution_count": 10,
   "id": "74c12329",
   "metadata": {
    "execution": {
     "iopub.execute_input": "2022-10-31T19:37:16.143818Z",
     "iopub.status.busy": "2022-10-31T19:37:16.143166Z",
     "iopub.status.idle": "2022-10-31T19:37:16.151458Z",
     "shell.execute_reply": "2022-10-31T19:37:16.150449Z"
    },
    "papermill": {
     "duration": 0.01766,
     "end_time": "2022-10-31T19:37:16.153711",
     "exception": false,
     "start_time": "2022-10-31T19:37:16.136051",
     "status": "completed"
    },
    "tags": []
   },
   "outputs": [],
   "source": [
    "bn_df = bn_df.fillna('not available.')"
   ]
  },
  {
   "cell_type": "code",
   "execution_count": 11,
   "id": "11436ec5",
   "metadata": {
    "execution": {
     "iopub.execute_input": "2022-10-31T19:37:16.167545Z",
     "iopub.status.busy": "2022-10-31T19:37:16.166824Z",
     "iopub.status.idle": "2022-10-31T19:37:16.264378Z",
     "shell.execute_reply": "2022-10-31T19:37:16.263625Z"
    },
    "papermill": {
     "duration": 0.106904,
     "end_time": "2022-10-31T19:37:16.266658",
     "exception": false,
     "start_time": "2022-10-31T19:37:16.159754",
     "status": "completed"
    },
    "tags": []
   },
   "outputs": [],
   "source": [
    "bn_df.to_csv('en_Tafsir al-Jalalayn.csv',index = False) # for making translated bangla Tafsir al-Jalalayn"
   ]
  },
  {
   "cell_type": "markdown",
   "id": "7af0a262",
   "metadata": {
    "papermill": {
     "duration": 0.005516,
     "end_time": "2022-10-31T19:37:16.278125",
     "exception": false,
     "start_time": "2022-10-31T19:37:16.272609",
     "status": "completed"
    },
    "tags": []
   },
   "source": [
    "# do we have any arabic words/sentence in the english tafseer?"
   ]
  },
  {
   "cell_type": "code",
   "execution_count": 12,
   "id": "c3d6527c",
   "metadata": {
    "execution": {
     "iopub.execute_input": "2022-10-31T19:37:16.291717Z",
     "iopub.status.busy": "2022-10-31T19:37:16.290822Z",
     "iopub.status.idle": "2022-10-31T19:37:16.296332Z",
     "shell.execute_reply": "2022-10-31T19:37:16.295348Z"
    },
    "papermill": {
     "duration": 0.014511,
     "end_time": "2022-10-31T19:37:16.298421",
     "exception": false,
     "start_time": "2022-10-31T19:37:16.283910",
     "status": "completed"
    },
    "tags": []
   },
   "outputs": [],
   "source": [
    "def has_arabic(text):\n",
    "    arabic = re.findall(r'[\\u0600-\\u06FF]+',text)\n",
    "    if(len(arabic)>0):\n",
    "        print(text)"
   ]
  },
  {
   "cell_type": "code",
   "execution_count": 13,
   "id": "2d51b615",
   "metadata": {
    "execution": {
     "iopub.execute_input": "2022-10-31T19:37:16.311933Z",
     "iopub.status.busy": "2022-10-31T19:37:16.311472Z",
     "iopub.status.idle": "2022-10-31T19:37:16.443505Z",
     "shell.execute_reply": "2022-10-31T19:37:16.442095Z"
    },
    "papermill": {
     "duration": 0.142347,
     "end_time": "2022-10-31T19:37:16.446773",
     "exception": false,
     "start_time": "2022-10-31T19:37:16.304426",
     "status": "completed"
    },
    "tags": []
   },
   "outputs": [
    {
     "name": "stdout",
     "output_type": "stream",
     "text": [
      "CPU times: user 124 ms, sys: 898 µs, total: 125 ms\n",
      "Wall time: 125 ms\n"
     ]
    }
   ],
   "source": [
    "%%time\n",
    "\n",
    "for i in range(len(bn_df)):\n",
    "    has_arabic(bn_df.en_tafsir_jalalayn[i])"
   ]
  },
  {
   "cell_type": "markdown",
   "id": "6e915321",
   "metadata": {
    "papermill": {
     "duration": 0.005558,
     "end_time": "2022-10-31T19:37:16.458539",
     "exception": false,
     "start_time": "2022-10-31T19:37:16.452981",
     "status": "completed"
    },
    "tags": []
   },
   "source": [
    "nice, we don't have any non english word/sentence in our english Tafsir al-Jalalayn dataset,in the next step,all we need to do is to translate en_tafsir_jalalayn from english to bangla using powerful neural machine translator system like **banglanmt** or **nllb-200**"
   ]
  },
  {
   "cell_type": "code",
   "execution_count": null,
   "id": "e273ec39",
   "metadata": {
    "papermill": {
     "duration": 0.005485,
     "end_time": "2022-10-31T19:37:16.469867",
     "exception": false,
     "start_time": "2022-10-31T19:37:16.464382",
     "status": "completed"
    },
    "tags": []
   },
   "outputs": [],
   "source": []
  }
 ],
 "metadata": {
  "kernelspec": {
   "display_name": "Python 3",
   "language": "python",
   "name": "python3"
  },
  "language_info": {
   "codemirror_mode": {
    "name": "ipython",
    "version": 3
   },
   "file_extension": ".py",
   "mimetype": "text/x-python",
   "name": "python",
   "nbconvert_exporter": "python",
   "pygments_lexer": "ipython3",
   "version": "3.7.12"
  },
  "papermill": {
   "default_parameters": {},
   "duration": 11.551026,
   "end_time": "2022-10-31T19:37:17.099367",
   "environment_variables": {},
   "exception": null,
   "input_path": "__notebook__.ipynb",
   "output_path": "__notebook__.ipynb",
   "parameters": {},
   "start_time": "2022-10-31T19:37:05.548341",
   "version": "2.3.4"
  }
 },
 "nbformat": 4,
 "nbformat_minor": 5
}
