{
 "cells": [
  {
   "cell_type": "code",
   "execution_count": 1,
   "id": "025729a5",
   "metadata": {
    "execution": {
     "iopub.execute_input": "2022-10-27T07:59:55.946588Z",
     "iopub.status.busy": "2022-10-27T07:59:55.945569Z",
     "iopub.status.idle": "2022-10-27T07:59:55.971669Z",
     "shell.execute_reply": "2022-10-27T07:59:55.970311Z"
    },
    "papermill": {
     "duration": 0.042294,
     "end_time": "2022-10-27T07:59:55.975133",
     "exception": false,
     "start_time": "2022-10-27T07:59:55.932839",
     "status": "completed"
    },
    "tags": []
   },
   "outputs": [
    {
     "name": "stdout",
     "output_type": "stream",
     "text": [
      "/kaggle/input/bangla-quran-with-tafsir/en_bn_quran_tafsir.csv\n",
      "/kaggle/input/bangla-quran-with-tafsir/ben_quran_with_tafsir.csv\n",
      "/kaggle/input/en-bn-sahih-bukhari-muslim/en_bn_translated_sahih_hadiths.csv\n",
      "/kaggle/input/en-bn-sahih-bukhari-muslim/bn_bukhari_muslim.csv\n",
      "/kaggle/input/en-bn-sahih-bukhari-muslim/en_bn_translated_sahih_hadiths_final.csv\n",
      "/kaggle/input/en-bn-sahih-bukhari-muslim/en_bn_bukhari_muslim.csv\n",
      "/kaggle/input/en-bn-sahih-bukhari-muslim/en_bukhari_muslim.csv\n"
     ]
    }
   ],
   "source": [
    "# This Python 3 environment comes with many helpful analytics libraries installed\n",
    "# It is defined by the kaggle/python Docker image: https://github.com/kaggle/docker-python\n",
    "# For example, here's several helpful packages to load\n",
    "\n",
    "import numpy as np # linear algebra\n",
    "import pandas as pd # data processing, CSV file I/O (e.g. pd.read_csv)\n",
    "\n",
    "# Input data files are available in the read-only \"../input/\" directory\n",
    "# For example, running this (by clicking run or pressing Shift+Enter) will list all files under the input directory\n",
    "\n",
    "import os\n",
    "for dirname, _, filenames in os.walk('/kaggle/input'):\n",
    "    for filename in filenames:\n",
    "        print(os.path.join(dirname, filename))\n",
    "\n",
    "# You can write up to 20GB to the current directory (/kaggle/working/) that gets preserved as output when you create a version using \"Save & Run All\" \n",
    "# You can also write temporary files to /kaggle/temp/, but they won't be saved outside of the current session"
   ]
  },
  {
   "cell_type": "markdown",
   "id": "394035f8",
   "metadata": {
    "papermill": {
     "duration": 0.009446,
     "end_time": "2022-10-27T07:59:55.994706",
     "exception": false,
     "start_time": "2022-10-27T07:59:55.985260",
     "status": "completed"
    },
    "tags": []
   },
   "source": [
    "# Motivation\n",
    "\n",
    "Most of the times, TTS models struggle to pronounce few characters correctly,specially if those characters appear in a less frequent word. for example, the bangla tts models that we are sharing here can't pronounce \"বায়ান\" word correctly. instead of saying \"bayan\" it says \"bajan\". we need to smartly handle such cases in order to reduce TTS error rate. if we replace \"বায়ান\" with \"বাইআন\" then we can see that our system can now read \"baian\". here, \"baian\" is very close to the pronounciation of \"bayan\" and that way we can increase TTS accuracy a lot,specially for large documents (i.e books). we have discovered that so often bangla tts models struggle to pronounce 'য়' and it doesn't mean it makes mistake for all words that contains 'য়'. for example one of our model can read 'আয়াত' as \"ayat\" perfectly but another model reads 'আয়াত' as \"ajrato\" which is a mistake that needs to be fixed for that particular model."
   ]
  },
  {
   "cell_type": "markdown",
   "id": "c758fd21",
   "metadata": {
    "papermill": {
     "duration": 0.008682,
     "end_time": "2022-10-27T07:59:56.012756",
     "exception": false,
     "start_time": "2022-10-27T07:59:56.004074",
     "status": "completed"
    },
    "tags": []
   },
   "source": [
    "in this notebook,we will try to find all unique words with 'য়' character in them and count frequency of  each unique 'য়' word in our document so that we can later decide what are the words that needs to be re-arranged in a format that helps our TTS system to reduce it's error rate.\n",
    "\n",
    "Note that, even 1% error reduction is hugeee improvement for our TTS pipeline here because we will be making it to read gigantic books. Here accuracy is more important than speed.smart post processing should help."
   ]
  },
  {
   "cell_type": "markdown",
   "id": "022b2399",
   "metadata": {
    "papermill": {
     "duration": 0.009163,
     "end_time": "2022-10-27T07:59:56.032274",
     "exception": false,
     "start_time": "2022-10-27T07:59:56.023111",
     "status": "completed"
    },
    "tags": []
   },
   "source": [
    "# utils"
   ]
  },
  {
   "cell_type": "code",
   "execution_count": 2,
   "id": "7e03855a",
   "metadata": {
    "execution": {
     "iopub.execute_input": "2022-10-27T07:59:56.055677Z",
     "iopub.status.busy": "2022-10-27T07:59:56.054883Z",
     "iopub.status.idle": "2022-10-27T07:59:56.067389Z",
     "shell.execute_reply": "2022-10-27T07:59:56.065863Z"
    },
    "papermill": {
     "duration": 0.026874,
     "end_time": "2022-10-27T07:59:56.070574",
     "exception": false,
     "start_time": "2022-10-27T07:59:56.043700",
     "status": "completed"
    },
    "tags": []
   },
   "outputs": [],
   "source": [
    "\n",
    "def get_unique_য়_words(bn_words):\n",
    "    words_of_interest = []\n",
    "    for i in range(len(bn_words)):\n",
    "\n",
    "        for char in bn_words[i]:\n",
    "            ck = 0\n",
    "            for ch in char:\n",
    "                if('য়' == ch):\n",
    "                    ck = 1 \n",
    "            if(ck):\n",
    "                words_of_interest.append(bn_words[i])\n",
    "    return words_of_interest\n",
    "\n",
    "def count_all_য়_words(mlt_all_words,bn_unique_words):\n",
    "    counter = []\n",
    "    for i in range(len(bn_unique_words)):\n",
    "        count = 0\n",
    "        for j in range(len(mlt_all_words)):\n",
    "            if(bn_unique_words[i] in mlt_all_words[j]):\n",
    "                count+=1\n",
    "\n",
    "        counter.append(count)\n",
    "    return counter\n",
    "\n"
   ]
  },
  {
   "cell_type": "markdown",
   "id": "48e9d2ac",
   "metadata": {
    "papermill": {
     "duration": 0.009615,
     "end_time": "2022-10-27T07:59:56.090054",
     "exception": false,
     "start_time": "2022-10-27T07:59:56.080439",
     "status": "completed"
    },
    "tags": []
   },
   "source": [
    "# sahih bukhari, muslim hadith dataset"
   ]
  },
  {
   "cell_type": "markdown",
   "id": "5cea1ce6",
   "metadata": {
    "papermill": {
     "duration": 0.009215,
     "end_time": "2022-10-27T07:59:56.108978",
     "exception": false,
     "start_time": "2022-10-27T07:59:56.099763",
     "status": "completed"
    },
    "tags": []
   },
   "source": [
    "[dataset link](https://www.kaggle.com/datasets/mobassir/en-bn-sahih-bukhari-muslim)"
   ]
  },
  {
   "cell_type": "code",
   "execution_count": 3,
   "id": "3eb9033e",
   "metadata": {
    "execution": {
     "iopub.execute_input": "2022-10-27T07:59:56.131650Z",
     "iopub.status.busy": "2022-10-27T07:59:56.130956Z",
     "iopub.status.idle": "2022-10-27T07:59:57.425026Z",
     "shell.execute_reply": "2022-10-27T07:59:57.423589Z"
    },
    "papermill": {
     "duration": 1.308555,
     "end_time": "2022-10-27T07:59:57.427572",
     "exception": false,
     "start_time": "2022-10-27T07:59:56.119017",
     "status": "completed"
    },
    "tags": []
   },
   "outputs": [
    {
     "data": {
      "text/html": [
       "<div>\n",
       "<style scoped>\n",
       "    .dataframe tbody tr th:only-of-type {\n",
       "        vertical-align: middle;\n",
       "    }\n",
       "\n",
       "    .dataframe tbody tr th {\n",
       "        vertical-align: top;\n",
       "    }\n",
       "\n",
       "    .dataframe thead th {\n",
       "        text-align: right;\n",
       "    }\n",
       "</style>\n",
       "<table border=\"1\" class=\"dataframe\">\n",
       "  <thead>\n",
       "    <tr style=\"text-align: right;\">\n",
       "      <th></th>\n",
       "      <th>id</th>\n",
       "      <th>source_book</th>\n",
       "      <th>chapter_no</th>\n",
       "      <th>hadith_no</th>\n",
       "      <th>narrator</th>\n",
       "      <th>validity</th>\n",
       "      <th>chain_idx</th>\n",
       "      <th>text_bn</th>\n",
       "      <th>text_ar</th>\n",
       "      <th>explanation</th>\n",
       "      <th>extra_note</th>\n",
       "      <th>preface</th>\n",
       "    </tr>\n",
       "  </thead>\n",
       "  <tbody>\n",
       "    <tr>\n",
       "      <th>0</th>\n",
       "      <td>0</td>\n",
       "      <td>সহিহ বুখারী</td>\n",
       "      <td>১/১. অধ্যায়ঃ</td>\n",
       "      <td>1</td>\n",
       "      <td>‘আলক্বামাহ ইব্‌নু ওয়াক্কাস আল-লায়সী (রহঃ) থেকে...</td>\n",
       "      <td>সহিহ হাদিস</td>\n",
       "      <td>(৫৪, ২৫২৯, ৩৮৯৮, ৫০৭০, ৬৬৮৯, ৬৯৫৩; মুসলিম ২৩/৪...</td>\n",
       "      <td>আমি ‘উমর ইব্‌নুল খাত্তাব (রাঃ)-কে মিম্বারের উপ...</td>\n",
       "      <td>حَدَّثَنَا الْحُمَيْدِيُّ عَبْدُ اللَّهِ بْنُ ...</td>\n",
       "      <td>শারী‘আহ্‌র মূল উৎস হচ্ছে ওয়াহী। ওয়াহী দু’ প্রক...</td>\n",
       "      <td>এখনো পাওয়া যায়নি</td>\n",
       "      <td>আল্লাহ্‌র রসূল (সাল্লাল্লাহু 'আলাইহি ওয়া সাল্ল...</td>\n",
       "    </tr>\n",
       "  </tbody>\n",
       "</table>\n",
       "</div>"
      ],
      "text/plain": [
       "   id  source_book    chapter_no  hadith_no  \\\n",
       "0   0  সহিহ বুখারী  ১/১. অধ্যায়ঃ          1   \n",
       "\n",
       "                                            narrator    validity  \\\n",
       "0  ‘আলক্বামাহ ইব্‌নু ওয়াক্কাস আল-লায়সী (রহঃ) থেকে...  সহিহ হাদিস   \n",
       "\n",
       "                                           chain_idx  \\\n",
       "0  (৫৪, ২৫২৯, ৩৮৯৮, ৫০৭০, ৬৬৮৯, ৬৯৫৩; মুসলিম ২৩/৪...   \n",
       "\n",
       "                                             text_bn  \\\n",
       "0  আমি ‘উমর ইব্‌নুল খাত্তাব (রাঃ)-কে মিম্বারের উপ...   \n",
       "\n",
       "                                             text_ar  \\\n",
       "0  حَدَّثَنَا الْحُمَيْدِيُّ عَبْدُ اللَّهِ بْنُ ...   \n",
       "\n",
       "                                         explanation          extra_note  \\\n",
       "0  শারী‘আহ্‌র মূল উৎস হচ্ছে ওয়াহী। ওয়াহী দু’ প্রক...  এখনো পাওয়া যায়নি   \n",
       "\n",
       "                                             preface  \n",
       "0  আল্লাহ্‌র রসূল (সাল্লাল্লাহু 'আলাইহি ওয়া সাল্ল...  "
      ]
     },
     "execution_count": 3,
     "metadata": {},
     "output_type": "execute_result"
    }
   ],
   "source": [
    "bn_bukhari_muslim = pd.read_csv('/kaggle/input/en-bn-sahih-bukhari-muslim/bn_bukhari_muslim.csv')\n",
    "bn_bukhari_muslim.head(1)"
   ]
  },
  {
   "cell_type": "code",
   "execution_count": 4,
   "id": "2c344e3f",
   "metadata": {
    "execution": {
     "iopub.execute_input": "2022-10-27T07:59:57.451547Z",
     "iopub.status.busy": "2022-10-27T07:59:57.450170Z",
     "iopub.status.idle": "2022-10-27T07:59:57.458459Z",
     "shell.execute_reply": "2022-10-27T07:59:57.457210Z"
    },
    "papermill": {
     "duration": 0.022669,
     "end_time": "2022-10-27T07:59:57.460988",
     "exception": false,
     "start_time": "2022-10-27T07:59:57.438319",
     "status": "completed"
    },
    "tags": []
   },
   "outputs": [
    {
     "data": {
      "text/plain": [
       "2"
      ]
     },
     "execution_count": 4,
     "metadata": {},
     "output_type": "execute_result"
    }
   ],
   "source": [
    "len('য়')"
   ]
  },
  {
   "cell_type": "code",
   "execution_count": 5,
   "id": "4f9f4005",
   "metadata": {
    "execution": {
     "iopub.execute_input": "2022-10-27T07:59:57.485314Z",
     "iopub.status.busy": "2022-10-27T07:59:57.483948Z",
     "iopub.status.idle": "2022-10-27T07:59:57.491782Z",
     "shell.execute_reply": "2022-10-27T07:59:57.490873Z"
    },
    "papermill": {
     "duration": 0.022003,
     "end_time": "2022-10-27T07:59:57.494246",
     "exception": false,
     "start_time": "2022-10-27T07:59:57.472243",
     "status": "completed"
    },
    "tags": []
   },
   "outputs": [
    {
     "data": {
      "text/plain": [
       "False"
      ]
     },
     "execution_count": 5,
     "metadata": {},
     "output_type": "execute_result"
    }
   ],
   "source": [
    "'য়' == 'য়'"
   ]
  },
  {
   "cell_type": "code",
   "execution_count": 6,
   "id": "1c92d14f",
   "metadata": {
    "execution": {
     "iopub.execute_input": "2022-10-27T07:59:57.515836Z",
     "iopub.status.busy": "2022-10-27T07:59:57.515093Z",
     "iopub.status.idle": "2022-10-27T07:59:57.521835Z",
     "shell.execute_reply": "2022-10-27T07:59:57.520941Z"
    },
    "papermill": {
     "duration": 0.019813,
     "end_time": "2022-10-27T07:59:57.524098",
     "exception": false,
     "start_time": "2022-10-27T07:59:57.504285",
     "status": "completed"
    },
    "tags": []
   },
   "outputs": [
    {
     "data": {
      "text/plain": [
       "True"
      ]
     },
     "execution_count": 6,
     "metadata": {},
     "output_type": "execute_result"
    }
   ],
   "source": [
    "'য়' == 'য়'"
   ]
  },
  {
   "cell_type": "code",
   "execution_count": 7,
   "id": "7796f310",
   "metadata": {
    "execution": {
     "iopub.execute_input": "2022-10-27T07:59:57.549570Z",
     "iopub.status.busy": "2022-10-27T07:59:57.548719Z",
     "iopub.status.idle": "2022-10-27T07:59:57.600629Z",
     "shell.execute_reply": "2022-10-27T07:59:57.599406Z"
    },
    "papermill": {
     "duration": 0.068148,
     "end_time": "2022-10-27T07:59:57.603428",
     "exception": false,
     "start_time": "2022-10-27T07:59:57.535280",
     "status": "completed"
    },
    "tags": []
   },
   "outputs": [],
   "source": [
    "bn_hadiths = bn_bukhari_muslim.narrator+bn_bukhari_muslim.text_bn+bn_bukhari_muslim.explanation\n"
   ]
  },
  {
   "cell_type": "code",
   "execution_count": 8,
   "id": "4ca0734b",
   "metadata": {
    "execution": {
     "iopub.execute_input": "2022-10-27T07:59:57.625565Z",
     "iopub.status.busy": "2022-10-27T07:59:57.625010Z",
     "iopub.status.idle": "2022-10-27T08:00:09.952709Z",
     "shell.execute_reply": "2022-10-27T08:00:09.950971Z"
    },
    "papermill": {
     "duration": 12.342391,
     "end_time": "2022-10-27T08:00:09.955702",
     "exception": false,
     "start_time": "2022-10-27T07:59:57.613311",
     "status": "completed"
    },
    "tags": []
   },
   "outputs": [
    {
     "data": {
      "text/plain": [
       "83442"
      ]
     },
     "execution_count": 8,
     "metadata": {},
     "output_type": "execute_result"
    }
   ],
   "source": [
    "mlt_unique_words = list(bn_hadiths.str.split(' ', expand=True).stack().unique())\n",
    "len(mlt_unique_words)"
   ]
  },
  {
   "cell_type": "code",
   "execution_count": 9,
   "id": "deb4d118",
   "metadata": {
    "execution": {
     "iopub.execute_input": "2022-10-27T08:00:09.979963Z",
     "iopub.status.busy": "2022-10-27T08:00:09.978777Z",
     "iopub.status.idle": "2022-10-27T08:00:10.109650Z",
     "shell.execute_reply": "2022-10-27T08:00:10.108569Z"
    },
    "papermill": {
     "duration": 0.145494,
     "end_time": "2022-10-27T08:00:10.112159",
     "exception": false,
     "start_time": "2022-10-27T08:00:09.966665",
     "status": "completed"
    },
    "tags": []
   },
   "outputs": [
    {
     "name": "stdout",
     "output_type": "stream",
     "text": [
      "CPU times: user 121 ms, sys: 15 µs, total: 121 ms\n",
      "Wall time: 121 ms\n"
     ]
    }
   ],
   "source": [
    "%%time\n",
    "\n",
    "bn_unique_words = get_unique_য়_words(mlt_unique_words)"
   ]
  },
  {
   "cell_type": "code",
   "execution_count": 10,
   "id": "ef49de3d",
   "metadata": {
    "execution": {
     "iopub.execute_input": "2022-10-27T08:00:10.137749Z",
     "iopub.status.busy": "2022-10-27T08:00:10.136601Z",
     "iopub.status.idle": "2022-10-27T08:00:10.145847Z",
     "shell.execute_reply": "2022-10-27T08:00:10.144130Z"
    },
    "papermill": {
     "duration": 0.025081,
     "end_time": "2022-10-27T08:00:10.148721",
     "exception": false,
     "start_time": "2022-10-27T08:00:10.123640",
     "status": "completed"
    },
    "tags": []
   },
   "outputs": [
    {
     "data": {
      "text/plain": [
       "8564"
      ]
     },
     "execution_count": 10,
     "metadata": {},
     "output_type": "execute_result"
    }
   ],
   "source": [
    "len(bn_unique_words)"
   ]
  },
  {
   "cell_type": "code",
   "execution_count": 11,
   "id": "4d19a432",
   "metadata": {
    "execution": {
     "iopub.execute_input": "2022-10-27T08:00:10.172422Z",
     "iopub.status.busy": "2022-10-27T08:00:10.171922Z",
     "iopub.status.idle": "2022-10-27T08:00:22.166740Z",
     "shell.execute_reply": "2022-10-27T08:00:22.165439Z"
    },
    "papermill": {
     "duration": 12.009524,
     "end_time": "2022-10-27T08:00:22.169280",
     "exception": false,
     "start_time": "2022-10-27T08:00:10.159756",
     "status": "completed"
    },
    "tags": []
   },
   "outputs": [
    {
     "data": {
      "text/plain": [
       "‘আলাইহি           22194\n",
       "(সাল্লাল্লাহু     22077\n",
       "(রাঃ)             19955\n",
       "ওয়া               19931\n",
       "থেকে              19553\n",
       "                  ...  \n",
       "ধাবমান)               1\n",
       "ঘোড়াটিতো              1\n",
       "সমুদ্র।(আধুনিক        1\n",
       "৫৪৯৪)এখনো             1\n",
       "১০০৪)এখনো             1\n",
       "Length: 83442, dtype: int64"
      ]
     },
     "execution_count": 11,
     "metadata": {},
     "output_type": "execute_result"
    }
   ],
   "source": [
    "count_words = bn_hadiths.str.split(' ', expand=True).stack().value_counts()\n",
    "count_words"
   ]
  },
  {
   "cell_type": "code",
   "execution_count": 12,
   "id": "1818f8fe",
   "metadata": {
    "execution": {
     "iopub.execute_input": "2022-10-27T08:00:22.193856Z",
     "iopub.status.busy": "2022-10-27T08:00:22.193366Z",
     "iopub.status.idle": "2022-10-27T08:00:22.204570Z",
     "shell.execute_reply": "2022-10-27T08:00:22.203395Z"
    },
    "papermill": {
     "duration": 0.027115,
     "end_time": "2022-10-27T08:00:22.206957",
     "exception": false,
     "start_time": "2022-10-27T08:00:22.179842",
     "status": "completed"
    },
    "tags": []
   },
   "outputs": [
    {
     "data": {
      "text/plain": [
       "8266"
      ]
     },
     "execution_count": 12,
     "metadata": {},
     "output_type": "execute_result"
    }
   ],
   "source": [
    "bn_unique = set(bn_unique_words)\n",
    "bn_unique_words = list(bn_unique)\n",
    "len(bn_unique_words)"
   ]
  },
  {
   "cell_type": "code",
   "execution_count": 13,
   "id": "66cb61e4",
   "metadata": {
    "execution": {
     "iopub.execute_input": "2022-10-27T08:00:22.232286Z",
     "iopub.status.busy": "2022-10-27T08:00:22.231446Z",
     "iopub.status.idle": "2022-10-27T08:00:33.504872Z",
     "shell.execute_reply": "2022-10-27T08:00:33.504049Z"
    },
    "papermill": {
     "duration": 11.289077,
     "end_time": "2022-10-27T08:00:33.507026",
     "exception": false,
     "start_time": "2022-10-27T08:00:22.217949",
     "status": "completed"
    },
    "tags": []
   },
   "outputs": [
    {
     "data": {
      "text/plain": [
       "1270607"
      ]
     },
     "execution_count": 13,
     "metadata": {},
     "output_type": "execute_result"
    }
   ],
   "source": [
    "mlt_all_words = list(bn_hadiths.str.split(' ', expand=True).stack())\n",
    "len(mlt_all_words)"
   ]
  },
  {
   "cell_type": "code",
   "execution_count": 14,
   "id": "127c3422",
   "metadata": {
    "execution": {
     "iopub.execute_input": "2022-10-27T08:00:33.533644Z",
     "iopub.status.busy": "2022-10-27T08:00:33.532392Z",
     "iopub.status.idle": "2022-10-27T08:19:43.131818Z",
     "shell.execute_reply": "2022-10-27T08:19:43.129965Z"
    },
    "papermill": {
     "duration": 1149.625019,
     "end_time": "2022-10-27T08:19:43.143772",
     "exception": false,
     "start_time": "2022-10-27T08:00:33.518753",
     "status": "completed"
    },
    "tags": []
   },
   "outputs": [
    {
     "name": "stdout",
     "output_type": "stream",
     "text": [
      "CPU times: user 19min 7s, sys: 261 ms, total: 19min 7s\n",
      "Wall time: 19min 9s\n"
     ]
    }
   ],
   "source": [
    "%%time\n",
    "\n",
    "counter = count_all_য়_words(mlt_all_words,bn_unique_words)"
   ]
  },
  {
   "cell_type": "code",
   "execution_count": 15,
   "id": "d4953320",
   "metadata": {
    "execution": {
     "iopub.execute_input": "2022-10-27T08:19:43.166774Z",
     "iopub.status.busy": "2022-10-27T08:19:43.166181Z",
     "iopub.status.idle": "2022-10-27T08:19:43.175258Z",
     "shell.execute_reply": "2022-10-27T08:19:43.174458Z"
    },
    "papermill": {
     "duration": 0.023097,
     "end_time": "2022-10-27T08:19:43.177090",
     "exception": false,
     "start_time": "2022-10-27T08:19:43.153993",
     "status": "completed"
    },
    "tags": []
   },
   "outputs": [
    {
     "data": {
      "text/plain": [
       "(8266, 8266)"
      ]
     },
     "execution_count": 15,
     "metadata": {},
     "output_type": "execute_result"
    }
   ],
   "source": [
    "#sanity check\n",
    "len(counter),len(bn_unique_words)"
   ]
  },
  {
   "cell_type": "code",
   "execution_count": 16,
   "id": "6a8ae63f",
   "metadata": {
    "execution": {
     "iopub.execute_input": "2022-10-27T08:19:43.200238Z",
     "iopub.status.busy": "2022-10-27T08:19:43.199475Z",
     "iopub.status.idle": "2022-10-27T08:19:43.232519Z",
     "shell.execute_reply": "2022-10-27T08:19:43.231528Z"
    },
    "papermill": {
     "duration": 0.047439,
     "end_time": "2022-10-27T08:19:43.235099",
     "exception": false,
     "start_time": "2022-10-27T08:19:43.187660",
     "status": "completed"
    },
    "tags": []
   },
   "outputs": [],
   "source": [
    "df = pd.DataFrame(columns=['bn_words_of_interest', 'frequency_count'])\n",
    "df.bn_words_of_interest = bn_unique_words\n",
    "df.frequency_count = counter\n"
   ]
  },
  {
   "cell_type": "code",
   "execution_count": 17,
   "id": "a69bf764",
   "metadata": {
    "execution": {
     "iopub.execute_input": "2022-10-27T08:19:43.257714Z",
     "iopub.status.busy": "2022-10-27T08:19:43.257317Z",
     "iopub.status.idle": "2022-10-27T08:19:43.265516Z",
     "shell.execute_reply": "2022-10-27T08:19:43.264705Z"
    },
    "papermill": {
     "duration": 0.022134,
     "end_time": "2022-10-27T08:19:43.267688",
     "exception": false,
     "start_time": "2022-10-27T08:19:43.245554",
     "status": "completed"
    },
    "tags": []
   },
   "outputs": [],
   "source": [
    "df = df.sort_values(by=['frequency_count'], ascending=False)"
   ]
  },
  {
   "cell_type": "code",
   "execution_count": 18,
   "id": "7c05aff5",
   "metadata": {
    "execution": {
     "iopub.execute_input": "2022-10-27T08:19:43.290272Z",
     "iopub.status.busy": "2022-10-27T08:19:43.289899Z",
     "iopub.status.idle": "2022-10-27T08:19:43.355579Z",
     "shell.execute_reply": "2022-10-27T08:19:43.354384Z"
    },
    "papermill": {
     "duration": 0.080306,
     "end_time": "2022-10-27T08:19:43.358232",
     "exception": false,
     "start_time": "2022-10-27T08:19:43.277926",
     "status": "completed"
    },
    "tags": []
   },
   "outputs": [],
   "source": [
    "df.to_csv(\"hadiths_frequent_bn_words_of_interest.csv\",index = False)"
   ]
  },
  {
   "cell_type": "code",
   "execution_count": 19,
   "id": "80d22a05",
   "metadata": {
    "execution": {
     "iopub.execute_input": "2022-10-27T08:19:43.381161Z",
     "iopub.status.busy": "2022-10-27T08:19:43.380783Z",
     "iopub.status.idle": "2022-10-27T08:19:43.393235Z",
     "shell.execute_reply": "2022-10-27T08:19:43.392054Z"
    },
    "papermill": {
     "duration": 0.026865,
     "end_time": "2022-10-27T08:19:43.395827",
     "exception": false,
     "start_time": "2022-10-27T08:19:43.368962",
     "status": "completed"
    },
    "tags": []
   },
   "outputs": [
    {
     "data": {
      "text/html": [
       "<div>\n",
       "<style scoped>\n",
       "    .dataframe tbody tr th:only-of-type {\n",
       "        vertical-align: middle;\n",
       "    }\n",
       "\n",
       "    .dataframe tbody tr th {\n",
       "        vertical-align: top;\n",
       "    }\n",
       "\n",
       "    .dataframe thead th {\n",
       "        text-align: right;\n",
       "    }\n",
       "</style>\n",
       "<table border=\"1\" class=\"dataframe\">\n",
       "  <thead>\n",
       "    <tr style=\"text-align: right;\">\n",
       "      <th></th>\n",
       "      <th>bn_words_of_interest</th>\n",
       "      <th>frequency_count</th>\n",
       "    </tr>\n",
       "  </thead>\n",
       "  <tbody>\n",
       "    <tr>\n",
       "      <th>4419</th>\n",
       "      <td>য়</td>\n",
       "      <td>102621</td>\n",
       "    </tr>\n",
       "    <tr>\n",
       "      <th>6212</th>\n",
       "      <td>ওয়া</td>\n",
       "      <td>29507</td>\n",
       "    </tr>\n",
       "    <tr>\n",
       "      <th>617</th>\n",
       "      <td>হয়</td>\n",
       "      <td>8486</td>\n",
       "    </tr>\n",
       "    <tr>\n",
       "      <th>8083</th>\n",
       "      <td>হয়ে</td>\n",
       "      <td>5611</td>\n",
       "    </tr>\n",
       "    <tr>\n",
       "      <th>2393</th>\n",
       "      <td>দায়</td>\n",
       "      <td>4559</td>\n",
       "    </tr>\n",
       "  </tbody>\n",
       "</table>\n",
       "</div>"
      ],
      "text/plain": [
       "     bn_words_of_interest  frequency_count\n",
       "4419                    য়           102621\n",
       "6212                  ওয়া            29507\n",
       "617                    হয়             8486\n",
       "8083                  হয়ে             5611\n",
       "2393                  দায়             4559"
      ]
     },
     "execution_count": 19,
     "metadata": {},
     "output_type": "execute_result"
    }
   ],
   "source": [
    "df.head()"
   ]
  },
  {
   "cell_type": "markdown",
   "id": "11f13273",
   "metadata": {
    "papermill": {
     "duration": 0.010016,
     "end_time": "2022-10-27T08:19:43.416658",
     "exception": false,
     "start_time": "2022-10-27T08:19:43.406642",
     "status": "completed"
    },
    "tags": []
   },
   "source": [
    "# scrutinizing our [qtafsir dataset ](https://www.kaggle.com/datasets/mobassir/bangla-quran-with-tafsir)"
   ]
  },
  {
   "cell_type": "code",
   "execution_count": 20,
   "id": "0445b91b",
   "metadata": {
    "execution": {
     "iopub.execute_input": "2022-10-27T08:19:43.439390Z",
     "iopub.status.busy": "2022-10-27T08:19:43.438976Z",
     "iopub.status.idle": "2022-10-27T08:19:44.518870Z",
     "shell.execute_reply": "2022-10-27T08:19:44.517798Z"
    },
    "papermill": {
     "duration": 1.0963,
     "end_time": "2022-10-27T08:19:44.523622",
     "exception": false,
     "start_time": "2022-10-27T08:19:43.427322",
     "status": "completed"
    },
    "tags": []
   },
   "outputs": [
    {
     "data": {
      "text/html": [
       "<div>\n",
       "<style scoped>\n",
       "    .dataframe tbody tr th:only-of-type {\n",
       "        vertical-align: middle;\n",
       "    }\n",
       "\n",
       "    .dataframe tbody tr th {\n",
       "        vertical-align: top;\n",
       "    }\n",
       "\n",
       "    .dataframe thead th {\n",
       "        text-align: right;\n",
       "    }\n",
       "</style>\n",
       "<table border=\"1\" class=\"dataframe\">\n",
       "  <thead>\n",
       "    <tr style=\"text-align: right;\">\n",
       "      <th></th>\n",
       "      <th>text</th>\n",
       "      <th>ayat</th>\n",
       "      <th>আল_বায়ান</th>\n",
       "      <th>তাইসিরুল</th>\n",
       "      <th>মুজিবুর_রহমান</th>\n",
       "      <th>Sahih_International</th>\n",
       "      <th>tafsir_bayan_headers</th>\n",
       "      <th>tafsir_bayan_text</th>\n",
       "      <th>tafsir_zakariya_headers</th>\n",
       "      <th>tafsir_zakariya_text</th>\n",
       "    </tr>\n",
       "  </thead>\n",
       "  <tbody>\n",
       "    <tr>\n",
       "      <th>0</th>\n",
       "      <td>بِسۡمِ اللّٰهِ الرَّحۡمٰنِ الرَّحِیۡمِ ﴿۱﴾\\nب...</td>\n",
       "      <td>surah 1, ayat  1</td>\n",
       "      <td>পরম করুণাময় অতি দয়ালু আল্লাহর নামে।</td>\n",
       "      <td>(আরম্ভ করছি) পরম করুণাময় অসীম দয়াময় আল্লাহর না...</td>\n",
       "      <td>পরম করুণাময়, অসীম দয়ালু আল্লাহর নামে (শুরু করছ...</td>\n",
       "      <td>In the name of Allah, the Entirely Merciful, t...</td>\n",
       "      <td>(১) অনন্ত করুণাময় পরম দয়ালু আল্লাহর নামে (আরম্...</td>\n",
       "      <td>‘বিসমিল্লাহ’র পূর্বে ‘আক্বরাউ’ ‘আবদাউ’ অথবা ‘আ...</td>\n",
       "      <td>১. রহমান, রহীম(১) আল্লাহর নামে।(২)</td>\n",
       "      <td>১. সাধারণত আয়াতের অনুবাদে বলা হয়ে থাকে, পরম ...</td>\n",
       "    </tr>\n",
       "  </tbody>\n",
       "</table>\n",
       "</div>"
      ],
      "text/plain": [
       "                                                text              ayat  \\\n",
       "0   بِسۡمِ اللّٰهِ الرَّحۡمٰنِ الرَّحِیۡمِ ﴿۱﴾\\nب...  surah 1, ayat  1   \n",
       "\n",
       "                              আল_বায়ান  \\\n",
       "0  পরম করুণাময় অতি দয়ালু আল্লাহর নামে।    \n",
       "\n",
       "                                            তাইসিরুল  \\\n",
       "0  (আরম্ভ করছি) পরম করুণাময় অসীম দয়াময় আল্লাহর না...   \n",
       "\n",
       "                                       মুজিবুর_রহমান  \\\n",
       "0  পরম করুণাময়, অসীম দয়ালু আল্লাহর নামে (শুরু করছ...   \n",
       "\n",
       "                                 Sahih_International  \\\n",
       "0  In the name of Allah, the Entirely Merciful, t...   \n",
       "\n",
       "                                tafsir_bayan_headers  \\\n",
       "0  (১) অনন্ত করুণাময় পরম দয়ালু আল্লাহর নামে (আরম্...   \n",
       "\n",
       "                                   tafsir_bayan_text  \\\n",
       "0  ‘বিসমিল্লাহ’র পূর্বে ‘আক্বরাউ’ ‘আবদাউ’ অথবা ‘আ...   \n",
       "\n",
       "              tafsir_zakariya_headers  \\\n",
       "0  ১. রহমান, রহীম(১) আল্লাহর নামে।(২)   \n",
       "\n",
       "                                tafsir_zakariya_text  \n",
       "0  ১. সাধারণত আয়াতের অনুবাদে বলা হয়ে থাকে, পরম ...  "
      ]
     },
     "execution_count": 20,
     "metadata": {},
     "output_type": "execute_result"
    }
   ],
   "source": [
    "qtafsir = pd.read_csv('../input/bangla-quran-with-tafsir/ben_quran_with_tafsir.csv')\n",
    "qtafsir.head(1)"
   ]
  },
  {
   "cell_type": "code",
   "execution_count": 21,
   "id": "69a67e57",
   "metadata": {
    "execution": {
     "iopub.execute_input": "2022-10-27T08:19:44.550123Z",
     "iopub.status.busy": "2022-10-27T08:19:44.549207Z",
     "iopub.status.idle": "2022-10-27T08:19:44.614904Z",
     "shell.execute_reply": "2022-10-27T08:19:44.614079Z"
    },
    "papermill": {
     "duration": 0.080281,
     "end_time": "2022-10-27T08:19:44.617280",
     "exception": false,
     "start_time": "2022-10-27T08:19:44.536999",
     "status": "completed"
    },
    "tags": []
   },
   "outputs": [],
   "source": [
    "bn_qtafsir = qtafsir.আল_বায়ান+qtafsir.তাইসিরুল+qtafsir.মুজিবুর_রহমান+qtafsir.tafsir_bayan_headers+qtafsir.tafsir_bayan_text+qtafsir.tafsir_zakariya_headers+qtafsir.tafsir_zakariya_text\n"
   ]
  },
  {
   "cell_type": "code",
   "execution_count": 22,
   "id": "c12e149c",
   "metadata": {
    "execution": {
     "iopub.execute_input": "2022-10-27T08:19:44.641389Z",
     "iopub.status.busy": "2022-10-27T08:19:44.640654Z",
     "iopub.status.idle": "2022-10-27T08:19:44.646269Z",
     "shell.execute_reply": "2022-10-27T08:19:44.645537Z"
    },
    "papermill": {
     "duration": 0.019839,
     "end_time": "2022-10-27T08:19:44.648211",
     "exception": false,
     "start_time": "2022-10-27T08:19:44.628372",
     "status": "completed"
    },
    "tags": []
   },
   "outputs": [
    {
     "data": {
      "text/plain": [
       "6236"
      ]
     },
     "execution_count": 22,
     "metadata": {},
     "output_type": "execute_result"
    }
   ],
   "source": [
    "len(bn_qtafsir)"
   ]
  },
  {
   "cell_type": "code",
   "execution_count": 23,
   "id": "e2e16ae8",
   "metadata": {
    "execution": {
     "iopub.execute_input": "2022-10-27T08:19:44.672447Z",
     "iopub.status.busy": "2022-10-27T08:19:44.671393Z",
     "iopub.status.idle": "2022-10-27T08:19:50.286136Z",
     "shell.execute_reply": "2022-10-27T08:19:50.285177Z"
    },
    "papermill": {
     "duration": 5.630775,
     "end_time": "2022-10-27T08:19:50.289964",
     "exception": false,
     "start_time": "2022-10-27T08:19:44.659189",
     "status": "completed"
    },
    "tags": []
   },
   "outputs": [],
   "source": [
    "mlt_unique_words = list(bn_qtafsir.str.split(' ', expand=True).stack().unique())"
   ]
  },
  {
   "cell_type": "code",
   "execution_count": 24,
   "id": "dfffbf69",
   "metadata": {
    "execution": {
     "iopub.execute_input": "2022-10-27T08:19:50.314051Z",
     "iopub.status.busy": "2022-10-27T08:19:50.313285Z",
     "iopub.status.idle": "2022-10-27T08:19:50.320340Z",
     "shell.execute_reply": "2022-10-27T08:19:50.319299Z"
    },
    "papermill": {
     "duration": 0.021683,
     "end_time": "2022-10-27T08:19:50.322686",
     "exception": false,
     "start_time": "2022-10-27T08:19:50.301003",
     "status": "completed"
    },
    "tags": []
   },
   "outputs": [
    {
     "data": {
      "text/plain": [
       "116812"
      ]
     },
     "execution_count": 24,
     "metadata": {},
     "output_type": "execute_result"
    }
   ],
   "source": [
    "len(mlt_unique_words)"
   ]
  },
  {
   "cell_type": "code",
   "execution_count": 25,
   "id": "1dc8d26b",
   "metadata": {
    "execution": {
     "iopub.execute_input": "2022-10-27T08:19:50.347031Z",
     "iopub.status.busy": "2022-10-27T08:19:50.346165Z",
     "iopub.status.idle": "2022-10-27T08:19:50.541236Z",
     "shell.execute_reply": "2022-10-27T08:19:50.539954Z"
    },
    "papermill": {
     "duration": 0.20987,
     "end_time": "2022-10-27T08:19:50.543626",
     "exception": false,
     "start_time": "2022-10-27T08:19:50.333756",
     "status": "completed"
    },
    "tags": []
   },
   "outputs": [
    {
     "name": "stdout",
     "output_type": "stream",
     "text": [
      "CPU times: user 188 ms, sys: 1 µs, total: 188 ms\n",
      "Wall time: 188 ms\n"
     ]
    }
   ],
   "source": [
    "%%time\n",
    "\n",
    "bn_unique_words = get_unique_য়_words(mlt_unique_words)"
   ]
  },
  {
   "cell_type": "code",
   "execution_count": 26,
   "id": "b4ce57e6",
   "metadata": {
    "execution": {
     "iopub.execute_input": "2022-10-27T08:19:50.568378Z",
     "iopub.status.busy": "2022-10-27T08:19:50.567701Z",
     "iopub.status.idle": "2022-10-27T08:19:50.574672Z",
     "shell.execute_reply": "2022-10-27T08:19:50.573707Z"
    },
    "papermill": {
     "duration": 0.021754,
     "end_time": "2022-10-27T08:19:50.576747",
     "exception": false,
     "start_time": "2022-10-27T08:19:50.554993",
     "status": "completed"
    },
    "tags": []
   },
   "outputs": [
    {
     "data": {
      "text/plain": [
       "7524"
      ]
     },
     "execution_count": 26,
     "metadata": {},
     "output_type": "execute_result"
    }
   ],
   "source": [
    "len(bn_unique_words)"
   ]
  },
  {
   "cell_type": "code",
   "execution_count": 27,
   "id": "ea6d22fe",
   "metadata": {
    "execution": {
     "iopub.execute_input": "2022-10-27T08:19:50.601402Z",
     "iopub.status.busy": "2022-10-27T08:19:50.600737Z",
     "iopub.status.idle": "2022-10-27T08:19:55.892676Z",
     "shell.execute_reply": "2022-10-27T08:19:55.891384Z"
    },
    "papermill": {
     "duration": 5.307008,
     "end_time": "2022-10-27T08:19:55.895106",
     "exception": false,
     "start_time": "2022-10-27T08:19:50.588098",
     "status": "completed"
    },
    "tags": []
   },
   "outputs": [
    {
     "data": {
      "text/plain": [
       "ও               27422\n",
       "এবং             25869\n",
       "তাদের           20469\n",
       "আর              19362\n",
       "তারা            18941\n",
       "                ...  \n",
       "পরিভাষাকে           1\n",
       "চিরস্থায়ী।’’        1\n",
       "والأرض)             1\n",
       "السموات             1\n",
       "১/৯]তাফসীরে         1\n",
       "Length: 116812, dtype: int64"
      ]
     },
     "execution_count": 27,
     "metadata": {},
     "output_type": "execute_result"
    }
   ],
   "source": [
    "# bn_words = ' '.join(str(s) for s in bn_unique_words)\n",
    "count_words = bn_qtafsir.str.split(' ', expand=True).stack().value_counts()\n",
    "count_words"
   ]
  },
  {
   "cell_type": "code",
   "execution_count": 28,
   "id": "37c1c6cc",
   "metadata": {
    "execution": {
     "iopub.execute_input": "2022-10-27T08:19:55.920475Z",
     "iopub.status.busy": "2022-10-27T08:19:55.919760Z",
     "iopub.status.idle": "2022-10-27T08:19:55.931054Z",
     "shell.execute_reply": "2022-10-27T08:19:55.929772Z"
    },
    "papermill": {
     "duration": 0.027234,
     "end_time": "2022-10-27T08:19:55.933813",
     "exception": false,
     "start_time": "2022-10-27T08:19:55.906579",
     "status": "completed"
    },
    "tags": []
   },
   "outputs": [
    {
     "data": {
      "text/plain": [
       "7339"
      ]
     },
     "execution_count": 28,
     "metadata": {},
     "output_type": "execute_result"
    }
   ],
   "source": [
    "bn_unique = set(bn_unique_words)\n",
    "bn_unique_words = list(bn_unique)\n",
    "len(bn_unique_words)"
   ]
  },
  {
   "cell_type": "code",
   "execution_count": 29,
   "id": "5d6aee44",
   "metadata": {
    "execution": {
     "iopub.execute_input": "2022-10-27T08:19:55.958994Z",
     "iopub.status.busy": "2022-10-27T08:19:55.958585Z",
     "iopub.status.idle": "2022-10-27T08:20:00.964117Z",
     "shell.execute_reply": "2022-10-27T08:20:00.962777Z"
    },
    "papermill": {
     "duration": 5.021478,
     "end_time": "2022-10-27T08:20:00.966879",
     "exception": false,
     "start_time": "2022-10-27T08:19:55.945401",
     "status": "completed"
    },
    "tags": []
   },
   "outputs": [
    {
     "data": {
      "text/plain": [
       "1809060"
      ]
     },
     "execution_count": 29,
     "metadata": {},
     "output_type": "execute_result"
    }
   ],
   "source": [
    "mlt_all_words = list(bn_qtafsir.str.split(' ', expand=True).stack())\n",
    "len(mlt_all_words)"
   ]
  },
  {
   "cell_type": "code",
   "execution_count": 30,
   "id": "ab75f409",
   "metadata": {
    "execution": {
     "iopub.execute_input": "2022-10-27T08:20:00.993752Z",
     "iopub.status.busy": "2022-10-27T08:20:00.993323Z",
     "iopub.status.idle": "2022-10-27T08:43:57.945480Z",
     "shell.execute_reply": "2022-10-27T08:43:57.944117Z"
    },
    "papermill": {
     "duration": 1436.980133,
     "end_time": "2022-10-27T08:43:57.959581",
     "exception": false,
     "start_time": "2022-10-27T08:20:00.979448",
     "status": "completed"
    },
    "tags": []
   },
   "outputs": [
    {
     "name": "stdout",
     "output_type": "stream",
     "text": [
      "CPU times: user 23min 56s, sys: 294 ms, total: 23min 56s\n",
      "Wall time: 23min 56s\n"
     ]
    }
   ],
   "source": [
    "%%time\n",
    "\n",
    "counter = count_all_য়_words(mlt_all_words,bn_unique_words)"
   ]
  },
  {
   "cell_type": "code",
   "execution_count": 31,
   "id": "0de828c6",
   "metadata": {
    "execution": {
     "iopub.execute_input": "2022-10-27T08:43:57.984960Z",
     "iopub.status.busy": "2022-10-27T08:43:57.984553Z",
     "iopub.status.idle": "2022-10-27T08:43:57.991948Z",
     "shell.execute_reply": "2022-10-27T08:43:57.990634Z"
    },
    "papermill": {
     "duration": 0.022968,
     "end_time": "2022-10-27T08:43:57.994347",
     "exception": false,
     "start_time": "2022-10-27T08:43:57.971379",
     "status": "completed"
    },
    "tags": []
   },
   "outputs": [
    {
     "data": {
      "text/plain": [
       "(7339, 7339)"
      ]
     },
     "execution_count": 31,
     "metadata": {},
     "output_type": "execute_result"
    }
   ],
   "source": [
    "#sanity check\n",
    "len(counter),len(bn_unique_words)"
   ]
  },
  {
   "cell_type": "code",
   "execution_count": 32,
   "id": "bf971cc2",
   "metadata": {
    "execution": {
     "iopub.execute_input": "2022-10-27T08:43:58.020307Z",
     "iopub.status.busy": "2022-10-27T08:43:58.019920Z",
     "iopub.status.idle": "2022-10-27T08:43:58.036032Z",
     "shell.execute_reply": "2022-10-27T08:43:58.034579Z"
    },
    "papermill": {
     "duration": 0.031846,
     "end_time": "2022-10-27T08:43:58.038315",
     "exception": false,
     "start_time": "2022-10-27T08:43:58.006469",
     "status": "completed"
    },
    "tags": []
   },
   "outputs": [],
   "source": [
    "df = pd.DataFrame(columns=['bn_words_of_interest', 'frequency_count'])\n",
    "df.bn_words_of_interest = bn_unique_words\n",
    "df.frequency_count = counter\n"
   ]
  },
  {
   "cell_type": "code",
   "execution_count": 33,
   "id": "8274ec27",
   "metadata": {
    "execution": {
     "iopub.execute_input": "2022-10-27T08:43:58.065063Z",
     "iopub.status.busy": "2022-10-27T08:43:58.064006Z",
     "iopub.status.idle": "2022-10-27T08:43:58.071468Z",
     "shell.execute_reply": "2022-10-27T08:43:58.070553Z"
    },
    "papermill": {
     "duration": 0.023486,
     "end_time": "2022-10-27T08:43:58.074036",
     "exception": false,
     "start_time": "2022-10-27T08:43:58.050550",
     "status": "completed"
    },
    "tags": []
   },
   "outputs": [],
   "source": [
    "df = df.sort_values(by=['frequency_count'], ascending=False)"
   ]
  },
  {
   "cell_type": "code",
   "execution_count": 34,
   "id": "fe495f22",
   "metadata": {
    "execution": {
     "iopub.execute_input": "2022-10-27T08:43:58.100822Z",
     "iopub.status.busy": "2022-10-27T08:43:58.100389Z",
     "iopub.status.idle": "2022-10-27T08:43:58.119953Z",
     "shell.execute_reply": "2022-10-27T08:43:58.118825Z"
    },
    "papermill": {
     "duration": 0.036438,
     "end_time": "2022-10-27T08:43:58.122728",
     "exception": false,
     "start_time": "2022-10-27T08:43:58.086290",
     "status": "completed"
    },
    "tags": []
   },
   "outputs": [],
   "source": [
    "df.to_csv(\"frequent_bn_words_of_interest.csv\",index = False)"
   ]
  },
  {
   "cell_type": "code",
   "execution_count": 35,
   "id": "b564c2eb",
   "metadata": {
    "execution": {
     "iopub.execute_input": "2022-10-27T08:43:58.149648Z",
     "iopub.status.busy": "2022-10-27T08:43:58.148612Z",
     "iopub.status.idle": "2022-10-27T08:43:58.162732Z",
     "shell.execute_reply": "2022-10-27T08:43:58.161566Z"
    },
    "papermill": {
     "duration": 0.030112,
     "end_time": "2022-10-27T08:43:58.165046",
     "exception": false,
     "start_time": "2022-10-27T08:43:58.134934",
     "status": "completed"
    },
    "tags": []
   },
   "outputs": [
    {
     "data": {
      "text/html": [
       "<div>\n",
       "<style scoped>\n",
       "    .dataframe tbody tr th:only-of-type {\n",
       "        vertical-align: middle;\n",
       "    }\n",
       "\n",
       "    .dataframe tbody tr th {\n",
       "        vertical-align: top;\n",
       "    }\n",
       "\n",
       "    .dataframe thead th {\n",
       "        text-align: right;\n",
       "    }\n",
       "</style>\n",
       "<table border=\"1\" class=\"dataframe\">\n",
       "  <thead>\n",
       "    <tr style=\"text-align: right;\">\n",
       "      <th></th>\n",
       "      <th>bn_words_of_interest</th>\n",
       "      <th>frequency_count</th>\n",
       "    </tr>\n",
       "  </thead>\n",
       "  <tbody>\n",
       "    <tr>\n",
       "      <th>3877</th>\n",
       "      <td>য়</td>\n",
       "      <td>81381</td>\n",
       "    </tr>\n",
       "    <tr>\n",
       "      <th>535</th>\n",
       "      <td>হয়</td>\n",
       "      <td>15404</td>\n",
       "    </tr>\n",
       "    <tr>\n",
       "      <th>7189</th>\n",
       "      <td>হয়ে</td>\n",
       "      <td>10004</td>\n",
       "    </tr>\n",
       "    <tr>\n",
       "      <th>5412</th>\n",
       "      <td>ওয়া</td>\n",
       "      <td>6351</td>\n",
       "    </tr>\n",
       "    <tr>\n",
       "      <th>3944</th>\n",
       "      <td>হয়েছ</td>\n",
       "      <td>6209</td>\n",
       "    </tr>\n",
       "    <tr>\n",
       "      <th>...</th>\n",
       "      <td>...</td>\n",
       "      <td>...</td>\n",
       "    </tr>\n",
       "    <tr>\n",
       "      <th>3323</th>\n",
       "      <td>দিয়্যাত</td>\n",
       "      <td>1</td>\n",
       "    </tr>\n",
       "    <tr>\n",
       "      <th>3318</th>\n",
       "      <td>(শিয়া)রা</td>\n",
       "      <td>1</td>\n",
       "    </tr>\n",
       "    <tr>\n",
       "      <th>3317</th>\n",
       "      <td>হৃদয়ও</td>\n",
       "      <td>1</td>\n",
       "    </tr>\n",
       "    <tr>\n",
       "      <th>3316</th>\n",
       "      <td>কর্তৃস্থানীয়</td>\n",
       "      <td>1</td>\n",
       "    </tr>\n",
       "    <tr>\n",
       "      <th>7338</th>\n",
       "      <td>হয়।’[2][1]</td>\n",
       "      <td>1</td>\n",
       "    </tr>\n",
       "  </tbody>\n",
       "</table>\n",
       "<p>7339 rows × 2 columns</p>\n",
       "</div>"
      ],
      "text/plain": [
       "     bn_words_of_interest  frequency_count\n",
       "3877                    য়            81381\n",
       "535                    হয়            15404\n",
       "7189                  হয়ে            10004\n",
       "5412                  ওয়া             6351\n",
       "3944                 হয়েছ             6209\n",
       "...                   ...              ...\n",
       "3323              দিয়্যাত                1\n",
       "3318             (শিয়া)রা                1\n",
       "3317                হৃদয়ও                1\n",
       "3316         কর্তৃস্থানীয়                1\n",
       "7338           হয়।’[2][1]                1\n",
       "\n",
       "[7339 rows x 2 columns]"
      ]
     },
     "execution_count": 35,
     "metadata": {},
     "output_type": "execute_result"
    }
   ],
   "source": [
    "df"
   ]
  },
  {
   "cell_type": "code",
   "execution_count": null,
   "id": "61f644a8",
   "metadata": {
    "papermill": {
     "duration": 0.011926,
     "end_time": "2022-10-27T08:43:58.189608",
     "exception": false,
     "start_time": "2022-10-27T08:43:58.177682",
     "status": "completed"
    },
    "tags": []
   },
   "outputs": [],
   "source": []
  }
 ],
 "metadata": {
  "kernelspec": {
   "display_name": "Python 3",
   "language": "python",
   "name": "python3"
  },
  "language_info": {
   "codemirror_mode": {
    "name": "ipython",
    "version": 3
   },
   "file_extension": ".py",
   "mimetype": "text/x-python",
   "name": "python",
   "nbconvert_exporter": "python",
   "pygments_lexer": "ipython3",
   "version": "3.7.12"
  },
  "papermill": {
   "default_parameters": {},
   "duration": 2653.939791,
   "end_time": "2022-10-27T08:43:59.430774",
   "environment_variables": {},
   "exception": null,
   "input_path": "__notebook__.ipynb",
   "output_path": "__notebook__.ipynb",
   "parameters": {},
   "start_time": "2022-10-27T07:59:45.490983",
   "version": "2.3.4"
  }
 },
 "nbformat": 4,
 "nbformat_minor": 5
}
