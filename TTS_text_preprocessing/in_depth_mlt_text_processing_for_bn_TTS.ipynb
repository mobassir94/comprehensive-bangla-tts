{
  "nbformat": 4,
  "nbformat_minor": 0,
  "metadata": {
    "colab": {
      "provenance": [],
      "collapsed_sections": [],
      "authorship_tag": "ABX9TyM6tuElJ5yU+8/W8sZUVPBT",
      "include_colab_link": true
    },
    "kernelspec": {
      "name": "python3",
      "display_name": "Python 3"
    },
    "language_info": {
      "name": "python"
    }
  },
  "cells": [
    {
      "cell_type": "markdown",
      "metadata": {
        "id": "view-in-github",
        "colab_type": "text"
      },
      "source": [
        "<a href=\"https://colab.research.google.com/github/mobassir94/comprehensive-bangla-tts/blob/main/TTS_text_preprocessing/in_depth_mlt_text_processing_for_bn_TTS.ipynb\" target=\"_parent\"><img src=\"https://colab.research.google.com/assets/colab-badge.svg\" alt=\"Open In Colab\"/></a>"
      ]
    },
    {
      "cell_type": "code",
      "execution_count": null,
      "metadata": {
        "id": "t26MRXFiyW5S"
      },
      "outputs": [],
      "source": [
        "%%capture\n",
        "! pip install bnnumerizer==0.0.2\n",
        "! pip install bangla==0.0.2\n"
      ]
    },
    {
      "cell_type": "code",
      "source": [
        "import bangla\n",
        "import re\n",
        "from bnnumerizer import numerize"
      ],
      "metadata": {
        "id": "GguU40Dgy3Ym"
      },
      "execution_count": null,
      "outputs": []
    },
    {
      "cell_type": "code",
      "source": [
        "#updated and modified from https://github.com/mobassir94/comprehensive-bangla-tts/blob/main/mlt_TTS_inference_demo/bn-ar-tts-pipeline.ipynb\n",
        "\n",
        "attribution_dict={\"সাঃ\":\"সাল্লাল্লাহু আলাইহি ওয়া সাল্লাম\",                   \n",
        "                                  \"আঃ\":\"আলাইহিস সালাম\",\n",
        "                                  \"রাঃ\":\"রাদিআল্লাহু আনহু\",\n",
        "                                  \"রহঃ\":\"রহমাতুল্লাহি আলাইহি\",\n",
        "                                  \"রহিঃ\":\"রহিমাহুল্লাহ\",\n",
        "                                  \"হাফিঃ\":\"হাফিযাহুল্লাহ\",\n",
        "                                  \"দাঃবাঃ\":\"দামাত বারাকাতুহুম,দামাত বারাকাতুল্লাহ\"}\n",
        "\n",
        "def tag_text(text):\n",
        "    '''\n",
        "        * tags arabic text with <ar>text</ar>\n",
        "        * tags bangla text with <bn>text</bn>\n",
        "    '''\n",
        "    # remove multiple spaces\n",
        "    text=re.sub(' +', ' ',text)\n",
        "    # create start and end\n",
        "    text=\"start\"+text+\"end\"\n",
        "    # tag text\n",
        "    parts=re.split(u'[\\u0600-\\u06FF]+', text)\n",
        "    # remove non chars\n",
        "    parts=[p for p in parts if p.strip()]\n",
        "    # unique parts\n",
        "    parts=set(parts)\n",
        "    # tag the text\n",
        "    for m in parts:\n",
        "        if len(m.strip())>1:text=text.replace(m,f\"</ar><SPLIT><bn>{m}</bn><SPLIT><ar>\")\n",
        "    # clean-tags\n",
        "    text=text.replace(\"</ar><SPLIT><bn>start\",'<bn>')\n",
        "    text=text.replace(\"end</bn><SPLIT><ar>\",'</bn>')\n",
        "    return text\n",
        "\n",
        "\n",
        "def expand_full_attribution(text):\n",
        "        '''\n",
        "            expands full attribution\n",
        "        '''\n",
        "        for k,v in attribution_dict.items():text=text.replace(k,v)\n",
        "        return text\n",
        "\n",
        "def collapse_whitespace(text):\n",
        "    # Regular expression matching whitespace:\n",
        "    _whitespace_re = re.compile(r\"\\s+\")\n",
        "    return re.sub(_whitespace_re, \" \", text)\n",
        "\n",
        "def process_mlt_text(text):\n",
        "    '''\n",
        "        process multilingual text for suitable MLT TTS format\n",
        "            * expand attributions\n",
        "            * numerize text\n",
        "            * tag sections of the text\n",
        "            * sequentially list text blocks\n",
        "            * Split based on sentence ending Characters\n",
        "\n",
        "    '''\n",
        "    # expand attributes\n",
        "    text=expand_full_attribution(text)\n",
        "    # english numbers to bangla conversion\n",
        "    res = re.search('[0-9]', text)\n",
        "    if res is not None:\n",
        "      text = bangla.convert_english_digit_to_bangla_digit(text)\n",
        "    # numerize text\n",
        "    text=numerize(text)\n",
        "    # tag sections\n",
        "    text=tag_text(text)\n",
        "\n",
        "    # text blocks\n",
        "    blocks=text.split(\"<SPLIT>\")\n",
        "    blocks=[b for b in blocks if b.strip()]\n",
        "    # create tuple of (lang,text)\n",
        "    data=[]\n",
        "    for block in blocks:\n",
        "        lang=None\n",
        "        if \"<bn>\" in block:\n",
        "            block=block.replace(\"<bn>\",'').replace(\"</bn>\",'')\n",
        "            lang=\"bn\"\n",
        "        elif \"<ar>\" in block:\n",
        "            block=block.replace(\"<ar>\",'').replace(\"</ar>\",'')\n",
        "            lang=\"ar\"\n",
        "    \n",
        "        #Split based on sentence ending Characters\n",
        "        if lang == \"bn\":\n",
        "            bn_text = block.strip()\n",
        "\n",
        "            sentenceEnders = re.compile('[।!?]')\n",
        "            sentences = sentenceEnders.split(str(bn_text))\n",
        "\n",
        "            for i in range(len(sentences)):\n",
        "                res = re.sub('\\n','',sentences[i])\n",
        "                res = collapse_whitespace(res)\n",
        "                res += '।'\n",
        "                data.append((lang,res))\n",
        "\n",
        "        elif lang == \"ar\":\n",
        "            ar_text = block.strip()\n",
        "            ar_text = re.sub(\"؟\", \"?\", ar_text) # replace any ؟ with ?\n",
        "\n",
        "            sentenceEnders = re.compile('[.!?]')\n",
        "            sentences = sentenceEnders.split(str(ar_text))\n",
        "\n",
        "            for i in range(len(sentences)):\n",
        "                res = re.sub('\\n','',sentences[i])\n",
        "                res = collapse_whitespace(res)\n",
        "                data.append((lang,res))\n",
        "    return data\n"
      ],
      "metadata": {
        "id": "js30thYvz5zC"
      },
      "execution_count": null,
      "outputs": []
    },
    {
      "cell_type": "code",
      "source": [
        "text = '''[1] الحَمد এর মধ্যে যে ال রয়েছে, তা استغراق (সমূদয়) অথবা اختصاص (নির্দিষ্টীকরণ)এর অর্থে ব্যবহার হয়েছে। \n",
        "অর্থাৎ, সমস্ত প্রশংসা আল্লাহর জন্যই বা তাঁর জন্য নির্দিষ্ট; কেননা প্রশংসার প্রকৃত অধিকারী একমাত্র মহান আল্লাহই।\n",
        " কারো মধ্যে যদি কোন গুণ, সৌন্দর্য এবং কৃতিত্ব থাকে, তবে তাও মহান আল্লাহ কর্তৃক সৃষ্ট। অতএব প্রশংসার অধিকারী তিনিই। \n",
        " ‘আল্লাহ’ শব্দটি মহান আল্লাহর সত্তার এমন এক সতন্ত্র নাম যার ব্যবহার অন্য কারো জন্য করা বৈধ নয়। \n",
        " ‘আলহামদু লিল্লাহ’ কৃতজ্ঞতা-জ্ঞাপক বাক্য। এর বহু ফযীলতের কথা হাদীসসমূহে এসেছে। \n",
        " একটি হাদীসে ‘লা-ইলাহা ইল্লাল্লা-হ’কে উত্তম জিকির বলা হয়েছে এবং ‘আলহামদু লিল্লাহ’কে উত্তম দুআ বলা হয়েছে। \n",
        " (তিরমিযী, নাসায়ী ইত্যাদি) সহীহ মুসলিম এবং নাসায়ীর বর্ণনায় এসেছে, ‘আলহামদু লিল্লাহ’ দাঁড়িপাল্লা ভর্তি করে দেয়।\n",
        "  এ জন্যই অন্য এক বর্ণনায় এসেছে যে, আল্লাহ এটা পছন্দ করেন যে, প্রত্যেক পানাহারের পর বান্দা তাঁর প্রশংসা করুক। \n",
        "  (সহীহ মুসলিম)[2] رَبّ মহান আল্লাহর সুন্দর নামসমূহের অন্যতম। যার অর্থ হল, প্রত্যেক জিনিসকে সৃষ্টি ক’রে তার প্রয়োজনীয় জিনিসের ব্যবস্থা ক’রে তাকে পরিপূর্ণতা দানকারী। \n",
        "  কোন জিনিসের প্রতি সম্বন্ধ (ইযাফত) না করে এর ব্যবহার অন্য কারো জন্য বৈধ নয়। عَالَمِيْن عَالَم (বিশ্ব-জাহান) শব্দের বহুবচন। তবে সকল সৃষ্টির সমষ্টিকে عَالَم বলা হয়। \n",
        "  এই জন্যেই এর বহুবচন ব্যবহার হয় না। কিন্তু এখানে তাঁর (আল্লাহর) পূর্ণ প্রতিপালকত্ব প্রকাশের জন্য এরও বহুবচন ব্যবহার করা হয়েছে। \n",
        "  এ থেকে উদ্দেশ্য হল, সৃষ্টির ভিন্ন ভিন্ন শ্রেণী বা সম্প্রদায়। যেমন, জ্বিন সম্প্রদায়, মানব সম্প্রদায়, ফিরিশ্তাকুল এবং জীব-জন্তু ও পশু-পক্ষীকুল ইত্যাদি। \n",
        "  এই সমস্ত সৃষ্টির প্রয়োজনসমূহও একে অপর থেকে অবশ্যই ভিন্নতর। কিন্তু বিশ্ব-প্রতিপালক প্রত্যেকের অবস্থা, \n",
        "  পরিস্থিতি এবং প্রকৃতি ও দেহ অনুযায়ী তার প্রয়োজনীয় জিনিসের ব্যবস্থা করে থাকেন।তাফসীরে আহসানুল বায়ান'''\n",
        "\n"
      ],
      "metadata": {
        "id": "zUT34soWykIY"
      },
      "execution_count": null,
      "outputs": []
    },
    {
      "cell_type": "code",
      "source": [
        "mlt_text = process_mlt_text(text)"
      ],
      "metadata": {
        "id": "-fn3mfmm2faS"
      },
      "execution_count": null,
      "outputs": []
    },
    {
      "cell_type": "code",
      "source": [
        "mlt_text"
      ],
      "metadata": {
        "colab": {
          "base_uri": "https://localhost:8080/"
        },
        "id": "whknFl_g29_B",
        "outputId": "25721ae5-96cc-4187-86bc-e7b5151315ee"
      },
      "execution_count": null,
      "outputs": [
        {
          "output_type": "execute_result",
          "data": {
            "text/plain": [
              "[('bn', '[এক]।'),\n",
              " ('ar', 'الحَمد'),\n",
              " ('bn', 'এর মধ্যে যে।'),\n",
              " ('ar', 'ال'),\n",
              " ('bn', 'রয়েছে, তা।'),\n",
              " ('ar', 'استغراق'),\n",
              " ('bn', '(সমূদয়) অথবা।'),\n",
              " ('ar', 'اختصاص'),\n",
              " ('bn', '(নির্দিষ্টীকরণ)এর অর্থে ব্যবহার হয়েছে।'),\n",
              " ('bn',\n",
              "  ' অর্থাৎ, সমস্ত প্রশংসা আল্লাহর জন্যই বা তাঁর জন্য নির্দিষ্ট; কেননা প্রশংসার প্রকৃত অধিকারী একমাত্র মহান আল্লাহই।'),\n",
              " ('bn',\n",
              "  ' কারো মধ্যে যদি কোন গুণ, সৌন্দর্য এবং কৃতিত্ব থাকে, তবে তাও মহান আল্লাহ কর্তৃক সৃষ্ট।'),\n",
              " ('bn', ' অতএব প্রশংসার অধিকারী তিনিই।'),\n",
              " ('bn',\n",
              "  ' ‘আল্লাহ’ শব্দটি মহান আল্লাহর সত্তার এমন এক সতন্ত্র নাম যার ব্যবহার অন্য কারো জন্য করা বৈধ নয়।'),\n",
              " ('bn', ' ‘আলহামদু লিল্লাহ’ কৃতজ্ঞতা-জ্ঞাপক বাক্য।'),\n",
              " ('bn', ' এর বহু ফযীলতের কথা হাদীসসমূহে এসেছে।'),\n",
              " ('bn',\n",
              "  ' একটি হাদীসে ‘লা-ইলাহা ইল্লাল্লা-হ’কে উত্তম জিকির বলা হয়েছে এবং ‘আলহামদু লিল্লাহ’কে উত্তম দুআ বলা হয়েছে।'),\n",
              " ('bn',\n",
              "  ' (তিরমিযী, নাসায়ী ইত্যাদি) সহীহ মুসলিম এবং নাসায়ীর বর্ণনায় এসেছে, ‘আলহামদু লিল্লাহ’ দাঁড়িপাল্লা ভর্তি করে দেয়।'),\n",
              " ('bn',\n",
              "  ' এ জন্যই অন্য এক বর্ণনায় এসেছে যে, আল্লাহ এটা পছন্দ করেন যে, প্রত্যেক পানাহারের পর বান্দা তাঁর প্রশংসা করুক।'),\n",
              " ('bn', ' (সহীহ মুসলিম)[দুই]।'),\n",
              " ('ar', 'رَبّ'),\n",
              " ('bn', 'মহান আল্লাহর সুন্দর নামসমূহের অন্যতম।'),\n",
              " ('bn',\n",
              "  ' যার অর্থ হল, প্রত্যেক জিনিসকে সৃষ্টি ক’রে তার প্রয়োজনীয় জিনিসের ব্যবস্থা ক’রে তাকে পরিপূর্ণতা দানকারী।'),\n",
              " ('bn',\n",
              "  ' কোন জিনিসের প্রতি সম্বন্ধ (ইযাফত) না করে এর ব্যবহার অন্য কারো জন্য বৈধ নয়।'),\n",
              " ('bn', '।'),\n",
              " ('ar', 'عَالَمِيْن عَالَم'),\n",
              " ('bn', '(বিশ্ব-জাহান) শব্দের বহুবচন।'),\n",
              " ('bn', ' তবে সকল সৃষ্টির সমষ্টিকে।'),\n",
              " ('ar', 'عَالَم'),\n",
              " ('bn', 'বলা হয়।'),\n",
              " ('bn', ' এই জন্যেই এর বহুবচন ব্যবহার হয় না।'),\n",
              " ('bn',\n",
              "  ' কিন্তু এখানে তাঁর (আল্লাহর) পূর্ণ প্রতিপালকত্ব প্রকাশের জন্য এরও বহুবচন ব্যবহার করা হয়েছে।'),\n",
              " ('bn', ' এ থেকে উদ্দেশ্য হল, সৃষ্টির ভিন্ন ভিন্ন শ্রেণী বা সম্প্রদায়।'),\n",
              " ('bn',\n",
              "  ' যেমন, জ্বিন সম্প্রদায়, মানব সম্প্রদায়, ফিরিশ্তাকুল এবং জীব-জন্তু ও পশু-পক্ষীকুল ইত্যাদি।'),\n",
              " ('bn', ' এই সমস্ত সৃষ্টির প্রয়োজনসমূহও একে অপর থেকে অবশ্যই ভিন্নতর।'),\n",
              " ('bn',\n",
              "  ' কিন্তু বিশ্ব-প্রতিপালক প্রত্যেকের অবস্থা, পরিস্থিতি এবং প্রকৃতি ও দেহ অনুযায়ী তার প্রয়োজনীয় জিনিসের ব্যবস্থা করে থাকেন।'),\n",
              " ('bn', 'তাফসীরে আহসানুল বায়ান।')]"
            ]
          },
          "metadata": {},
          "execution_count": 29
        }
      ]
    },
    {
      "cell_type": "code",
      "source": [
        "mlt_text[8][1]"
      ],
      "metadata": {
        "colab": {
          "base_uri": "https://localhost:8080/",
          "height": 35
        },
        "id": "rI82xy1Y3AOb",
        "outputId": "d439eaba-07c2-40f8-f757-6ec3d0018a58"
      },
      "execution_count": null,
      "outputs": [
        {
          "output_type": "execute_result",
          "data": {
            "text/plain": [
              "'(নির্দিষ্টীকরণ)এর অর্থে ব্যবহার হয়েছে'"
            ],
            "application/vnd.google.colaboratory.intrinsic+json": {
              "type": "string"
            }
          },
          "metadata": {},
          "execution_count": 21
        }
      ]
    },
    {
      "cell_type": "code",
      "source": [],
      "metadata": {
        "id": "paPcr1SI4dg0"
      },
      "execution_count": null,
      "outputs": []
    }
  ]
}